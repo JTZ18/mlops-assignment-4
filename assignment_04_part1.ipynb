{
 "cells": [
  {
   "cell_type": "markdown",
   "id": "f99a8a55",
   "metadata": {},
   "source": [
    "# Assignment 4: Instruction finetuning a Llama-2 7B model - part 1\n",
    "**Assignment due 19 April 11:59pm**\n",
    "\n",
    "Welcome to the fourth assignment for 50.055 Machine Learning Operations. These assignments give you a chance to practice the methods and tools you have learned. \n",
    "\n",
    "**This assignment is a group assignment.**\n",
    "\n",
    "- Read the instructions in this notebook carefully\n",
    "- Add your solution code and answers in the appropriate places. The questions are marked as **QUESTION:**, the places where you need to add your code and text answers are marked as **ADD YOUR SOLUTION HERE**\n",
    "- The completed notebook, including your added code and generated output will be your submission for the assignment.\n",
    "- The notebook should execute without errors from start to finish when you select \"Restart Kernel and Run All Cells..\". Please test this before submission.\n",
    "- Use the SUTD Education Cluster to solve and test the assignment.\n",
    "\n",
    "**Rubric for assessment** \n",
    "\n",
    "Your submission will be graded using the following criteria. \n",
    "1. Code executes: your code should execute without errors. The SUTD Education cluster should be used to ensure the same execution environment.\n",
    "2. Correctness: the code should produce the correct result or the text answer should state the factual correct answer.\n",
    "3. Style: your code should be written in a way that is clean and efficient. Your text answers should be relevant, concise and easy to understand.\n",
    "4. Partial marks will be awarded for partially correct solutions.\n",
    "5. There is a maximum of 200 (80 + 40 + 80) points for this assignment.\n",
    "\n",
    "**ChatGPT policy** \n",
    "\n",
    "If you use AI tools, such as ChatGPT, to solve the assignment questions, you need to be transparent about its use and mark AI-generated content as such. In particular, you should include the following in addition to your final answer:\n",
    "- A copy or screenshot of the prompt you used\n",
    "- The name of the AI model\n",
    "- The AI generated output\n",
    "- An explanation why the answer is correct or what you had to change to arrive at the correct answer\n",
    "\n",
    "**Assignment Notes:** Please make sure to save the notebook as you go along. Submission Instructions are located at the bottom of the notebook.\n",
    "\n"
   ]
  },
  {
   "cell_type": "markdown",
   "id": "dae5e449",
   "metadata": {},
   "source": [
    "### Finetuning LLMs\n",
    "\n",
    "The goal of the assignment is to build a chatbot that can talk to prospective students and answer questions about SUTD, similar to the chat-with-a-student function on the SUTD website (https://www.sutd.edu.sg/Admissions/chat)\n",
    "\n",
    "Instead of using a RAG approach, in this assignment, you will finetune an LLM to perform the task. We will fine-tune a LLama-2 7B LLM model on question-answer pairs which we synthetically generate with an LLM.\n",
    "\n",
    "We will  be leveraging `langchain`, `llama 2`, and `LoRA` again.\n",
    "\n",
    "Check out the docs:\n",
    "- [LangChain](https://docs.langchain.com/docs/)\n",
    "- [LLaMA 2](https://huggingface.co/blog/llama2)\n",
    "- [LoRA: Low-Rank Adaptation of Large Language Models](https://arxiv.org/abs/2106.09685)\n",
    "\n",
    "\n",
    "\n",
    "### Step 1: generate training data\n",
    "The first step of the assignment is generating synthetic question-answer pairs which can be used for finetuning an LLM model. \n",
    "To do this, we first load an LLM and the RAG question-answering system about SUTD from assignment 3. Ideally we would use a very accurate LLM, like GPT-4, to generate the\n",
    "the training data. For cost reasons, here we will use Llama-2 13B.\n",
    "\n",
    "You can check the Stanford Alpaca project for some examples on data generation: https://crfm.stanford.edu/2023/03/13/alpaca.html\n"
   ]
  },
  {
   "cell_type": "code",
   "execution_count": 1,
   "id": "4ec75011-c8ef-4c31-9766-2e3e9834684f",
   "metadata": {},
   "outputs": [
    {
     "name": "stdout",
     "output_type": "stream",
     "text": [
      "\n",
      "\u001b[1m[\u001b[0m\u001b[34;49mnotice\u001b[0m\u001b[1;39;49m]\u001b[0m\u001b[39;49m A new release of pip is available: \u001b[0m\u001b[31;49m23.2.1\u001b[0m\u001b[39;49m -> \u001b[0m\u001b[32;49m24.0\u001b[0m\n",
      "\u001b[1m[\u001b[0m\u001b[34;49mnotice\u001b[0m\u001b[1;39;49m]\u001b[0m\u001b[39;49m To update, run: \u001b[0m\u001b[32;49mpip install --upgrade pip\u001b[0m\n",
      "\n",
      "\u001b[1m[\u001b[0m\u001b[34;49mnotice\u001b[0m\u001b[1;39;49m]\u001b[0m\u001b[39;49m A new release of pip is available: \u001b[0m\u001b[31;49m23.2.1\u001b[0m\u001b[39;49m -> \u001b[0m\u001b[32;49m24.0\u001b[0m\n",
      "\u001b[1m[\u001b[0m\u001b[34;49mnotice\u001b[0m\u001b[1;39;49m]\u001b[0m\u001b[39;49m To update, run: \u001b[0m\u001b[32;49mpip install --upgrade pip\u001b[0m\n",
      "zsh:1: 0.3.1 not found\n",
      "\n",
      "\u001b[1m[\u001b[0m\u001b[34;49mnotice\u001b[0m\u001b[1;39;49m]\u001b[0m\u001b[39;49m A new release of pip is available: \u001b[0m\u001b[31;49m23.2.1\u001b[0m\u001b[39;49m -> \u001b[0m\u001b[32;49m24.0\u001b[0m\n",
      "\u001b[1m[\u001b[0m\u001b[34;49mnotice\u001b[0m\u001b[1;39;49m]\u001b[0m\u001b[39;49m To update, run: \u001b[0m\u001b[32;49mpip install --upgrade pip\u001b[0m\n",
      "\n",
      "\u001b[1m[\u001b[0m\u001b[34;49mnotice\u001b[0m\u001b[1;39;49m]\u001b[0m\u001b[39;49m A new release of pip is available: \u001b[0m\u001b[31;49m23.2.1\u001b[0m\u001b[39;49m -> \u001b[0m\u001b[32;49m24.0\u001b[0m\n",
      "\u001b[1m[\u001b[0m\u001b[34;49mnotice\u001b[0m\u001b[1;39;49m]\u001b[0m\u001b[39;49m To update, run: \u001b[0m\u001b[32;49mpip install --upgrade pip\u001b[0m\n",
      "\n",
      "\u001b[1m[\u001b[0m\u001b[34;49mnotice\u001b[0m\u001b[1;39;49m]\u001b[0m\u001b[39;49m A new release of pip is available: \u001b[0m\u001b[31;49m23.2.1\u001b[0m\u001b[39;49m -> \u001b[0m\u001b[32;49m24.0\u001b[0m\n",
      "\u001b[1m[\u001b[0m\u001b[34;49mnotice\u001b[0m\u001b[1;39;49m]\u001b[0m\u001b[39;49m To update, run: \u001b[0m\u001b[32;49mpip install --upgrade pip\u001b[0m\n",
      "\n",
      "\u001b[1m[\u001b[0m\u001b[34;49mnotice\u001b[0m\u001b[1;39;49m]\u001b[0m\u001b[39;49m A new release of pip is available: \u001b[0m\u001b[31;49m23.2.1\u001b[0m\u001b[39;49m -> \u001b[0m\u001b[32;49m24.0\u001b[0m\n",
      "\u001b[1m[\u001b[0m\u001b[34;49mnotice\u001b[0m\u001b[1;39;49m]\u001b[0m\u001b[39;49m To update, run: \u001b[0m\u001b[32;49mpip install --upgrade pip\u001b[0m\n",
      "\n",
      "\u001b[1m[\u001b[0m\u001b[34;49mnotice\u001b[0m\u001b[1;39;49m]\u001b[0m\u001b[39;49m A new release of pip is available: \u001b[0m\u001b[31;49m23.2.1\u001b[0m\u001b[39;49m -> \u001b[0m\u001b[32;49m24.0\u001b[0m\n",
      "\u001b[1m[\u001b[0m\u001b[34;49mnotice\u001b[0m\u001b[1;39;49m]\u001b[0m\u001b[39;49m To update, run: \u001b[0m\u001b[32;49mpip install --upgrade pip\u001b[0m\n",
      "\n",
      "\u001b[1m[\u001b[0m\u001b[34;49mnotice\u001b[0m\u001b[1;39;49m]\u001b[0m\u001b[39;49m A new release of pip is available: \u001b[0m\u001b[31;49m23.2.1\u001b[0m\u001b[39;49m -> \u001b[0m\u001b[32;49m24.0\u001b[0m\n",
      "\u001b[1m[\u001b[0m\u001b[34;49mnotice\u001b[0m\u001b[1;39;49m]\u001b[0m\u001b[39;49m To update, run: \u001b[0m\u001b[32;49mpip install --upgrade pip\u001b[0m\n",
      "\n",
      "\u001b[1m[\u001b[0m\u001b[34;49mnotice\u001b[0m\u001b[1;39;49m]\u001b[0m\u001b[39;49m A new release of pip is available: \u001b[0m\u001b[31;49m23.2.1\u001b[0m\u001b[39;49m -> \u001b[0m\u001b[32;49m24.0\u001b[0m\n",
      "\u001b[1m[\u001b[0m\u001b[34;49mnotice\u001b[0m\u001b[1;39;49m]\u001b[0m\u001b[39;49m To update, run: \u001b[0m\u001b[32;49mpip install --upgrade pip\u001b[0m\n",
      "\n",
      "\u001b[1m[\u001b[0m\u001b[34;49mnotice\u001b[0m\u001b[1;39;49m]\u001b[0m\u001b[39;49m A new release of pip is available: \u001b[0m\u001b[31;49m23.2.1\u001b[0m\u001b[39;49m -> \u001b[0m\u001b[32;49m24.0\u001b[0m\n",
      "\u001b[1m[\u001b[0m\u001b[34;49mnotice\u001b[0m\u001b[1;39;49m]\u001b[0m\u001b[39;49m To update, run: \u001b[0m\u001b[32;49mpip install --upgrade pip\u001b[0m\n"
     ]
    }
   ],
   "source": [
    "# Installing required packages\n",
    "# ----------------\n",
    "! pip install -q -U peft==0.6.2 transformers==4.35.2 datasets==2.15.0 bitsandbytes==0.41.2.post2 trl==0.7.4 accelerate==0.24.1 wandb==0.16.3\n",
    "! pip install -q -U langchain==0.1.13\n",
    "! pip install -q -U safetensors>=0.3.1\n",
    "! pip install -q -U faiss-cpu==1.7.4\n",
    "! pip install -q tiktoken==0.6.0\n",
    "! pip install -q sentence-transformers==2.3.1\n",
    "! pip install -q pypdf==4.0.1\n",
    "! pip install -q protobuf==4.25.2\n",
    "! pip install -q lxml==5.1.0\n",
    "! pip install -q rouge_score==0.1.2\n",
    "! pip install -q beautifulsoup4\n",
    "# ----------------"
   ]
  },
  {
   "cell_type": "code",
   "execution_count": 2,
   "id": "1447f3a6",
   "metadata": {},
   "outputs": [
    {
     "name": "stderr",
     "output_type": "stream",
     "text": [
      "/home/jon/Code/school/t8/mlops-assignment-4/venv/lib/python3.11/site-packages/tqdm/auto.py:21: TqdmWarning: IProgress not found. Please update jupyter and ipywidgets. See https://ipywidgets.readthedocs.io/en/stable/user_install.html\n",
      "  from .autonotebook import tqdm as notebook_tqdm\n",
      "/home/jon/Code/school/t8/mlops-assignment-4/venv/lib/python3.11/site-packages/transformers/utils/generic.py:441: UserWarning: torch.utils._pytree._register_pytree_node is deprecated. Please use torch.utils._pytree.register_pytree_node instead.\n",
      "  _torch_pytree._register_pytree_node(\n",
      "/home/jon/Code/school/t8/mlops-assignment-4/venv/lib/python3.11/site-packages/transformers/utils/generic.py:309: UserWarning: torch.utils._pytree._register_pytree_node is deprecated. Please use torch.utils._pytree.register_pytree_node instead.\n",
      "  _torch_pytree._register_pytree_node(\n",
      "/home/jon/Code/school/t8/mlops-assignment-4/venv/lib/python3.11/site-packages/transformers/utils/generic.py:309: UserWarning: torch.utils._pytree._register_pytree_node is deprecated. Please use torch.utils._pytree.register_pytree_node instead.\n",
      "  _torch_pytree._register_pytree_node(\n"
     ]
    }
   ],
   "source": [
    "# Importing required packages\n",
    "# ----------------\n",
    "from langchain.text_splitter import RecursiveCharacterTextSplitter\n",
    "from langchain.embeddings import CacheBackedEmbeddings, HuggingFaceEmbeddings\n",
    "from langchain.document_loaders import PyPDFLoader\n",
    "from langchain.vectorstores import FAISS\n",
    "from langchain.storage import LocalFileStore\n",
    "from langchain.llms import HuggingFacePipeline\n",
    "from langchain.callbacks import StdOutCallbackHandler\n",
    "from langchain_community.document_loaders import BSHTMLLoader\n",
    "from langchain_core.prompts import PromptTemplate\n",
    "from langchain_core.output_parsers import StrOutputParser\n",
    "from langchain_core.runnables import RunnablePassthrough\n",
    "from langchain_core.output_parsers import JsonOutputParser\n",
    "\n",
    "from transformers import AutoTokenizer, AutoConfig, AutoModelForCausalLM, BitsAndBytesConfig, pipeline\n",
    "from datasets import load_dataset, Dataset\n",
    "from rouge_score import rouge_scorer\n",
    "\n",
    "import torch\n",
    "import re\n",
    "import os\n",
    "import pickle\n",
    "# ----------------\n"
   ]
  },
  {
   "cell_type": "markdown",
   "id": "54deb3ed",
   "metadata": {},
   "source": [
    "# SUTD Question Answering RAG system \n",
    "First, we set up the basic RAG system on SUTD content, as you have explored in assignment 3."
   ]
  },
  {
   "cell_type": "code",
   "execution_count": 38,
   "id": "c161e0b2",
   "metadata": {},
   "outputs": [
    {
     "name": "stdout",
     "output_type": "stream",
     "text": [
      "File ‘data/SUTD_AnnualReport_2022_23.pdf’ already there; not retrieving.\n",
      "\n",
      "File ‘data/SUTD_AnnualReport_2021.pdf’ already there; not retrieving.\n",
      "\n",
      "File ‘data/SUTD_AnnualReport_2020.pdf’ already there; not retrieving.\n",
      "\n"
     ]
    }
   ],
   "source": [
    "# Download SUTD's annual reports\n",
    "! mkdir -p ./data\n",
    "\n",
    "! wget -nc -P data https://www.sutd.edu.sg/SUTD/media/SUTD/SUTD_AnnualReport_2022_23.pdf\n",
    "! wget -nc -P data https://www.sutd.edu.sg/SUTD/media/SUTD/SUTD_AnnualReport_2021.pdf\n",
    "! wget -nc -P data https://www.sutd.edu.sg/SUTD/media/SUTD/SUTD_AnnualReport_2020.pdf\n"
   ]
  },
  {
   "cell_type": "code",
   "execution_count": 39,
   "id": "70f76966",
   "metadata": {},
   "outputs": [
    {
     "name": "stdout",
     "output_type": "stream",
     "text": [
      "  % Total    % Received % Xferd  Average Speed   Time    Time     Time  Current\n",
      "                                 Dload  Upload   Total   Spent    Left  Speed\n",
      "100  512k    0  512k    0     0  2517k      0 --:--:-- --:--:-- --:--:-- 2525k\n",
      "  % Total    % Received % Xferd  Average Speed   Time    Time     Time  Current\n",
      "                                 Dload  Upload   Total   Spent    Left  Speed\n",
      "100  515k    0  515k    0     0  3406k      0 --:--:-- --:--:-- --:--:-- 3413k\n",
      "  % Total    % Received % Xferd  Average Speed   Time    Time     Time  Current\n",
      "                                 Dload  Upload   Total   Spent    Left  Speed\n",
      "100  519k    0  519k    0     0  4459k      0 --:--:-- --:--:-- --:--:-- 4480k\n",
      "  % Total    % Received % Xferd  Average Speed   Time    Time     Time  Current\n",
      "                                 Dload  Upload   Total   Spent    Left  Speed\n",
      "100  518k    0  518k    0     0  4374k      0 --:--:-- --:--:-- --:--:-- 4390k\n",
      "  % Total    % Received % Xferd  Average Speed   Time    Time     Time  Current\n",
      "                                 Dload  Upload   Total   Spent    Left  Speed\n",
      "100  516k    0  516k    0     0  3753k      0 --:--:-- --:--:-- --:--:-- 3770k\n",
      "  % Total    % Received % Xferd  Average Speed   Time    Time     Time  Current\n",
      "                                 Dload  Upload   Total   Spent    Left  Speed\n",
      "100  518k    0  518k    0     0  3033k      0 --:--:-- --:--:-- --:--:-- 3049k\n",
      "  % Total    % Received % Xferd  Average Speed   Time    Time     Time  Current\n",
      "                                 Dload  Upload   Total   Spent    Left  Speed\n",
      "100  524k    0  524k    0     0  3979k      0 --:--:-- --:--:-- --:--:-- 4005k\n"
     ]
    }
   ],
   "source": [
    "# Download html files from SUTD website\n",
    "! curl --output data/Admission-Requirements.html https://www.sutd.edu.sg/Admissions/Undergraduate/Application/Admission-Requirements\n",
    "! curl --output data/Application-Timeline.html https://www.sutd.edu.sg/Admissions/Undergraduate/Application/Application-Timeline\n",
    "! curl --output data/Singapore-Cambridge-GCE-A-Level.html https://www.sutd.edu.sg/Admissions/Undergraduate/Application/Admission-Requirements/Singapore-Cambridge-GCE-A-Level\n",
    "! curl --output data/Local-Diploma.html https://www.sutd.edu.sg/Admissions/Undergraduate/Application/Admission-Requirements/Local-Diploma\n",
    "! curl --output data/NUS-High-School-Diploma.html https://www.sutd.edu.sg/Admissions/Undergraduate/Application/Admission-Requirements/NUS-High-School-Diploma\n",
    "! curl --output data/International-Baccalaureate-Diploma.html https://www.sutd.edu.sg/Admissions/Undergraduate/Application/Admission-Requirements/International-Baccalaureate-Diploma-\\(Singapore\\)\n",
    "! curl --output data/International-Qualifications.html https://www.sutd.edu.sg/Admissions/Undergraduate/Application/Admission-Requirements/International-Qualifications"
   ]
  },
  {
   "cell_type": "code",
   "execution_count": 3,
   "id": "810d2d23",
   "metadata": {},
   "outputs": [
    {
     "name": "stdout",
     "output_type": "stream",
     "text": [
      "Load file SUTD_AnnualReport_2020.pdf\n",
      "Load file SUTD_AnnualReport_2021.pdf\n",
      "Load file SUTD_AnnualReport_2022_23.pdf\n",
      "Load file Admission-Requirements.html\n",
      "Load file Application-Timeline.html\n",
      "Load file Singapore-Cambridge-GCE-A-Level.html\n",
      "Load file Local-Diploma.html\n",
      "Load file NUS-High-School-Diploma.html\n",
      "Load file International-Baccalaureate-Diploma.html\n",
      "Load file International-Qualifications.html\n",
      "# of Document Pages 148\n",
      "# of Document Chunks: 1042\n"
     ]
    }
   ],
   "source": [
    "# Load the PDF documents and HTML files. Then use LangChain to split the documents into smaller text chunks.\n",
    "data_root = \"./data/\"\n",
    "\n",
    "pdf_filenames = [\n",
    "    'SUTD_AnnualReport_2020.pdf',\n",
    "    'SUTD_AnnualReport_2021.pdf',\n",
    "    'SUTD_AnnualReport_2022_23.pdf',\n",
    "]\n",
    "\n",
    "html_filenames = [\n",
    "    'Admission-Requirements.html',\n",
    "    'Application-Timeline.html',\n",
    "    'Singapore-Cambridge-GCE-A-Level.html',\n",
    "    'Local-Diploma.html',\n",
    "    'NUS-High-School-Diploma.html',\n",
    "    'International-Baccalaureate-Diploma.html',\n",
    "    'International-Qualifications.html'\n",
    "]\n",
    "\n",
    "pdf_metadata = [\n",
    "    dict(year=2020, source=pdf_filenames[0]),\n",
    "    dict(year=2021, source=pdf_filenames[1]),\n",
    "    dict(year=2023, source=pdf_filenames[2])\n",
    "]\n",
    "\n",
    "html_metadata = [\n",
    "    dict(year=2024, source=html_filenames[0]),\n",
    "    dict(year=2024, source=html_filenames[1]),\n",
    "    dict(year=2024, source=html_filenames[2]),\n",
    "    dict(year=2024, source=html_filenames[3]),\n",
    "    dict(year=2024, source=html_filenames[4]),\n",
    "    dict(year=2024, source=html_filenames[5]),\n",
    "    dict(year=2024, source=html_filenames[6])\n",
    "]\n",
    "\n",
    "# load pdf files, attach meta data\n",
    "documents = []\n",
    "for idx, file in enumerate(pdf_filenames):\n",
    "    print(\"Load file\", file)\n",
    "    loader = PyPDFLoader(data_root + file)\n",
    "    document = loader.load()\n",
    "    for document_fragment in document:\n",
    "        document_fragment.metadata = pdf_metadata[idx]\n",
    "    documents += document\n",
    "\n",
    "# load html files, attach meta data\n",
    "for idx, file in enumerate(html_filenames):\n",
    "    print(\"Load file\", file)\n",
    "    loader = BSHTMLLoader(data_root + file)\n",
    "    document = loader.load()\n",
    "    for document_fragment in document:\n",
    "        # remove duplicate whitespace\n",
    "        document_fragment.page_content = repr(re.sub(r\"(?<=\\n)(\\s+)\",r\" \", document_fragment.page_content))\n",
    "        document_fragment.metadata = html_metadata[idx]\n",
    "    documents += document\n",
    "\n",
    "text_splitter = RecursiveCharacterTextSplitter.from_tiktoken_encoder(\n",
    "    chunk_size=200,\n",
    "    chunk_overlap=10\n",
    ")\n",
    "\n",
    "docs = text_splitter.split_documents(documents)\n",
    "\n",
    "print(f'# of Document Pages {len(documents)}')\n",
    "print(f'# of Document Chunks: {len(docs)}')"
   ]
  },
  {
   "cell_type": "code",
   "execution_count": 4,
   "id": "d55752bb",
   "metadata": {},
   "outputs": [
    {
     "name": "stderr",
     "output_type": "stream",
     "text": [
      "/home/jon/Code/school/t8/mlops-assignment-4/venv/lib/python3.11/site-packages/transformers/utils/generic.py:309: UserWarning: torch.utils._pytree._register_pytree_node is deprecated. Please use torch.utils._pytree.register_pytree_node instead.\n",
      "  _torch_pytree._register_pytree_node(\n"
     ]
    }
   ],
   "source": [
    "# Create embeddings of document chunks and store them in vector store for fast lookup\n",
    "store = LocalFileStore(\"./cache/\")\n",
    "\n",
    "embed_model_id = 'sentence-transformers/all-MiniLM-L6-v2'\n",
    "\n",
    "core_embeddings_model = HuggingFaceEmbeddings(\n",
    "    model_name=embed_model_id\n",
    ")\n",
    "\n",
    "embedder = CacheBackedEmbeddings.from_bytes_store(\n",
    "    core_embeddings_model, store, namespace=embed_model_id\n",
    ")\n",
    "\n",
    "vector_store = FAISS.from_documents(docs, embedder)"
   ]
  },
  {
   "cell_type": "code",
   "execution_count": 5,
   "id": "976ead44",
   "metadata": {},
   "outputs": [
    {
     "name": "stderr",
     "output_type": "stream",
     "text": [
      "Loading checkpoint shards: 100%|██████████| 3/3 [02:20<00:00, 46.89s/it]\n",
      "/home/jon/Code/school/t8/mlops-assignment-4/venv/lib/python3.11/site-packages/transformers/generation/configuration_utils.py:381: UserWarning: `do_sample` is set to `False`. However, `temperature` is set to `0.9` -- this flag is only used in sample-based generation modes. You should set `do_sample=True` or unset `temperature`. This was detected when initializing the generation config instance, which means the corresponding file may hold incorrect parameterization and should be fixed.\n",
      "  warnings.warn(\n",
      "/home/jon/Code/school/t8/mlops-assignment-4/venv/lib/python3.11/site-packages/transformers/generation/configuration_utils.py:386: UserWarning: `do_sample` is set to `False`. However, `top_p` is set to `0.6` -- this flag is only used in sample-based generation modes. You should set `do_sample=True` or unset `top_p`. This was detected when initializing the generation config instance, which means the corresponding file may hold incorrect parameterization and should be fixed.\n",
      "  warnings.warn(\n"
     ]
    }
   ],
   "source": [
    "# Load Llama-2 13B LLM model\n",
    "\n",
    "model_id = \"NousResearch/Llama-2-13b-chat-hf\"\n",
    "\n",
    "bnb_config = BitsAndBytesConfig(\n",
    "    load_in_4bit=True,\n",
    "    bnb_4bit_quant_type='nf4',\n",
    "    bnb_4bit_use_double_quant=True,\n",
    "    bnb_4bit_compute_dtype=torch.bfloat16\n",
    ")\n",
    "\n",
    "model_config = AutoConfig.from_pretrained(\n",
    "    model_id\n",
    ")\n",
    "\n",
    "model = AutoModelForCausalLM.from_pretrained(\n",
    "    model_id,\n",
    "    trust_remote_code=True,\n",
    "    config=model_config,\n",
    "    quantization_config=bnb_config,\n",
    "    device_map='auto'\n",
    ")\n",
    "\n",
    "tokenizer = AutoTokenizer.from_pretrained(model_id)\n"
   ]
  },
  {
   "cell_type": "code",
   "execution_count": 6,
   "id": "d5b7830e-a3a5-43c1-913a-8fe9edf81b73",
   "metadata": {},
   "outputs": [
    {
     "name": "stderr",
     "output_type": "stream",
     "text": [
      "/home/jon/Code/school/t8/mlops-assignment-4/venv/lib/python3.11/site-packages/transformers/generation/utils.py:1473: UserWarning: You have modified the pretrained model configuration to control generation. This is a deprecated strategy to control generation and will be removed soon, in a future version. Please use and modify the model generation configuration (see https://huggingface.co/docs/transformers/generation_strategies#default-text-generation-configuration )\n",
      "  warnings.warn(\n",
      "/home/jon/Code/school/t8/mlops-assignment-4/venv/lib/python3.11/site-packages/transformers/generation/utils.py:1591: UserWarning: You are calling .generate() with the `input_ids` being on a device type different than your model's device. `input_ids` is on cpu, whereas the model is on cuda. You may experience unexpected behaviors or slower generation. Please make sure that you have put `input_ids` to the correct device by calling for example input_ids = input_ids.to('cuda') before running `.generate()`.\n",
      "  warnings.warn(\n"
     ]
    },
    {
     "name": "stdout",
     "output_type": "stream",
     "text": [
      "['Today was an amazing day because we got to see and experience some incredible wildlife! We started our day early and headed out to the Gullfoss river, where we saw a pod of beluga whales swimming in the shallow waters. It was such a magical moment, and we felt so lucky to be able to see these beautiful creatures up close.\\nNext, we headed to the volcanic area of Hafrafjall, where we saw some amazing geys']\n"
     ]
    }
   ],
   "source": [
    "# check that the model can generate text\n",
    "prompt = \"Today was an amazing day because\"\n",
    "inputs = tokenizer(prompt, return_tensors=\"pt\")\n",
    "\n",
    "outputs = model.generate(**inputs, do_sample=True, num_beams=1, max_new_tokens=100)\n",
    "print(tokenizer.batch_decode(outputs, skip_special_tokens=True))"
   ]
  },
  {
   "cell_type": "code",
   "execution_count": 7,
   "id": "468a3864",
   "metadata": {},
   "outputs": [],
   "source": [
    "# Create a text generation pipeline with the LLM model\n",
    "generate_text = pipeline(\n",
    "    model=model,\n",
    "    tokenizer=tokenizer,\n",
    "    task=\"text-generation\",\n",
    "    return_full_text=False,\n",
    "    temperature=0.5,\n",
    "    do_sample=True,\n",
    "    max_new_tokens=500\n",
    ")\n",
    "\n",
    "llm = HuggingFacePipeline(pipeline=generate_text)"
   ]
  },
  {
   "cell_type": "code",
   "execution_count": 8,
   "id": "e22f0038",
   "metadata": {},
   "outputs": [],
   "source": [
    "# instantiate retriever model and callback handler for QA results\n",
    "retriever = vector_store.as_retriever()\n",
    "handler = StdOutCallbackHandler()"
   ]
  },
  {
   "cell_type": "code",
   "execution_count": 9,
   "id": "1034a08d-09ce-440d-b7ba-1fffe3bb62c5",
   "metadata": {},
   "outputs": [],
   "source": [
    "# build RAG question answering chain with a custom prompt template\n",
    "\n",
    "template = \"\"\"You are a helpful assistant. Use the following pieces of context to answer the question at the end.\n",
    "Answer the following questions about the Singapore University of Technology and Design (SUTD).\n",
    "Use three sentences maximum and keep the answer as concise as possible.\n",
    "\n",
    "Context: {context}\n",
    "\n",
    "Question: {question}\n",
    "\n",
    "Helpful Answer:\"\"\"\n",
    "custom_rag_prompt = PromptTemplate.from_template(template)\n",
    "\n",
    "\n",
    "def format_docs(docs):\n",
    "    docs_str = \"\\n\\n\".join(doc.page_content for doc in docs)\n",
    "    # print(docs_str)\n",
    "    return docs_str\n",
    "\n",
    "rag_chain = (\n",
    "    {\"context\": retriever | format_docs, \"question\": RunnablePassthrough()}\n",
    "    | custom_rag_prompt\n",
    "    | llm\n",
    "    | StrOutputParser()\n",
    ")"
   ]
  },
  {
   "cell_type": "code",
   "execution_count": 10,
   "id": "4f020cad",
   "metadata": {},
   "outputs": [
    {
     "data": {
      "text/plain": [
       "' SUTD has a variety of student organizations and clubs available on campus, including academic clubs, cultural clubs, sports clubs, and community service clubs. These clubs provide students with opportunities to develop their skills, pursue their interests, and connect with their peers and the wider community. Some examples of student organizations and clubs at SUTD include the SUTD Student Council, the SUTD Robotics Club, and the SUTD Photography Club.'"
      ]
     },
     "execution_count": 10,
     "metadata": {},
     "output_type": "execute_result"
    }
   ],
   "source": [
    "# Test RAG with example question\n",
    "rag_chain.invoke(\"What types of student organizations and clubs are available on campus?\")"
   ]
  },
  {
   "cell_type": "markdown",
   "id": "4446de9e-2698-44b6-8478-7575db0fdf98",
   "metadata": {},
   "source": [
    "Great, we have a working LLM and RAG system about SUTD. Now it is time to generate some data."
   ]
  },
  {
   "cell_type": "code",
   "execution_count": 11,
   "id": "54333e2b-a0f4-4c9d-9c90-42dfbbc9a0b2",
   "metadata": {},
   "outputs": [
    {
     "name": "stdout",
     "output_type": "stream",
     "text": [
      "Return a JSON object.\n"
     ]
    }
   ],
   "source": [
    "\n",
    "# QUESTION: When generating data with LLMs, it is helpful to parse the LLLM output into structured data formats.\n",
    "# Create a JsonOutputParser from langchain. Name the variable 'output_parser'. Print the format instructions that come with the parser.\n",
    "\n",
    "#--- ADD YOUR SOLUTION HERE (5 points)---\n",
    "from langchain_core.output_parsers import JsonOutputParser\n",
    "\n",
    "output_parser = JsonOutputParser()\n",
    "print(output_parser.get_format_instructions())\n",
    "\n",
    "#---------------------------------\n",
    "\n"
   ]
  },
  {
   "cell_type": "code",
   "execution_count": 12,
   "id": "45ee57ba-d3e2-45bd-9bc6-c7eeb354b926",
   "metadata": {},
   "outputs": [],
   "source": [
    "# When generating data, it is often helpful to guide the generation process through some hierachical structure.\n",
    "# Before we create question-answer pairs, let's generate some topics which the questions should be about.\n",
    "\n",
    "# QUESTION: Create a function 'generate_topics' which takes an integer n_length as input and outputs a dictionary with key 'topics'\n",
    "# and as value a list of n_length topics which prospective students might care about such as financial aid, campus life etc.\n",
    "# Use the LLM and an appropriate prompt to generate these topics and the Json parser to parse the LLM output (use the format instructions).\n",
    "# Make sure your function is robust to non well-formed LLM output.\n",
    "\n",
    "# REFERENCE: https://python.langchain.com/docs/modules/model_io/output_parsers/types/json/\n",
    "\n",
    "#--- ADD YOUR SOLUTION HERE (20 points)---\n",
    "from langchain_core.pydantic_v1 import BaseModel, Field\n",
    "from typing import List\n",
    "# Define your desired data structure.\n",
    "class Data(BaseModel):\n",
    "    \"\"\"Data to be generated\"\"\"\n",
    "    topics: List[str] = Field(description=\"Topics prospective students might care about\")\n",
    "\n",
    "def extract_json_str(ai_message) -> str:\n",
    "    message = ai_message.content\n",
    "    # Find the first occurrence of '{' and the last occurrence of '}'\n",
    "    start = message.find('{')\n",
    "    end = message.rfind('}') + 1  # '+ 1' to include the '}' in the slice\n",
    "\n",
    "    # Extract the substring between these indices\n",
    "    json_str = message[start:end]\n",
    "\n",
    "    return json_str\n",
    "\n",
    "def generate_topics(n_length):\n",
    "    template = \"\"\"###[INST]\n",
    "    Generate {n_length} topics that prospective students of the Singapore University of Technology & Design (SUTD) might care about.\n",
    "    Ensure your output generation is in a structured JSON format with key topics and value as a list of {n_length} topics.\n",
    "    {format_instructions}\n",
    "    ### Response\n",
    "    \"\"\"\n",
    "    prompt = PromptTemplate.from_template(template)\n",
    "\n",
    "    output_parser = JsonOutputParser(pydantic_object=Data)\n",
    "\n",
    "    instructions = f\"\"\"\n",
    "    You are to only generate a single JSON output and nothing else. Do not explain your answer. The format should be as such -\n",
    "    {output_parser.get_format_instructions()}.\"\"\"\n",
    "\n",
    "    chain = prompt | llm | output_parser\n",
    "    output = chain.invoke({\"n_length\": str(n_length), \"format_instructions\": instructions})\n",
    "    return output[0]\n",
    "\n",
    "#---------------------------------"
   ]
  },
  {
   "cell_type": "code",
   "execution_count": 13,
   "id": "cc7efb98-7b40-4230-9eda-f344b4d4e4a7",
   "metadata": {},
   "outputs": [
    {
     "name": "stdout",
     "output_type": "stream",
     "text": [
      "File with topics exists. Read topics from file..\n",
      "{'topics': ['Curriculum and Academic Programs', 'Campus Life and Student Activities', 'Housing and Residential Options', 'Career Services and Internship Opportunities', 'Research Facilities and Labs', 'Faculty Expertise and Achievements', 'Tuition Fees and Financial Aid', 'Student Diversity and Inclusion', 'Study Abroad and Exchange Programs', 'Entrepreneurship and Innovation Support', 'Sustainability Initiatives', 'Student Clubs and Organizations', 'Sports and Recreation Facilities', 'Alumni Network and Mentorship', 'Interdisciplinary Collaborations', 'Industry Partnerships and Projects', 'Maker Spaces and Design Studios', 'Mental Health and Wellness Resources', 'Community Engagement and Service Learning', 'Campus Safety and Security']}\n"
     ]
    }
   ],
   "source": [
    "# Now let's generate a list of 20 topics\n",
    "# We save a copy to disk and reload it from there if the file exists\n",
    "\n",
    "\n",
    "# generate topics\n",
    "if os.path.exists(\"./part1-outputs/topics.txt\"):\n",
    "    print(\"File with topics exists. Read topics from file..\")\n",
    "    with open(\"./part1-outputs/topics.txt\", \"r\") as fin:\n",
    "        topics = {\"topics\": fin.read().splitlines()}\n",
    "else:\n",
    "    print(\"Generate topics..\")\n",
    "    n_topics = 20\n",
    "    topics = generate_topics(n_topics)\n",
    "    with open(\"./part1-outputs/topics.txt\", \"w\") as fout:\n",
    "        fout.write(\"\\n\".join(topics['topics']))\n",
    "print(topics)\n"
   ]
  },
  {
   "cell_type": "code",
   "execution_count": 14,
   "id": "85706c9c-593d-459c-b86e-4011500cff05",
   "metadata": {},
   "outputs": [],
   "source": [
    "# Now we need another function to generate questions for the topics.\n",
    "\n",
    "# QUESTION: Create a function 'generate_questions' which a topic string and takes an integer n_length as input and outputs a dictionary with key 'questions'\n",
    "# and as value a list of at least n_length questions which prospective students might have about this topic.\n",
    "# Again, use the LLM and an appropriate prompt and the Json parser to parse the LLM output (use the format instructions).\n",
    "# Make sure your function is robust to non well-formed LLM output.\n",
    "\n",
    "#--- ADD YOUR SOLUTION HERE (20 points)---\n",
    "class QuestionsData(BaseModel):\n",
    "    \"\"\"Data to be generated\"\"\"\n",
    "    questions: List[str] = Field(description=\"Questions prospective SUTD University students might have about the topic\")\n",
    "\n",
    "def generate_questions(topic, n_length):\n",
    "    template = \"\"\"### Instruction\n",
    "    Generate {n_length} questions that prospective students of the Singapore University of Technology & Design (SUTD) might have about the topic {topic}.\n",
    "    Your output must be a structured JSON format with key 'questions' and value as a list of {n_length} questions.\n",
    "    Ensure that there is diversity in the generated questions. They must not be similar to one another.\n",
    "    {format_instructions}\n",
    "    ### Response\n",
    "    \"\"\"\n",
    "\n",
    "    output_parser = JsonOutputParser(pydantic_object=QuestionsData)\n",
    "\n",
    "    instructions = f\"\"\"\n",
    "    You are to only generate a single JSON output and nothing else. Do not explain your answer. The format should be as such -\n",
    "    {output_parser.get_format_instructions()}.\"\"\"\n",
    "\n",
    "    prompt = PromptTemplate(\n",
    "        template=template,\n",
    "        input_variables=[\"topic\", \"n_length\"],\n",
    "        partial_variables={\"format_instructions\": instructions},\n",
    "    )\n",
    "\n",
    "    chain = prompt | llm | output_parser\n",
    "    output = chain.invoke({\"topic\": topic, \"n_length\": str(n_length)})\n",
    "    return output\n",
    "\n",
    "#---------------------------------"
   ]
  },
  {
   "cell_type": "code",
   "execution_count": 16,
   "id": "879af438-7482-4b66-ba7a-a888e554df5e",
   "metadata": {},
   "outputs": [
    {
     "name": "stdout",
     "output_type": "stream",
     "text": [
      "File with questions for topic Curriculum and Academic Programs exists and has content. Read questions from file..\n",
      "File with questions for topic Campus Life and Student Activities exists and has content. Read questions from file..\n",
      "File with questions for topic Housing and Residential Options exists and has content. Read questions from file..\n",
      "File with questions for topic Career Services and Internship Opportunities exists and has content. Read questions from file..\n",
      "File with questions for topic Research Facilities and Labs exists and has content. Read questions from file..\n",
      "File with questions for topic Faculty Expertise and Achievements exists and has content. Read questions from file..\n",
      "File with questions for topic Tuition Fees and Financial Aid exists and has content. Read questions from file..\n",
      "File with questions for topic Student Diversity and Inclusion exists and has content. Read questions from file..\n",
      "File with questions for topic Study Abroad and Exchange Programs exists and has content. Read questions from file..\n",
      "File with questions for topic Entrepreneurship and Innovation Support exists and has content. Read questions from file..\n",
      "File with questions for topic Sustainability Initiatives exists and has content. Read questions from file..\n",
      "File with questions for topic Student Clubs and Organizations exists and has content. Read questions from file..\n",
      "File with questions for topic Sports and Recreation Facilities exists and has content. Read questions from file..\n",
      "File with questions for topic Alumni Network and Mentorship exists and has content. Read questions from file..\n",
      "File with questions for topic Interdisciplinary Collaborations exists and has content. Read questions from file..\n",
      "File with questions for topic Industry Partnerships and Projects exists and has content. Read questions from file..\n",
      "File with questions for topic Maker Spaces and Design Studios exists and has content. Read questions from file..\n",
      "File with questions for topic Mental Health and Wellness Resources exists and has content. Read questions from file..\n",
      "File with questions for topic Community Engagement and Service Learning exists and has content. Read questions from file..\n",
      "File with questions for topic Campus Safety and Security exists and has content. Read questions from file..\n",
      "200\n"
     ]
    }
   ],
   "source": [
    "# Now let's generate some questions for the topics.\n",
    "\n",
    "# QUESTION: For every topic, generate at least 10 questions.\n",
    "# LLM generation can take time, save intermediate results to disk and reload them if necessary to speed up subsequent runs.\n",
    "# Store all questions in a list of strings 'questions_all'\n",
    "# Extra points: check that there is diversity in the generated questions, i.e. they are not all the same or too similar.\n",
    "# You can achieve this by checking that questions are not too similar to each other\n",
    "\n",
    "n_questions_per_topic = 10\n",
    "questions_all = []\n",
    "\n",
    "\n",
    "\n",
    "#--- ADD YOUR SOLUTION HERE (20 points)---\n",
    "import re\n",
    "import json\n",
    "\n",
    "def save_questions_to_file(topics: list, n_questions_per_topic: int):\n",
    "    questions_lst = []\n",
    "\n",
    "    for idx, topic in enumerate(topics):\n",
    "        print(f\"Topic {idx+1} -\")\n",
    "\n",
    "        # Set filename\n",
    "        filename = f\"./part1-outputs/questions_{topic}.txt\"\n",
    "\n",
    "        # Check if file exists\n",
    "        if os.path.exists(filename) and os.stat(filename).st_size > 0:\n",
    "          print(f\"File with questions for topic {topic} exists and has content. Read questions from file..\")\n",
    "          with open(filename, \"r\") as fin:\n",
    "              questions = fin.read().splitlines()\n",
    "\n",
    "        else:\n",
    "            # Try and except block to handle errors from JSONDecodeError\n",
    "            try:\n",
    "                # Generate questions using LLM\n",
    "                print(f\"Generate questions for topic {topic}..\")\n",
    "                data = generate_questions(topic, n_questions_per_topic) # Failure Point\n",
    "                print(data)\n",
    "\n",
    "                # Extract questions from JSON\n",
    "                questions = data['properties']['questions']\n",
    "\n",
    "                # Keep track of number of questions\n",
    "                print(f\"Total number of questions for topic {topic}: {len(questions)}\", end=\"\\n\\n\")\n",
    "\n",
    "                # Write to file to save the questions\n",
    "                with open(filename, \"w\") as fout:\n",
    "                    fout.write(\"\\n\".join(questions))\n",
    "\n",
    "            except Exception as e:\n",
    "                # Handle the error from JSONDecodeError\n",
    "                print(f\"Exception Encountered: {e}\")\n",
    "\n",
    "                # Extract the JSON str from the exception output using regex and obtain as dict\n",
    "                message = str(e)\n",
    "                json_str = re.findall(r'\\{.*?\\}', message)\n",
    "                data = json.loads(json_str)\n",
    "                print(data, end=\"\\n\\n\")\n",
    "\n",
    "                # Extract questions from JSON\n",
    "                questions = data['properties']['questions']\n",
    "\n",
    "                # Keep track of number of questions\n",
    "                print(f\"Total number of questions for topic {topic}: {len(questions)}\", end=\"\\n\\n\")\n",
    "\n",
    "                # Write to file to save the questions\n",
    "                with open(filename, \"w\") as fout:\n",
    "                    fout.write(\"\\n\".join(questions))\n",
    "\n",
    "        # Add questions to questions_lst\n",
    "        questions_lst += questions\n",
    "\n",
    "    # Check total number of questions\n",
    "    print(f\"Total number of questions: {len(questions_lst )}\")\n",
    "    return questions_lst\n",
    "\n",
    "\n",
    "topics_lst = topics[\"topics\"]\n",
    "questions_all = save_questions_to_file(topics_lst, n_questions_per_topic)\n",
    "#---------------------------------"
   ]
  },
  {
   "cell_type": "code",
   "execution_count": 17,
   "id": "ab257925-5c40-42a1-b6ad-88a2c8ae699f",
   "metadata": {},
   "outputs": [
    {
     "name": "stdout",
     "output_type": "stream",
     "text": [
      "File questions.txt exists. skip\n"
     ]
    }
   ],
   "source": [
    "# save questions to disk\n",
    "if not os.path.exists(\"./part1-outputs/questions.txt\"):\n",
    "    print(\"Write all questions to questions.txt\")\n",
    "    with open(\"./part1-outputs/questions.txt\", \"w\") as fout:\n",
    "        fout.write(\"\\n\".join(questions_all))\n",
    "else:\n",
    "      print(\"File questions.txt exists. skip\")"
   ]
  },
  {
   "cell_type": "code",
   "execution_count": 24,
   "id": "e4e785dd-ab6f-41f8-961b-bf6f9ae24a06",
   "metadata": {},
   "outputs": [
    {
     "name": "stdout",
     "output_type": "stream",
     "text": [
      "question: What are the core academic programs offered at SUTD?\n",
      " answer:  SUTD offers a range of master's programs, including the Master of Architecture, Master of Engineering (Research), Master of Innovation by Design, Master of Science in Security by Design, and Master of Science in Urban Science, Policy and Planning. Additionally, SUTD offers a Dual Masters Programme in Nano-Electronic Engineering and Design in collaboration with the California Institute of Technology (Caltech).\n",
      "question: How is the curriculum structured for each program?\n",
      " answer:  SUTD's undergraduate programs begin with a three-term Freshmore curriculum grounded in the fundamentals of science, mathematics, design, and humanities. After that, students can choose to specialize in one of five areas for the next five terms. These five areas include Architecture and Sustainable Design, Computer Science and Design, Design and Artificial Intelligence, Engineering Product Development, and Engineering Systems and Design. In addition, students can also select one of several Minor programs to further enhance their education.\n",
      "question: Are there opportunities for interdisciplinary study or customizing your curriculum?\n",
      " answer: \n",
      "At SUTD, there are opportunities for interdisciplinary study and customizing your curriculum. The university offers a range of programs and courses across various disciplines, including engineering, design, and technology. Additionally, SUTD allows students to combine different majors and minors to create a customized curriculum that suits their interests and career goals. Finally, the university's research-oriented approach provides ample opportunities for interdisciplinary collaboration and exploration.\n",
      "question: What is the teaching approach and learning environment like?\n",
      " answer:  The teaching approach at SUTD is designed to be student-centric, encouraging active learning and collaboration. The cyber-physical campus environment fosters a stimulating and personalized learning experience for students, allowing them to develop their full human potential.\n",
      "question: Are there any specialized tracks or concentrations within the programs?\n",
      " answer:  Yes, the undergraduate programs at SUTD offer specialized tracks or concentrations in areas such as Design Thinking, Artificial Intelligence, and Sustainable Design. These specializations allow students to tailor their education to their interests and career goals. For example, the Architecture and Sustainable Design program offers a concentration in Sustainable Design, while the Computer Science and Design program offers a concentration in Artificial Intelligence.\n"
     ]
    },
    {
     "name": "stderr",
     "output_type": "stream",
     "text": [
      "/home/jon/Code/school/t8/mlops-assignment-4/venv/lib/python3.11/site-packages/transformers/pipelines/base.py:1101: UserWarning: You seem to be using the pipelines sequentially on GPU. In order to maximize efficiency please use a dataset\n",
      "  warnings.warn(\n"
     ]
    },
    {
     "name": "stdout",
     "output_type": "stream",
     "text": [
      "question: How does the curriculum incorporate hands-on learning and project work?\n",
      " answer:  SUTD's Freshmore curriculum includes thematic design projects that task students with identifying design opportunities related to real-world challenges. These projects allow students to apply their knowledge and skills in a hands-on and practical way, while also fostering innovation and creativity. Additionally, SUTD has signed an MOU with Temasek Polytechnic to launch a new pathway program, providing students with further opportunities for hands-on learning and project work.\n"
     ]
    },
    {
     "name": "stderr",
     "output_type": "stream",
     "text": [
      "/home/jon/Code/school/t8/mlops-assignment-4/venv/lib/python3.11/site-packages/transformers/pipelines/base.py:1101: UserWarning: You seem to be using the pipelines sequentially on GPU. In order to maximize efficiency please use a dataset\n",
      "  warnings.warn(\n"
     ]
    },
    {
     "name": "stdout",
     "output_type": "stream",
     "text": [
      "question: Are there opportunities for internships, co-op programs, or industry collaborations?\n",
      " answer:  Yes, the Singapore University of Technology and Design (SUTD) offers various opportunities for internships, co-op programs, and industry collaborations. These include the GEMS Career Portal, Career Workshops, Events, and Industry partnerships. Students can also explore the Problem Statement Bank, Entrepreneurship, and Programmes to find opportunities that align with their interests and goals.\n"
     ]
    },
    {
     "name": "stderr",
     "output_type": "stream",
     "text": [
      "/home/jon/Code/school/t8/mlops-assignment-4/venv/lib/python3.11/site-packages/transformers/pipelines/base.py:1101: UserWarning: You seem to be using the pipelines sequentially on GPU. In order to maximize efficiency please use a dataset\n",
      "  warnings.warn(\n"
     ]
    },
    {
     "name": "stdout",
     "output_type": "stream",
     "text": [
      "question: What kind of support and resources are available for academic success?\n",
      " answer:  SUTD offers various support and resources to ensure academic success, including research centers, fellowships, and scholarships. The Institutional Review Board (IRB) and Research Integrity – Scholarly Publications also provide guidance on research ethics and publishing. Additionally, the Library and Sustainability at SUTD offer resources for student development and global experience.\n"
     ]
    },
    {
     "name": "stderr",
     "output_type": "stream",
     "text": [
      "/home/jon/Code/school/t8/mlops-assignment-4/venv/lib/python3.11/site-packages/transformers/pipelines/base.py:1101: UserWarning: You seem to be using the pipelines sequentially on GPU. In order to maximize efficiency please use a dataset\n",
      "  warnings.warn(\n"
     ]
    },
    {
     "name": "stdout",
     "output_type": "stream",
     "text": [
      "question: How does the curriculum prepare students for future careers or graduate studies?\n",
      " answer:  SUTD's undergraduate programmes begin with a three-term Freshmore curriculum grounded in the fundamentals of science, mathematics, design, and humanities, followed by a specialisation in one of five areas for the next five terms. Additionally, students can select one of several Minor programmes to enhance their education. The curriculum is designed to prepare students for future careers or graduate studies by providing a strong foundation in core subjects and allowing them to specialise in their area of interest.\n"
     ]
    },
    {
     "name": "stderr",
     "output_type": "stream",
     "text": [
      "/home/jon/Code/school/t8/mlops-assignment-4/venv/lib/python3.11/site-packages/transformers/pipelines/base.py:1101: UserWarning: You seem to be using the pipelines sequentially on GPU. In order to maximize efficiency please use a dataset\n",
      "  warnings.warn(\n"
     ]
    },
    {
     "name": "stdout",
     "output_type": "stream",
     "text": [
      "question: Are there any unique or innovative aspects of the curriculum or academic programs?\n",
      " answer:  Yes, SUTD's Freshmore curriculum has been updated to include new courses that focus on design thinking and programming, and a thematic approach was introduced for design projects. Additionally, the university offers minor programs in Artificial Intelligence, Computer Science, Design Innovation, Ventures and Entrepreneurship, and Design, Technology, and Society, which are unique and innovative aspects of the curriculum.\n"
     ]
    },
    {
     "name": "stderr",
     "output_type": "stream",
     "text": [
      "/home/jon/Code/school/t8/mlops-assignment-4/venv/lib/python3.11/site-packages/transformers/pipelines/base.py:1101: UserWarning: You seem to be using the pipelines sequentially on GPU. In order to maximize efficiency please use a dataset\n",
      "  warnings.warn(\n"
     ]
    },
    {
     "name": "stdout",
     "output_type": "stream",
     "text": [
      "question: What kinds of student clubs and organizations are available on campus?\n",
      " answer:  SUTD has a variety of student clubs and organizations available on campus, including sports and recreation clubs, cultural and ethnic clubs, and academic and professional clubs. These clubs provide opportunities for students to develop their interests and skills outside of the classroom, and to connect with their peers and the broader community. Some examples of student clubs and organizations at SUTD include the SUTD Dragon Boat Club, the SUTD Photography Club, and the SUTD Robotics Club.\n"
     ]
    },
    {
     "name": "stderr",
     "output_type": "stream",
     "text": [
      "/home/jon/Code/school/t8/mlops-assignment-4/venv/lib/python3.11/site-packages/transformers/pipelines/base.py:1101: UserWarning: You seem to be using the pipelines sequentially on GPU. In order to maximize efficiency please use a dataset\n",
      "  warnings.warn(\n"
     ]
    },
    {
     "name": "stdout",
     "output_type": "stream",
     "text": [
      "question: How can I get involved in campus events and activities?\n",
      " answer:  You can get involved in campus events and activities by checking the SUTD website or contacting the Campus Life team directly to learn about upcoming events and opportunities. Additionally, you can join one of the many student clubs and organizations on campus, which often host their own events and activities. Finally, you can reach out to the Student Affairs team to express your interest in participating in campus events and activities.\n"
     ]
    },
    {
     "name": "stderr",
     "output_type": "stream",
     "text": [
      "/home/jon/Code/school/t8/mlops-assignment-4/venv/lib/python3.11/site-packages/transformers/pipelines/base.py:1101: UserWarning: You seem to be using the pipelines sequentially on GPU. In order to maximize efficiency please use a dataset\n",
      "  warnings.warn(\n"
     ]
    },
    {
     "name": "stdout",
     "output_type": "stream",
     "text": [
      "question: Are there opportunities for leadership roles in student organizations?\n",
      " answer: \n",
      "\n",
      "Yes, there are opportunities for leadership roles in student organizations at SUTD. The university has a variety of student clubs and organizations that offer leadership roles to students. These clubs and organizations cover a range of interests, including sports, culture, and community service. Additionally, SUTD has a Student Council that provides leadership opportunities for students to represent their peers and contribute to the university community.\n"
     ]
    },
    {
     "name": "stderr",
     "output_type": "stream",
     "text": [
      "/home/jon/Code/school/t8/mlops-assignment-4/venv/lib/python3.11/site-packages/transformers/pipelines/base.py:1101: UserWarning: You seem to be using the pipelines sequentially on GPU. In order to maximize efficiency please use a dataset\n",
      "  warnings.warn(\n"
     ]
    },
    {
     "name": "stdout",
     "output_type": "stream",
     "text": [
      "question: What recreational facilities and sports teams are available for students?\n",
      " answer:  SUTD provides various recreational facilities and sports teams for students, including a sports and recreation centre, fitness studios, and outdoor spaces for sports and recreational activities. Students can also join various sports teams, such as basketball, soccer, and volleyball, among others.\n"
     ]
    },
    {
     "name": "stderr",
     "output_type": "stream",
     "text": [
      "/home/jon/Code/school/t8/mlops-assignment-4/venv/lib/python3.11/site-packages/transformers/pipelines/base.py:1101: UserWarning: You seem to be using the pipelines sequentially on GPU. In order to maximize efficiency please use a dataset\n",
      "  warnings.warn(\n"
     ]
    },
    {
     "name": "stdout",
     "output_type": "stream",
     "text": [
      "question: Are there any cultural or diversity-related events and activities on campus?\n",
      " answer:  Yes, SUTD has a strong focus on diversity and inclusion, and there are various events and activities throughout the year that celebrate and promote cultural diversity on campus. These include cultural festivals, workshops, and seminars that aim to foster a more inclusive and diverse community.\n"
     ]
    },
    {
     "name": "stderr",
     "output_type": "stream",
     "text": [
      "/home/jon/Code/school/t8/mlops-assignment-4/venv/lib/python3.11/site-packages/transformers/pipelines/base.py:1101: UserWarning: You seem to be using the pipelines sequentially on GPU. In order to maximize efficiency please use a dataset\n",
      "  warnings.warn(\n"
     ]
    },
    {
     "name": "stdout",
     "output_type": "stream",
     "text": [
      "question: How can I find out about upcoming social events and activities?\n",
      " answer:  Check out SUTD's student life page on the website for updates on upcoming social events and activities!\n"
     ]
    },
    {
     "name": "stderr",
     "output_type": "stream",
     "text": [
      "/home/jon/Code/school/t8/mlops-assignment-4/venv/lib/python3.11/site-packages/transformers/pipelines/base.py:1101: UserWarning: You seem to be using the pipelines sequentially on GPU. In order to maximize efficiency please use a dataset\n",
      "  warnings.warn(\n"
     ]
    },
    {
     "name": "stdout",
     "output_type": "stream",
     "text": [
      "question: Are there any opportunities for community service or volunteering?\n",
      " answer:  SUTD has a strong focus on community service and volunteering. The university has partnered with various organizations, such as NTUC and the Institute for Adult Learning, to offer research opportunities and advise on technology disruption and job creation. Additionally, SUTD has a Centre for Ageing and the Built Environment that conducts research on making estates more walkable and liveable for the ageing population. There may be opportunities for students to get involved in these initiatives and contribute to the community through volunteering or community service projects.\n"
     ]
    },
    {
     "name": "stderr",
     "output_type": "stream",
     "text": [
      "/home/jon/Code/school/t8/mlops-assignment-4/venv/lib/python3.11/site-packages/transformers/pipelines/base.py:1101: UserWarning: You seem to be using the pipelines sequentially on GPU. In order to maximize efficiency please use a dataset\n",
      "  warnings.warn(\n"
     ]
    },
    {
     "name": "stdout",
     "output_type": "stream",
     "text": [
      "question: What kind of support is available for students interested in starting a new club or organization?\n",
      " answer:  SUTD offers various forms of support for students interested in starting a new club or organization, including resources and funding through the GEMS Career Portal, career workshops, and events. Additionally, the university's Student Development team provides guidance and mentorship to help students develop their ideas and bring them to life.\n"
     ]
    },
    {
     "name": "stderr",
     "output_type": "stream",
     "text": [
      "/home/jon/Code/school/t8/mlops-assignment-4/venv/lib/python3.11/site-packages/transformers/pipelines/base.py:1101: UserWarning: You seem to be using the pipelines sequentially on GPU. In order to maximize efficiency please use a dataset\n",
      "  warnings.warn(\n"
     ]
    },
    {
     "name": "stdout",
     "output_type": "stream",
     "text": [
      "question: Are there any student-run publications or media outlets on campus?\n",
      " answer:  Unfortunately, no, there are no student-run publications or media outlets on campus.\n"
     ]
    },
    {
     "name": "stderr",
     "output_type": "stream",
     "text": [
      "/home/jon/Code/school/t8/mlops-assignment-4/venv/lib/python3.11/site-packages/transformers/pipelines/base.py:1101: UserWarning: You seem to be using the pipelines sequentially on GPU. In order to maximize efficiency please use a dataset\n",
      "  warnings.warn(\n"
     ]
    },
    {
     "name": "stdout",
     "output_type": "stream",
     "text": [
      "question: How can I learn more about the various student organizations and their events?\n",
      " answer:  You can find more information about student organizations and their events by visiting the SUTD Campus Life page, which provides a list of all the student organizations and their contact information. Additionally, you can check the SUTD Events calendar to see a list of all upcoming events and activities happening on campus.\n"
     ]
    },
    {
     "name": "stderr",
     "output_type": "stream",
     "text": [
      "/home/jon/Code/school/t8/mlops-assignment-4/venv/lib/python3.11/site-packages/transformers/pipelines/base.py:1101: UserWarning: You seem to be using the pipelines sequentially on GPU. In order to maximize efficiency please use a dataset\n",
      "  warnings.warn(\n"
     ]
    },
    {
     "name": "stdout",
     "output_type": "stream",
     "text": [
      "question: What are the different housing options available for students at SUTD?\n",
      " answer:  SUTD offers various housing options for students, including single and shared rooms in student hostels, as well as off-campus accommodation. The housing options and rates vary depending on the room type and location. Students can check the SUTD housing website for more information and to apply for housing.\n"
     ]
    },
    {
     "name": "stderr",
     "output_type": "stream",
     "text": [
      "/home/jon/Code/school/t8/mlops-assignment-4/venv/lib/python3.11/site-packages/transformers/pipelines/base.py:1101: UserWarning: You seem to be using the pipelines sequentially on GPU. In order to maximize efficiency please use a dataset\n",
      "  warnings.warn(\n"
     ]
    },
    {
     "name": "stdout",
     "output_type": "stream",
     "text": [
      "question: Are on-campus accommodations guaranteed for all students?\n",
      " answer:  No, on-campus accommodations are not guaranteed for all students at SUTD. The university offers housing options for postgraduate students, but availability and allocation are subject to the discretion of the university.\n"
     ]
    },
    {
     "name": "stderr",
     "output_type": "stream",
     "text": [
      "/home/jon/Code/school/t8/mlops-assignment-4/venv/lib/python3.11/site-packages/transformers/pipelines/base.py:1101: UserWarning: You seem to be using the pipelines sequentially on GPU. In order to maximize efficiency please use a dataset\n",
      "  warnings.warn(\n"
     ]
    },
    {
     "name": "stdout",
     "output_type": "stream",
     "text": [
      "question: How are roommates assigned in the residential halls?\n",
      " answer:  Roommates in the residential halls are assigned based on a combination of factors, including academic program, gender, and preferences specified in the housing application. The Residential Life team strives to create a diverse and inclusive community, and every effort is made to match students with roommates who share similar interests and backgrounds.\n"
     ]
    },
    {
     "name": "stderr",
     "output_type": "stream",
     "text": [
      "/home/jon/Code/school/t8/mlops-assignment-4/venv/lib/python3.11/site-packages/transformers/pipelines/base.py:1101: UserWarning: You seem to be using the pipelines sequentially on GPU. In order to maximize efficiency please use a dataset\n",
      "  warnings.warn(\n"
     ]
    },
    {
     "name": "stdout",
     "output_type": "stream",
     "text": [
      "question: What amenities and facilities are available in the residential halls?\n",
      " answer:  The residential halls at SUTD offer a range of amenities and facilities, including air-conditioned single and shared rooms, communal kitchens, laundry facilities, study spaces, and recreational areas. Additionally, the halls have 24/7 security and CCTV surveillance, as well as Wi-Fi and internet access.\n"
     ]
    },
    {
     "name": "stderr",
     "output_type": "stream",
     "text": [
      "/home/jon/Code/school/t8/mlops-assignment-4/venv/lib/python3.11/site-packages/transformers/pipelines/base.py:1101: UserWarning: You seem to be using the pipelines sequentially on GPU. In order to maximize efficiency please use a dataset\n",
      "  warnings.warn(\n"
     ]
    },
    {
     "name": "stdout",
     "output_type": "stream",
     "text": [
      "question: Are there any special housing options for international students?\n",
      " answer:  Yes, SUTD offers a variety of housing options for international students, including single and shared rooms in student residences. These residences are designed to provide a safe and supportive living environment for students from all over the world. Additionally, SUTD offers a range of amenities and services to help international students adjust to life in Singapore, including language support and cultural events. For more information, please visit the SUTD website or contact the Student Affairs Office directly.\n"
     ]
    },
    {
     "name": "stderr",
     "output_type": "stream",
     "text": [
      "/home/jon/Code/school/t8/mlops-assignment-4/venv/lib/python3.11/site-packages/transformers/pipelines/base.py:1101: UserWarning: You seem to be using the pipelines sequentially on GPU. In order to maximize efficiency please use a dataset\n",
      "  warnings.warn(\n"
     ]
    },
    {
     "name": "stdout",
     "output_type": "stream",
     "text": [
      "question: How much does on-campus housing cost, and what is included in the fees?\n",
      " answer:  On-campus housing fees for AY2023 and AY2024 are provided in the Housing Application Terms and Conditions. The fees include rent, utilities, and internet access. Non-graduating students may be subject to additional fees. Please refer to the SUTD website for the most up-to-date information on housing fees and terms.\n"
     ]
    },
    {
     "name": "stderr",
     "output_type": "stream",
     "text": [
      "/home/jon/Code/school/t8/mlops-assignment-4/venv/lib/python3.11/site-packages/transformers/pipelines/base.py:1101: UserWarning: You seem to be using the pipelines sequentially on GPU. In order to maximize efficiency please use a dataset\n",
      "  warnings.warn(\n"
     ]
    },
    {
     "name": "stdout",
     "output_type": "stream",
     "text": [
      "question: Are there any rules or regulations regarding visitors or overnight guests in the residential halls?\n",
      " answer:  Yes, there are rules and regulations regarding visitors or overnight guests in the residential halls. According to the Housing Application Terms and Conditions, visitors are only allowed in the residential halls between 9am to 10pm. Overnight guests are not permitted. These rules are in place to ensure the safety and well-being of all residents, as well as to maintain a quiet and respectful living environment.\n"
     ]
    },
    {
     "name": "stderr",
     "output_type": "stream",
     "text": [
      "/home/jon/Code/school/t8/mlops-assignment-4/venv/lib/python3.11/site-packages/transformers/pipelines/base.py:1101: UserWarning: You seem to be using the pipelines sequentially on GPU. In order to maximize efficiency please use a dataset\n",
      "  warnings.warn(\n"
     ]
    },
    {
     "name": "stdout",
     "output_type": "stream",
     "text": [
      "question: What kind of support services or resources are available for students living on campus?\n",
      " answer:  SUTD offers various support services and resources for students living on campus, including Wellbeing Services, Merit Awards, Campus Life, Diversity and Inclusion, Housing, Sports and Recreation Centre, F&B and Services, SUTD Store, Research, and Library. These services and resources are designed to enhance the overall student experience and promote a healthy and inclusive living environment.\n"
     ]
    },
    {
     "name": "stderr",
     "output_type": "stream",
     "text": [
      "/home/jon/Code/school/t8/mlops-assignment-4/venv/lib/python3.11/site-packages/transformers/pipelines/base.py:1101: UserWarning: You seem to be using the pipelines sequentially on GPU. In order to maximize efficiency please use a dataset\n",
      "  warnings.warn(\n"
     ]
    },
    {
     "name": "stdout",
     "output_type": "stream",
     "text": [
      "question: Are there any options for off-campus housing, and how does the university assist with finding those options?\n",
      " answer:  Yes, there are off-campus housing options available for students. The university provides a list of recommended off-campus accommodations on their website, as well as resources to help students find and secure housing. Additionally, the university offers a housing fair each semester where students can meet with local landlords and property managers to learn more about available housing options. Finally, the university provides assistance with navigating the local rental market and offer guidance on lease agreements and other legal matters related to off-campus housing.\n"
     ]
    },
    {
     "name": "stderr",
     "output_type": "stream",
     "text": [
      "/home/jon/Code/school/t8/mlops-assignment-4/venv/lib/python3.11/site-packages/transformers/pipelines/base.py:1101: UserWarning: You seem to be using the pipelines sequentially on GPU. In order to maximize efficiency please use a dataset\n",
      "  warnings.warn(\n"
     ]
    },
    {
     "name": "stdout",
     "output_type": "stream",
     "text": [
      "question: Can students with specific dietary needs or preferences be accommodated in the residential dining facilities?\n",
      " answer:  Yes, SUTD's residential dining facilities can accommodate students with specific dietary needs or preferences. They offer a variety of dining options, including vegetarian, vegan, gluten-free, and halal options. Additionally, the dining facilities are equipped with kitchen facilities where students can prepare their own meals if needed. Students with specific dietary needs or preferences are encouraged to reach out to the dining facilities in advance to discuss their needs and make arrangements.\n"
     ]
    },
    {
     "name": "stderr",
     "output_type": "stream",
     "text": [
      "/home/jon/Code/school/t8/mlops-assignment-4/venv/lib/python3.11/site-packages/transformers/pipelines/base.py:1101: UserWarning: You seem to be using the pipelines sequentially on GPU. In order to maximize efficiency please use a dataset\n",
      "  warnings.warn(\n"
     ]
    },
    {
     "name": "stdout",
     "output_type": "stream",
     "text": [
      "question: What career services are available to students at SUTD?\n",
      " answer:  SUTD provides a range of career services to support students in their career development. These services include career advisory, career resources, and a career portal. Additionally, SUTD offers scholarships and awards to recognize and support outstanding students.\n"
     ]
    },
    {
     "name": "stderr",
     "output_type": "stream",
     "text": [
      "/home/jon/Code/school/t8/mlops-assignment-4/venv/lib/python3.11/site-packages/transformers/pipelines/base.py:1101: UserWarning: You seem to be using the pipelines sequentially on GPU. In order to maximize efficiency please use a dataset\n",
      "  warnings.warn(\n"
     ]
    },
    {
     "name": "stdout",
     "output_type": "stream",
     "text": [
      "question: Are there opportunities for internships or co-op programs?\n",
      " answer:  Yes, there are opportunities for internships and co-op programs at SUTD. The GEMS Career Portal provides information on available internships and co-op programs, as well as career workshops and events to help you prepare for your future career. Additionally, SUTD has a strong industry network and collaborative projects with industry partners, providing you with ample opportunities to gain practical experience and build your network.\n"
     ]
    },
    {
     "name": "stderr",
     "output_type": "stream",
     "text": [
      "/home/jon/Code/school/t8/mlops-assignment-4/venv/lib/python3.11/site-packages/transformers/pipelines/base.py:1101: UserWarning: You seem to be using the pipelines sequentially on GPU. In order to maximize efficiency please use a dataset\n",
      "  warnings.warn(\n"
     ]
    },
    {
     "name": "stdout",
     "output_type": "stream",
     "text": [
      "question: How does the university assist students in finding internships or job placements?\n",
      " answer:  The Singapore University of Technology and Design (SUTD) offers various resources and support to assist students in finding internships or job placements. These include the GEMS Career Portal, career workshops, events, and industry partnerships. The university also provides career advisory services and a Problem Statement Bank to help students identify potential internship or job opportunities. Additionally, SUTD has a strong industry network and collaborative projects with industry partners, which can lead to potential job opportunities for students.\n"
     ]
    },
    {
     "name": "stderr",
     "output_type": "stream",
     "text": [
      "/home/jon/Code/school/t8/mlops-assignment-4/venv/lib/python3.11/site-packages/transformers/pipelines/base.py:1101: UserWarning: You seem to be using the pipelines sequentially on GPU. In order to maximize efficiency please use a dataset\n",
      "  warnings.warn(\n"
     ]
    },
    {
     "name": "stdout",
     "output_type": "stream",
     "text": [
      "question: Are there any industry partnerships or connections that can help with internship opportunities?\n",
      " answer:  Yes, SUTD has established partnerships with various industries, providing students with access to internship opportunities and career resources. The GEMS Career Portal offers a range of internship listings, and the Career Development team can assist in connecting students with industry partners. Additionally, SUTD's industry partnerships can provide students with valuable networking opportunities and exposure to industry challenges, helping them develop relevant skills and knowledge for their future careers.\n"
     ]
    },
    {
     "name": "stderr",
     "output_type": "stream",
     "text": [
      "/home/jon/Code/school/t8/mlops-assignment-4/venv/lib/python3.11/site-packages/transformers/pipelines/base.py:1101: UserWarning: You seem to be using the pipelines sequentially on GPU. In order to maximize efficiency please use a dataset\n",
      "  warnings.warn(\n"
     ]
    },
    {
     "name": "stdout",
     "output_type": "stream",
     "text": [
      "question: What kind of career counseling or guidance is provided to students?\n",
      " answer:  SUTD provides various career resources and workshops to help students explore their career options and develop their skills. The GEMS Career Portal is a platform that connects students with potential employers, and the Career Advisory team offers one-on-one consultations to help students make informed decisions about their careers.\n"
     ]
    },
    {
     "name": "stderr",
     "output_type": "stream",
     "text": [
      "/home/jon/Code/school/t8/mlops-assignment-4/venv/lib/python3.11/site-packages/transformers/pipelines/base.py:1101: UserWarning: You seem to be using the pipelines sequentially on GPU. In order to maximize efficiency please use a dataset\n",
      "  warnings.warn(\n"
     ]
    },
    {
     "name": "stdout",
     "output_type": "stream",
     "text": [
      "question: Are there any workshops or events focused on career development or job search strategies?\n",
      " answer:  Yes, SUTD offers a variety of career workshops and events to support students in their career development and job search. These include resume-building and interview preparation workshops, as well as networking events with industry professionals. To learn more, please visit the GEMS Career Portal or contact the Career Development team directly.\n"
     ]
    },
    {
     "name": "stderr",
     "output_type": "stream",
     "text": [
      "/home/jon/Code/school/t8/mlops-assignment-4/venv/lib/python3.11/site-packages/transformers/pipelines/base.py:1101: UserWarning: You seem to be using the pipelines sequentially on GPU. In order to maximize efficiency please use a dataset\n",
      "  warnings.warn(\n"
     ]
    },
    {
     "name": "stdout",
     "output_type": "stream",
     "text": [
      "question: How does the university support students in building their professional networks?\n",
      " answer:  The university supports students in building their professional networks through collaborative learning experiences, research and development innovation ecosystems, and vibrant on-campus facilities.\n"
     ]
    },
    {
     "name": "stderr",
     "output_type": "stream",
     "text": [
      "/home/jon/Code/school/t8/mlops-assignment-4/venv/lib/python3.11/site-packages/transformers/pipelines/base.py:1101: UserWarning: You seem to be using the pipelines sequentially on GPU. In order to maximize efficiency please use a dataset\n",
      "  warnings.warn(\n"
     ]
    },
    {
     "name": "stdout",
     "output_type": "stream",
     "text": [
      "question: Are there any resources or programs specifically designed for international students seeking internships or employment?\n",
      " answer:  SUTD offers GEMS Career Portal, career workshops, events, internships, and contact us for international students seeking internships or employment.\n"
     ]
    },
    {
     "name": "stderr",
     "output_type": "stream",
     "text": [
      "/home/jon/Code/school/t8/mlops-assignment-4/venv/lib/python3.11/site-packages/transformers/pipelines/base.py:1101: UserWarning: You seem to be using the pipelines sequentially on GPU. In order to maximize efficiency please use a dataset\n",
      "  warnings.warn(\n"
     ]
    },
    {
     "name": "stdout",
     "output_type": "stream",
     "text": [
      "question: What kind of success rates or statistics are available regarding internship placements or job placements for graduates?\n",
      " answer:  96% of fresh graduates from the Class of 2020 were employed within six months of completing their final examinations, which is the highest percentage ever since our first batch of students graduated in 2015. Many of them obtained jobs within the Information & Communication, Financial & Insurance and Scientific Research & Development sectors.\n"
     ]
    },
    {
     "name": "stderr",
     "output_type": "stream",
     "text": [
      "/home/jon/Code/school/t8/mlops-assignment-4/venv/lib/python3.11/site-packages/transformers/pipelines/base.py:1101: UserWarning: You seem to be using the pipelines sequentially on GPU. In order to maximize efficiency please use a dataset\n",
      "  warnings.warn(\n"
     ]
    },
    {
     "name": "stdout",
     "output_type": "stream",
     "text": [
      "question: Are there any alumni mentorship programs or opportunities to connect with alumni in various industries?\n",
      " answer:  Yes, SUTD offers various alumni mentorship programs and opportunities to connect with alumni in various industries. These include the SUTD Alumni Mentorship Programme, which matches current students with alumni mentors in their desired fields, as well as industry-specific networking events and online communities. Additionally, the GEMS Career Portal provides access to a database of alumni profiles and contact information, allowing students to reach out to and connect with alumni directly.\n"
     ]
    },
    {
     "name": "stderr",
     "output_type": "stream",
     "text": [
      "/home/jon/Code/school/t8/mlops-assignment-4/venv/lib/python3.11/site-packages/transformers/pipelines/base.py:1101: UserWarning: You seem to be using the pipelines sequentially on GPU. In order to maximize efficiency please use a dataset\n",
      "  warnings.warn(\n"
     ]
    },
    {
     "name": "stdout",
     "output_type": "stream",
     "text": [
      "question: What types of research facilities and labs are available at the university?\n",
      " answer:  The university has a range of research facilities and labs, including the AI Mega Centre, Aviation Studies Institute, Centre for Smart Systems, DesignZ, Digital Manufacturing and Design Centre (DmanD), Future Communications R&D Programme, Game Lab, iTrust, Lee Kuan Yew Centre for Innovative Cities, National Additive Manufacturing Innovation Cluster (NAMIC) @SUTD, ST Engineering-SUTD Cyber Security Laboratory, SUTD-JTC I³ Centre, and SUTD-Keysight Measurement Technologies. These facilities and labs provide resources and support for students and researchers to explore and develop innovative ideas in various fields.\n"
     ]
    },
    {
     "name": "stderr",
     "output_type": "stream",
     "text": [
      "/home/jon/Code/school/t8/mlops-assignment-4/venv/lib/python3.11/site-packages/transformers/pipelines/base.py:1101: UserWarning: You seem to be using the pipelines sequentially on GPU. In order to maximize efficiency please use a dataset\n",
      "  warnings.warn(\n"
     ]
    },
    {
     "name": "stdout",
     "output_type": "stream",
     "text": [
      "question: How modern and well-equipped are the research facilities and labs?\n",
      " answer:  SUTD has well-equipped research facilities and labs, including the Lee Kuan Yew Centre for Innovative Cities (LKYCIC), which is equipped with state-of-the-art technology and resources to support cutting-edge research in urban planning, design, and technology.\n"
     ]
    },
    {
     "name": "stderr",
     "output_type": "stream",
     "text": [
      "/home/jon/Code/school/t8/mlops-assignment-4/venv/lib/python3.11/site-packages/transformers/pipelines/base.py:1101: UserWarning: You seem to be using the pipelines sequentially on GPU. In order to maximize efficiency please use a dataset\n",
      "  warnings.warn(\n"
     ]
    },
    {
     "name": "stdout",
     "output_type": "stream",
     "text": [
      "question: Are there opportunities for undergraduate students to participate in research projects or work in the labs?\n",
      " answer:  Yes, SUTD offers various opportunities for undergraduate students to participate in research projects or work in the labs. These include the Undergraduate Research Opportunities Programme, Undergraduate Practice Opportunities Programme, and Capstone Design projects. Additionally, SUTD has a vibrant research and development ecosystem that brings together education, research, industry, and entrepreneurship, providing students with access to state-of-the-art facilities and collaboration with industry partners.\n"
     ]
    },
    {
     "name": "stderr",
     "output_type": "stream",
     "text": [
      "/home/jon/Code/school/t8/mlops-assignment-4/venv/lib/python3.11/site-packages/transformers/pipelines/base.py:1101: UserWarning: You seem to be using the pipelines sequentially on GPU. In order to maximize efficiency please use a dataset\n",
      "  warnings.warn(\n"
     ]
    },
    {
     "name": "stdout",
     "output_type": "stream",
     "text": [
      "question: What are the areas of research focus in the university's labs?\n",
      " answer:  The university has several research labs focused on various areas such as AI, cybersecurity, digital manufacturing, and smart systems. The labs also collaborate with industry partners to address real-world challenges and develop innovative solutions.\n"
     ]
    },
    {
     "name": "stderr",
     "output_type": "stream",
     "text": [
      "/home/jon/Code/school/t8/mlops-assignment-4/venv/lib/python3.11/site-packages/transformers/pipelines/base.py:1101: UserWarning: You seem to be using the pipelines sequentially on GPU. In order to maximize efficiency please use a dataset\n",
      "  warnings.warn(\n"
     ]
    },
    {
     "name": "stdout",
     "output_type": "stream",
     "text": [
      "question: Are there any specialized or unique research facilities or labs that set the university apart?\n",
      " answer:  SUTD is breaking ground with its Cyber-physical campus that will offer students a personalized learning environment tailored to their individual strengths and interests. Additionally, the university is collaborating with MIT to establish the SUTD-MIT International Design Centre, which will provide cutting-edge research facilities and resources for students and faculty.\n"
     ]
    },
    {
     "name": "stderr",
     "output_type": "stream",
     "text": [
      "/home/jon/Code/school/t8/mlops-assignment-4/venv/lib/python3.11/site-packages/transformers/pipelines/base.py:1101: UserWarning: You seem to be using the pipelines sequentially on GPU. In order to maximize efficiency please use a dataset\n",
      "  warnings.warn(\n"
     ]
    },
    {
     "name": "stdout",
     "output_type": "stream",
     "text": [
      "question: How accessible are the research facilities and labs to students?\n",
      " answer:  The research facilities and labs are accessible to students through the on-campus research and development facilities, collaborative partnerships, and on-campus research and development facilities.\n"
     ]
    },
    {
     "name": "stderr",
     "output_type": "stream",
     "text": [
      "/home/jon/Code/school/t8/mlops-assignment-4/venv/lib/python3.11/site-packages/transformers/pipelines/base.py:1101: UserWarning: You seem to be using the pipelines sequentially on GPU. In order to maximize efficiency please use a dataset\n",
      "  warnings.warn(\n"
     ]
    },
    {
     "name": "stdout",
     "output_type": "stream",
     "text": [
      "question: Are there any collaborations or partnerships with industry or other research institutions that provide access to additional facilities or resources?\n",
      " answer:  Yes, SUTD has established over 1,300 industry partnerships and collaborations with other research institutions, providing access to additional facilities and resources for research and innovation.\n"
     ]
    },
    {
     "name": "stderr",
     "output_type": "stream",
     "text": [
      "/home/jon/Code/school/t8/mlops-assignment-4/venv/lib/python3.11/site-packages/transformers/pipelines/base.py:1101: UserWarning: You seem to be using the pipelines sequentially on GPU. In order to maximize efficiency please use a dataset\n",
      "  warnings.warn(\n"
     ]
    },
    {
     "name": "stdout",
     "output_type": "stream",
     "text": [
      "question: What kind of safety protocols and training are in place for working in the research facilities and labs?\n",
      " answer:  The SUTD has various safety protocols and training programs in place for students and researchers working in the research facilities and labs. These include laboratory safety training, hazardous materials handling training, and emergency response procedures. Additionally, the university has a dedicated Safety Office that oversees and enforces safety policies and protocols across all campuses.\n"
     ]
    },
    {
     "name": "stderr",
     "output_type": "stream",
     "text": [
      "/home/jon/Code/school/t8/mlops-assignment-4/venv/lib/python3.11/site-packages/transformers/pipelines/base.py:1101: UserWarning: You seem to be using the pipelines sequentially on GPU. In order to maximize efficiency please use a dataset\n",
      "  warnings.warn(\n"
     ]
    },
    {
     "name": "stdout",
     "output_type": "stream",
     "text": [
      "question: Are there any opportunities for interdisciplinary research or collaboration between different labs or departments?\n",
      " answer:  SUTD has a strong focus on interdisciplinary research and collaboration, with multiple research centers and initiatives that span across different departments and disciplines. For example, the AI Mega Centre and the Centre for Smart Systems are interdisciplinary research centers that bring together experts from various fields to work on cutting-edge research projects. Additionally, SUTD has established partnerships with over 30 industry partners, providing opportunities for collaborative research and development.\n"
     ]
    },
    {
     "name": "stderr",
     "output_type": "stream",
     "text": [
      "/home/jon/Code/school/t8/mlops-assignment-4/venv/lib/python3.11/site-packages/transformers/pipelines/base.py:1101: UserWarning: You seem to be using the pipelines sequentially on GPU. In order to maximize efficiency please use a dataset\n",
      "  warnings.warn(\n"
     ]
    },
    {
     "name": "stdout",
     "output_type": "stream",
     "text": [
      "question: How are the research facilities and labs funded and supported by the university?\n",
      " answer:  The university has established 13 research centers and labs and has secured over $479 million in research funding from various sources, including the National Research Foundation, Ministry of Education, A*STAR, MINDEF, MOH, and industry. The university has also filed over 340 technology disclosures, 200 patent applications, and has been granted 23 patents.\n"
     ]
    },
    {
     "name": "stderr",
     "output_type": "stream",
     "text": [
      "/home/jon/Code/school/t8/mlops-assignment-4/venv/lib/python3.11/site-packages/transformers/pipelines/base.py:1101: UserWarning: You seem to be using the pipelines sequentially on GPU. In order to maximize efficiency please use a dataset\n",
      "  warnings.warn(\n"
     ]
    },
    {
     "name": "stdout",
     "output_type": "stream",
     "text": [
      "question: What are the areas of expertise of the faculty members at SUTD?\n",
      " answer:  Based on the information provided, the faculty members at SUTD have expertise in various areas such as IDC, LKYCIC, TL, iTrust, DManD, GREaT, SUTD-JTC I³, NAMIC, Centre for Smart Systems, STEE-SUTD Corp Lab, SUTD-LTA Transport Research Centre, and SUTD-Keysight Measurement Technologies Laboratory. They also have expertise in research programmes and fellowships such as EDB IPP, TL@SUTD Seed Research Programme, SUTD-ZJU Research Collaboration, and Singapore National Research Foundation (NRF) Fellowship. Additionally, they have expertise in student development, global experience and exchange, and career development.\n"
     ]
    },
    {
     "name": "stderr",
     "output_type": "stream",
     "text": [
      "/home/jon/Code/school/t8/mlops-assignment-4/venv/lib/python3.11/site-packages/transformers/pipelines/base.py:1101: UserWarning: You seem to be using the pipelines sequentially on GPU. In order to maximize efficiency please use a dataset\n",
      "  warnings.warn(\n"
     ]
    },
    {
     "name": "stdout",
     "output_type": "stream",
     "text": [
      "question: How many faculty members have received prestigious awards or recognition for their research or teaching?\n",
      " answer:  Based on the information provided, 19% of our faculty members have received prestigious awards or recognition for their research or teaching. This includes 13% who have received awards from the National Research Foundation (NRF), Ministry of Education (MOE), A*STAR, Ministry of Defence (MINDEF), and Ministry of Health (MOH), and 6% who have received recognition from industry.\n"
     ]
    },
    {
     "name": "stderr",
     "output_type": "stream",
     "text": [
      "/home/jon/Code/school/t8/mlops-assignment-4/venv/lib/python3.11/site-packages/transformers/pipelines/base.py:1101: UserWarning: You seem to be using the pipelines sequentially on GPU. In order to maximize efficiency please use a dataset\n",
      "  warnings.warn(\n"
     ]
    },
    {
     "name": "stdout",
     "output_type": "stream",
     "text": [
      "question: Are there any faculty members who are leaders in their respective fields?\n",
      " answer:  Yes, there are several faculty members who are leaders in their respective fields. For example, Prof Peter Jackson is a renowned expert in engineering systems and design, while Prof Chua Chee Kai is a leading figure in engineering product development. Additionally, Prof Ashraf Kassim is an accomplished educator and associate provost, and Prof Lim Sun Sun is a respected head of the humanities, arts, and social sciences department.\n"
     ]
    },
    {
     "name": "stderr",
     "output_type": "stream",
     "text": [
      "/home/jon/Code/school/t8/mlops-assignment-4/venv/lib/python3.11/site-packages/transformers/pipelines/base.py:1101: UserWarning: You seem to be using the pipelines sequentially on GPU. In order to maximize efficiency please use a dataset\n",
      "  warnings.warn(\n"
     ]
    },
    {
     "name": "stdout",
     "output_type": "stream",
     "text": [
      "question: What kind of research projects are the faculty members currently working on?\n",
      " answer:  The faculty members at SUTD are currently working on a diverse range of research projects across various disciplines, including engineering systems and design, information systems technology and design, humanities, arts, and social sciences, and design and artificial intelligence.\n"
     ]
    },
    {
     "name": "stderr",
     "output_type": "stream",
     "text": [
      "/home/jon/Code/school/t8/mlops-assignment-4/venv/lib/python3.11/site-packages/transformers/pipelines/base.py:1101: UserWarning: You seem to be using the pipelines sequentially on GPU. In order to maximize efficiency please use a dataset\n",
      "  warnings.warn(\n"
     ]
    },
    {
     "name": "stdout",
     "output_type": "stream",
     "text": [
      "question: Do the faculty members have industry experience or collaborations with companies?\n",
      " answer:  Yes, 19% of the faculty members have industry experience and collaborations with companies.\n"
     ]
    },
    {
     "name": "stderr",
     "output_type": "stream",
     "text": [
      "/home/jon/Code/school/t8/mlops-assignment-4/venv/lib/python3.11/site-packages/transformers/pipelines/base.py:1101: UserWarning: You seem to be using the pipelines sequentially on GPU. In order to maximize efficiency please use a dataset\n",
      "  warnings.warn(\n"
     ]
    },
    {
     "name": "stdout",
     "output_type": "stream",
     "text": [
      "question: Are there opportunities for students to work with faculty members on research projects?\n",
      " answer:  Yes, there are opportunities for students to work with faculty members on research projects. SUTD has fostered over 1,200 industry partnerships, which provide students with research, internship, and employment opportunities. Additionally, 20% of SUTD faculty members are currently involved in research projects as Principal Investigators or Co-PIs, providing students with the chance to work with faculty members on research projects.\n"
     ]
    },
    {
     "name": "stderr",
     "output_type": "stream",
     "text": [
      "/home/jon/Code/school/t8/mlops-assignment-4/venv/lib/python3.11/site-packages/transformers/pipelines/base.py:1101: UserWarning: You seem to be using the pipelines sequentially on GPU. In order to maximize efficiency please use a dataset\n",
      "  warnings.warn(\n"
     ]
    },
    {
     "name": "stdout",
     "output_type": "stream",
     "text": [
      "question: How often do faculty members publish their research findings in reputable journals or conferences?\n",
      " answer:  Based on the provided information, faculty members at SUTD have published their research findings in reputable journals or conferences 6,393 times, as indicated in the \"Publications\" section. This is a significant number of publications, reflecting the active research culture at the university.\n"
     ]
    },
    {
     "name": "stderr",
     "output_type": "stream",
     "text": [
      "/home/jon/Code/school/t8/mlops-assignment-4/venv/lib/python3.11/site-packages/transformers/pipelines/base.py:1101: UserWarning: You seem to be using the pipelines sequentially on GPU. In order to maximize efficiency please use a dataset\n",
      "  warnings.warn(\n"
     ]
    },
    {
     "name": "stdout",
     "output_type": "stream",
     "text": [
      "question: Are there any faculty members who have been granted patents for their inventions or innovations?\n",
      " answer:  Yes, there are 23 patents that have been granted to faculty members and researchers at SUTD.\n"
     ]
    },
    {
     "name": "stderr",
     "output_type": "stream",
     "text": [
      "/home/jon/Code/school/t8/mlops-assignment-4/venv/lib/python3.11/site-packages/transformers/pipelines/base.py:1101: UserWarning: You seem to be using the pipelines sequentially on GPU. In order to maximize efficiency please use a dataset\n",
      "  warnings.warn(\n"
     ]
    },
    {
     "name": "stdout",
     "output_type": "stream",
     "text": [
      "question: Do the faculty members engage in interdisciplinary research or collaborate with other institutions?\n",
      " answer:  Yes, the faculty members at SUTD engage in interdisciplinary research and collaborate with other institutions. In fact, 13% of their research interests are in interdisciplinary areas, and they have collaborated with over 1,200 industry partners, top universities, and research institutions worldwide.\n"
     ]
    },
    {
     "name": "stderr",
     "output_type": "stream",
     "text": [
      "/home/jon/Code/school/t8/mlops-assignment-4/venv/lib/python3.11/site-packages/transformers/pipelines/base.py:1101: UserWarning: You seem to be using the pipelines sequentially on GPU. In order to maximize efficiency please use a dataset\n",
      "  warnings.warn(\n"
     ]
    },
    {
     "name": "stdout",
     "output_type": "stream",
     "text": [
      "question: What kind of support or resources are available for faculty members to enhance their expertise and achievements?\n",
      " answer:  SUTD offers various resources and support for faculty members to enhance their expertise and achievements, such as Research Financial Aid, Scholarship, Exchange Awards, Merit Awards, Student Event/Clubs, and Research Centres. Additionally, the university provides Research Integrity – Scholarly Publications, Institutional Review Board (IRB), and Library services to support faculty members in their research endeavors.\n"
     ]
    },
    {
     "name": "stderr",
     "output_type": "stream",
     "text": [
      "/home/jon/Code/school/t8/mlops-assignment-4/venv/lib/python3.11/site-packages/transformers/pipelines/base.py:1101: UserWarning: You seem to be using the pipelines sequentially on GPU. In order to maximize efficiency please use a dataset\n",
      "  warnings.warn(\n"
     ]
    },
    {
     "name": "stdout",
     "output_type": "stream",
     "text": [
      "question: What is the tuition fee for undergraduate programs at SUTD?\n",
      " answer:  The tuition fee for undergraduate programs at SUTD is $35,417. However, after deducting scholarship expenses, the net tuition fee is $26,612.\n"
     ]
    },
    {
     "name": "stderr",
     "output_type": "stream",
     "text": [
      "/home/jon/Code/school/t8/mlops-assignment-4/venv/lib/python3.11/site-packages/transformers/pipelines/base.py:1101: UserWarning: You seem to be using the pipelines sequentially on GPU. In order to maximize efficiency please use a dataset\n",
      "  warnings.warn(\n"
     ]
    },
    {
     "name": "stdout",
     "output_type": "stream",
     "text": [
      "question: Are there any scholarships or financial aid available for students?\n",
      " answer:  Yes, the Singapore University of Technology and Design (SUTD) offers scholarships and financial aid to its students. According to the annual report, the university had scholarship expenses of $11,274 in 2021, which is a decrease of $1,353 compared to the previous year. The university also received donations and sponsorships of $2,274 in 2021. However, there is no information on the specific types of scholarships or financial aid available.\n"
     ]
    },
    {
     "name": "stderr",
     "output_type": "stream",
     "text": [
      "/home/jon/Code/school/t8/mlops-assignment-4/venv/lib/python3.11/site-packages/transformers/pipelines/base.py:1101: UserWarning: You seem to be using the pipelines sequentially on GPU. In order to maximize efficiency please use a dataset\n",
      "  warnings.warn(\n"
     ]
    },
    {
     "name": "stdout",
     "output_type": "stream",
     "text": [
      "question: How can I apply for financial aid or student loans?\n",
      " answer:  You can apply for financial aid or student loans by contacting the Singapore University of Technology and Design (SUTD)’s Financial Aid Office. They offer various forms of financial assistance, including scholarships, grants, and student loans. To apply, you can submit an online application form on their website, along with supporting documents such as your academic transcripts and proof of income. The Financial Aid Office will review your application and provide you with a financial aid package that is tailored to your needs.\n"
     ]
    },
    {
     "name": "stderr",
     "output_type": "stream",
     "text": [
      "/home/jon/Code/school/t8/mlops-assignment-4/venv/lib/python3.11/site-packages/transformers/pipelines/base.py:1101: UserWarning: You seem to be using the pipelines sequentially on GPU. In order to maximize efficiency please use a dataset\n",
      "  warnings.warn(\n"
     ]
    },
    {
     "name": "stdout",
     "output_type": "stream",
     "text": [
      "question: Is there a difference in tuition fees for local and international students?\n",
      " answer:  No, there is no difference in tuition fees for local and international students at SUTD. All students, regardless of their nationality, are charged the same tuition fees.\n"
     ]
    },
    {
     "name": "stderr",
     "output_type": "stream",
     "text": [
      "/home/jon/Code/school/t8/mlops-assignment-4/venv/lib/python3.11/site-packages/transformers/pipelines/base.py:1101: UserWarning: You seem to be using the pipelines sequentially on GPU. In order to maximize efficiency please use a dataset\n",
      "  warnings.warn(\n"
     ]
    },
    {
     "name": "stdout",
     "output_type": "stream",
     "text": [
      "question: Are there any payment plans or installment options for tuition fees?\n",
      " answer:  Yes, there are payment plans or installment options for tuition fees. Students can pay their tuition fees in monthly installments over a period of up to 20 years after graduation, with interest charged based on the average of the prevailing prime rates of the three local banks. The interest rate as at the end of the reporting period is 4.75% per annum.\n"
     ]
    },
    {
     "name": "stderr",
     "output_type": "stream",
     "text": [
      "/home/jon/Code/school/t8/mlops-assignment-4/venv/lib/python3.11/site-packages/transformers/pipelines/base.py:1101: UserWarning: You seem to be using the pipelines sequentially on GPU. In order to maximize efficiency please use a dataset\n",
      "  warnings.warn(\n"
     ]
    },
    {
     "name": "stdout",
     "output_type": "stream",
     "text": [
      "question: What additional costs should I expect besides tuition fees?\n",
      " answer:  Besides tuition fees, you should also expect to pay other student-related fees, such as the course and compulsory miscellaneous fee. These fees are recognized as revenue over time as the courses are rendered. Additionally, there may be scholarship expenses that are accounted for as a discount against the tuition fees.\n"
     ]
    },
    {
     "name": "stderr",
     "output_type": "stream",
     "text": [
      "/home/jon/Code/school/t8/mlops-assignment-4/venv/lib/python3.11/site-packages/transformers/pipelines/base.py:1101: UserWarning: You seem to be using the pipelines sequentially on GPU. In order to maximize efficiency please use a dataset\n",
      "  warnings.warn(\n"
     ]
    },
    {
     "name": "stdout",
     "output_type": "stream",
     "text": [
      "question: Are there any tuition fee waivers or discounts for specific groups of students?\n",
      " answer:  According to the financial statements, there are scholarship expenses accounted for as a discount against the tuition fees and set off against the fees to reflect the net consideration received from the students. The aggregate amount of the transaction price allocated to performance obligations that are unsatisfied or partially unsatisfied for services as at the end of the reporting period is $4,191,000 (2021: $4,233,000). Management expects that full amount will be recognised as revenue during the next reporting period.\n"
     ]
    },
    {
     "name": "stderr",
     "output_type": "stream",
     "text": [
      "/home/jon/Code/school/t8/mlops-assignment-4/venv/lib/python3.11/site-packages/transformers/pipelines/base.py:1101: UserWarning: You seem to be using the pipelines sequentially on GPU. In order to maximize efficiency please use a dataset\n",
      "  warnings.warn(\n"
     ]
    },
    {
     "name": "stdout",
     "output_type": "stream",
     "text": [
      "question: How does the tuition fee at SUTD compare to other universities in Singapore?\n",
      " answer:  SUTD's tuition fee for the academic year 2022 is SGD 35,417, which is slightly higher than the tuition fee at other universities in Singapore such as NUS and NTU, but still relatively affordable compared to private universities like SMU.\n"
     ]
    },
    {
     "name": "stderr",
     "output_type": "stream",
     "text": [
      "/home/jon/Code/school/t8/mlops-assignment-4/venv/lib/python3.11/site-packages/transformers/pipelines/base.py:1101: UserWarning: You seem to be using the pipelines sequentially on GPU. In order to maximize efficiency please use a dataset\n",
      "  warnings.warn(\n"
     ]
    },
    {
     "name": "stdout",
     "output_type": "stream",
     "text": [
      "question: Can I work part-time to help cover my tuition fees and living expenses?\n",
      " answer:  As a student at SUTD, you may not be able to work part-time to cover your tuition fees and living expenses. According to the financial statements, the university's primary source of income is from tuition and other fees, net of scholarship expenses. However, there may be limited part-time job opportunities available on campus or through the university's partnerships and sponsorships. It's best to consult with the university's student affairs or career services to explore any potential job opportunities and determine if they align with your course load and academic progress.\n"
     ]
    },
    {
     "name": "stderr",
     "output_type": "stream",
     "text": [
      "/home/jon/Code/school/t8/mlops-assignment-4/venv/lib/python3.11/site-packages/transformers/pipelines/base.py:1101: UserWarning: You seem to be using the pipelines sequentially on GPU. In order to maximize efficiency please use a dataset\n",
      "  warnings.warn(\n"
     ]
    },
    {
     "name": "stdout",
     "output_type": "stream",
     "text": [
      "question: What happens if I am unable to pay my tuition fees on time?\n",
      " answer:  If you are unable to pay your tuition fees on time, SUTD offers a study loan scheme to help students who are facing financial difficulties. The study loan scheme allows students to pay their tuition fees in monthly instalments over a period of up to 20 years after graduation, with interest charged at an average of the prevailing prime rates of the 3 local banks. Additionally, SUTD also offers scholarships and sponsorships to eligible students to help offset the cost of tuition fees. It is best to reach out to the SUTD Student Finance Office to discuss your options and find a solution that works for you.\n"
     ]
    },
    {
     "name": "stderr",
     "output_type": "stream",
     "text": [
      "/home/jon/Code/school/t8/mlops-assignment-4/venv/lib/python3.11/site-packages/transformers/pipelines/base.py:1101: UserWarning: You seem to be using the pipelines sequentially on GPU. In order to maximize efficiency please use a dataset\n",
      "  warnings.warn(\n"
     ]
    },
    {
     "name": "stdout",
     "output_type": "stream",
     "text": [
      "question: What initiatives does the university have in place to promote diversity and inclusion on campus?\n",
      " answer:  Singapore University of Technology and Design (SUTD) has various initiatives in place to promote diversity and inclusion on campus, such as the Building Gender Diversity and Special Education Needs (SEN) Support programs. Additionally, the university has a Diversity and Inclusion Council and a Gender and Inclusion Task Force to promote inclusivity and address issues related to diversity.\n"
     ]
    },
    {
     "name": "stderr",
     "output_type": "stream",
     "text": [
      "/home/jon/Code/school/t8/mlops-assignment-4/venv/lib/python3.11/site-packages/transformers/pipelines/base.py:1101: UserWarning: You seem to be using the pipelines sequentially on GPU. In order to maximize efficiency please use a dataset\n",
      "  warnings.warn(\n"
     ]
    },
    {
     "name": "stdout",
     "output_type": "stream",
     "text": [
      "question: How does the university support students from underrepresented or marginalized backgrounds?\n",
      " answer:  SUTD has a dedicated Office of Diversity, Inclusion, and Belonging that provides support for students from underrepresented or marginalized backgrounds. The office offers resources such as mentorship programs, workshops, and safe spaces to help students navigate their academic and personal challenges. Additionally, SUTD has a variety of student organizations and clubs that promote diversity and inclusion on campus.\n"
     ]
    },
    {
     "name": "stderr",
     "output_type": "stream",
     "text": [
      "/home/jon/Code/school/t8/mlops-assignment-4/venv/lib/python3.11/site-packages/transformers/pipelines/base.py:1101: UserWarning: You seem to be using the pipelines sequentially on GPU. In order to maximize efficiency please use a dataset\n",
      "  warnings.warn(\n"
     ]
    },
    {
     "name": "stdout",
     "output_type": "stream",
     "text": [
      "question: Are there any student organizations or clubs focused on diversity and inclusion?\n",
      " answer:  Yes, SUTD has several student organizations and clubs focused on diversity and inclusion, including the Diversity and Inclusion Club and the Inclusive Design and Accessibility Club. These clubs provide a platform for students to discuss and address issues related to diversity and inclusion, and to promote a more inclusive and diverse community on campus.\n"
     ]
    },
    {
     "name": "stderr",
     "output_type": "stream",
     "text": [
      "/home/jon/Code/school/t8/mlops-assignment-4/venv/lib/python3.11/site-packages/transformers/pipelines/base.py:1101: UserWarning: You seem to be using the pipelines sequentially on GPU. In order to maximize efficiency please use a dataset\n",
      "  warnings.warn(\n"
     ]
    },
    {
     "name": "stdout",
     "output_type": "stream",
     "text": [
      "question: What kind of training or education is provided to faculty and staff on diversity and inclusion topics?\n",
      " answer:  Based on the provided information, there is no explicit mention of training or education provided to faculty and staff on diversity and inclusion topics. However, the university does prioritize diversity and inclusion as one of its core values, and it has a Diversity and Inclusion Committee that promotes and supports diversity and inclusion initiatives. It is possible that such training or education may be provided through other channels or programs.\n"
     ]
    },
    {
     "name": "stderr",
     "output_type": "stream",
     "text": [
      "/home/jon/Code/school/t8/mlops-assignment-4/venv/lib/python3.11/site-packages/transformers/pipelines/base.py:1101: UserWarning: You seem to be using the pipelines sequentially on GPU. In order to maximize efficiency please use a dataset\n",
      "  warnings.warn(\n"
     ]
    },
    {
     "name": "stdout",
     "output_type": "stream",
     "text": [
      "question: How does the university ensure that its curriculum and course materials are inclusive and representative of diverse perspectives?\n",
      " answer:  SUTD's curriculum and course materials are inclusive and representative of diverse perspectives through the university's partnership with partner universities in different regions, which allows for the integration of local context and cultural differences into the learning experience. The Freshmore Asian Cross-curricular Trips (FACT) program also helps students gain regional exposure and understand diverse perspectives.\n"
     ]
    },
    {
     "name": "stderr",
     "output_type": "stream",
     "text": [
      "/home/jon/Code/school/t8/mlops-assignment-4/venv/lib/python3.11/site-packages/transformers/pipelines/base.py:1101: UserWarning: You seem to be using the pipelines sequentially on GPU. In order to maximize efficiency please use a dataset\n",
      "  warnings.warn(\n"
     ]
    },
    {
     "name": "stdout",
     "output_type": "stream",
     "text": [
      "question: What resources or support services are available for students who may face discrimination or bias on campus?\n",
      " answer:  SUTD is committed to fostering a diverse and inclusive community. The university offers various resources and support services to address discrimination and bias on campus, such as the Diversity and Inclusion Office, counseling services, and student support groups.\n"
     ]
    },
    {
     "name": "stderr",
     "output_type": "stream",
     "text": [
      "/home/jon/Code/school/t8/mlops-assignment-4/venv/lib/python3.11/site-packages/transformers/pipelines/base.py:1101: UserWarning: You seem to be using the pipelines sequentially on GPU. In order to maximize efficiency please use a dataset\n",
      "  warnings.warn(\n"
     ]
    },
    {
     "name": "stdout",
     "output_type": "stream",
     "text": [
      "question: How does the university celebrate and recognize different cultures and identities on campus?\n",
      " answer:  SUTD celebrates and recognizes different cultures and identities on campus through its Freshmore Asian Cross-curricular Trips (FACT) program, which offers students the opportunity to gain regional exposure and experience different pedagogies, as well as network and build new friendships with students from partner universities in ASEAN and China. The program is tied to specific learning goals and outcomes of corresponding Freshmore courses, allowing students to gain academic mastery of the subject and awareness of the regions' local context and cultural differences.\n"
     ]
    },
    {
     "name": "stderr",
     "output_type": "stream",
     "text": [
      "/home/jon/Code/school/t8/mlops-assignment-4/venv/lib/python3.11/site-packages/transformers/pipelines/base.py:1101: UserWarning: You seem to be using the pipelines sequentially on GPU. In order to maximize efficiency please use a dataset\n",
      "  warnings.warn(\n"
     ]
    },
    {
     "name": "stdout",
     "output_type": "stream",
     "text": [
      "question: Are there any mentorship programs or initiatives to help underrepresented students succeed academically and professionally?\n",
      " answer:  Yes, SUTD has a dedicated program called VIE (Vision, Innovation, and Entrepreneurship) that provides mentorship, resources, and support for underrepresented students to help them succeed academically and professionally. The program offers various initiatives, including curated entrepreneurship programs, incubation support, and mentorship from industry experts. Additionally, SUTD has a diverse community of students, faculty, and researchers from over 30 countries, providing a global perspective and opportunities for cross-cultural learning and collaboration.\n"
     ]
    },
    {
     "name": "stderr",
     "output_type": "stream",
     "text": [
      "/home/jon/Code/school/t8/mlops-assignment-4/venv/lib/python3.11/site-packages/transformers/pipelines/base.py:1101: UserWarning: You seem to be using the pipelines sequentially on GPU. In order to maximize efficiency please use a dataset\n",
      "  warnings.warn(\n"
     ]
    },
    {
     "name": "stdout",
     "output_type": "stream",
     "text": [
      "question: How does the university promote diversity and inclusion in its hiring and recruitment practices?\n",
      " answer:  SUTD promotes diversity and inclusion in its hiring and recruitment practices through its Diversity and Inclusion Committee, which aims to create a diverse and inclusive community. The university also has a policy of non-discrimination and equal opportunity, and it strives to ensure that its hiring and recruitment processes are fair and equitable. Additionally, SUTD has a variety of programs and initiatives to support underrepresented groups and foster a culture of inclusivity on campus.\n"
     ]
    },
    {
     "name": "stderr",
     "output_type": "stream",
     "text": [
      "/home/jon/Code/school/t8/mlops-assignment-4/venv/lib/python3.11/site-packages/transformers/pipelines/base.py:1101: UserWarning: You seem to be using the pipelines sequentially on GPU. In order to maximize efficiency please use a dataset\n",
      "  warnings.warn(\n"
     ]
    },
    {
     "name": "stdout",
     "output_type": "stream",
     "text": [
      "question: What measures are in place to ensure that campus facilities and spaces are accessible and inclusive for all students?\n",
      " answer:  SUTD has implemented various measures to ensure that campus facilities and spaces are accessible and inclusive for all students. These include wheelchair-accessible buildings and classrooms, gender-neutral restrooms, and quiet rooms for students with sensory sensitivities. Additionally, the university has a Special Education Needs (SEN) Support program to provide assistance to students with disabilities.\n"
     ]
    },
    {
     "name": "stderr",
     "output_type": "stream",
     "text": [
      "/home/jon/Code/school/t8/mlops-assignment-4/venv/lib/python3.11/site-packages/transformers/pipelines/base.py:1101: UserWarning: You seem to be using the pipelines sequentially on GPU. In order to maximize efficiency please use a dataset\n",
      "  warnings.warn(\n"
     ]
    },
    {
     "name": "stdout",
     "output_type": "stream",
     "text": [
      "question: What are the available study abroad and exchange programs at the university?\n",
      " answer:  SUTD offers 228 overseas semester exchange opportunities in 38 destinations across 17 countries through its Global Exchange Programme (GEXP). The university also offers more than 40 summer programs in 12 countries with experiences ranging from summer school to research projects and immersion opportunities. Additionally, SUTD offers alternative options to students whose travel plans and learning experiences were impacted by global travel restrictions, including partner universities' virtual summer programmes or local internships and summer schools.\n"
     ]
    },
    {
     "name": "stderr",
     "output_type": "stream",
     "text": [
      "/home/jon/Code/school/t8/mlops-assignment-4/venv/lib/python3.11/site-packages/transformers/pipelines/base.py:1101: UserWarning: You seem to be using the pipelines sequentially on GPU. In order to maximize efficiency please use a dataset\n",
      "  warnings.warn(\n"
     ]
    },
    {
     "name": "stdout",
     "output_type": "stream",
     "text": [
      "question: How do I apply for these programs?\n",
      " answer:  You can find the application timeline and process, as well as admission requirements, on the SUTD website under the Admissions section.\n"
     ]
    },
    {
     "name": "stderr",
     "output_type": "stream",
     "text": [
      "/home/jon/Code/school/t8/mlops-assignment-4/venv/lib/python3.11/site-packages/transformers/pipelines/base.py:1101: UserWarning: You seem to be using the pipelines sequentially on GPU. In order to maximize efficiency please use a dataset\n",
      "  warnings.warn(\n"
     ]
    },
    {
     "name": "stdout",
     "output_type": "stream",
     "text": [
      "question: What are the eligibility requirements for participating in these programs?\n",
      " answer:  To be eligible for the SUTD Early Admissions and Scholarship Application, you must have a minimum CAP score of 250 and have achieved a minimum grade of B3 in both Mathematics and Science subjects at the O-Level or equivalent qualification. Additionally, you must have a good pass in your Additional Mathematics and Science subjects, i.e. Physics or Chemistry, in the O-Level or equivalent qualification. Please note that SAT and AP scores are optional.\n"
     ]
    },
    {
     "name": "stderr",
     "output_type": "stream",
     "text": [
      "/home/jon/Code/school/t8/mlops-assignment-4/venv/lib/python3.11/site-packages/transformers/pipelines/base.py:1101: UserWarning: You seem to be using the pipelines sequentially on GPU. In order to maximize efficiency please use a dataset\n",
      "  warnings.warn(\n"
     ]
    },
    {
     "name": "stdout",
     "output_type": "stream",
     "text": [
      "question: How much does it cost to participate in a study abroad or exchange program?\n",
      " answer:  The cost of participating in a study abroad or exchange program at SUTD varies depending on the program and destination. In 2021/22, the cost of tuition and other fees for a semester exchange program ranged from $8,422 to $9,555, depending on the host institution and location. Additionally, there may be other expenses such as living expenses, travel, and health insurance. The university offers scholarships and financial assistance to help offset these costs.\n"
     ]
    },
    {
     "name": "stderr",
     "output_type": "stream",
     "text": [
      "/home/jon/Code/school/t8/mlops-assignment-4/venv/lib/python3.11/site-packages/transformers/pipelines/base.py:1101: UserWarning: You seem to be using the pipelines sequentially on GPU. In order to maximize efficiency please use a dataset\n",
      "  warnings.warn(\n"
     ]
    },
    {
     "name": "stdout",
     "output_type": "stream",
     "text": [
      "question: Are there any scholarships or financial aid available for these programs?\n",
      " answer:  Yes, SUTD offers scholarships and financial aid to students enrolled in its programs. In the 2021/2022 academic year, the university awarded $35,499 in scholarships and sponsorships, as reported in the annual report. However, the amount of scholarship expenses deducted from tuition and other fees net was $11,274, resulting in a net scholarship income of $24,225. Additionally, the university received $2,645 in donations and sponsorships.\n"
     ]
    },
    {
     "name": "stderr",
     "output_type": "stream",
     "text": [
      "/home/jon/Code/school/t8/mlops-assignment-4/venv/lib/python3.11/site-packages/transformers/pipelines/base.py:1101: UserWarning: You seem to be using the pipelines sequentially on GPU. In order to maximize efficiency please use a dataset\n",
      "  warnings.warn(\n"
     ]
    },
    {
     "name": "stdout",
     "output_type": "stream",
     "text": [
      "question: How will credits earned during a study abroad or exchange program transfer back to my degree program?\n",
      " answer:  The University recognizes the transfer of credits earned during a study abroad or exchange program back to your degree program. Please consult with the Registrar's Office to ensure the transfer of credits and to verify the requirements for your degree program.\n"
     ]
    },
    {
     "name": "stderr",
     "output_type": "stream",
     "text": [
      "/home/jon/Code/school/t8/mlops-assignment-4/venv/lib/python3.11/site-packages/transformers/pipelines/base.py:1101: UserWarning: You seem to be using the pipelines sequentially on GPU. In order to maximize efficiency please use a dataset\n",
      "  warnings.warn(\n"
     ]
    },
    {
     "name": "stdout",
     "output_type": "stream",
     "text": [
      "question: What kind of support and resources are available for students participating in these programs?\n",
      " answer:  SUTD provides various support and resources for students participating in its programs, such as GEMS Career Portal, career workshops, events, internships, and industry partnerships. These resources help students develop their skills, gain practical experience, and connect with industry professionals.\n"
     ]
    },
    {
     "name": "stderr",
     "output_type": "stream",
     "text": [
      "/home/jon/Code/school/t8/mlops-assignment-4/venv/lib/python3.11/site-packages/transformers/pipelines/base.py:1101: UserWarning: You seem to be using the pipelines sequentially on GPU. In order to maximize efficiency please use a dataset\n",
      "  warnings.warn(\n"
     ]
    },
    {
     "name": "stdout",
     "output_type": "stream",
     "text": [
      "question: How long do these programs typically last?\n",
      " answer:  Based on the information provided, the estimated useful lives of the computer software licenses are typically 3 to 5 years, and the estimated useful lives of the furniture and fittings, audio visual and office equipment, and motor vehicles are typically 7 years, 5 to 8 years, and 10 years, respectively.\n"
     ]
    },
    {
     "name": "stderr",
     "output_type": "stream",
     "text": [
      "/home/jon/Code/school/t8/mlops-assignment-4/venv/lib/python3.11/site-packages/transformers/pipelines/base.py:1101: UserWarning: You seem to be using the pipelines sequentially on GPU. In order to maximize efficiency please use a dataset\n",
      "  warnings.warn(\n"
     ]
    },
    {
     "name": "stdout",
     "output_type": "stream",
     "text": [
      "question: Can I work or intern while participating in a study abroad or exchange program?\n",
      " answer:  Yes, many study abroad and exchange programs offer opportunities to work or intern while studying abroad. These opportunities can range from part-time jobs to internships with local businesses or organizations. Some programs may even offer course credit for internships or work experience. It's important to research the specific program you're interested in and speak with the program provider or host university to learn more about the work and internship opportunities available.\n"
     ]
    },
    {
     "name": "stderr",
     "output_type": "stream",
     "text": [
      "/home/jon/Code/school/t8/mlops-assignment-4/venv/lib/python3.11/site-packages/transformers/pipelines/base.py:1101: UserWarning: You seem to be using the pipelines sequentially on GPU. In order to maximize efficiency please use a dataset\n",
      "  warnings.warn(\n"
     ]
    },
    {
     "name": "stdout",
     "output_type": "stream",
     "text": [
      "question: How will participating in these programs enhance my educational experience and future career prospects?\n",
      " answer:  The programs offered by SUTD, including the undergraduate programmes and specialisation tracks, are designed to provide students with a well-rounded education that combines science, technology, engineering, and mathematics (STEM) with design and humanities. By participating in these programs, students can gain a unique combination of skills and knowledge that will enhance their educational experience and future career prospects. For example, the Architecture and Sustainable Design program can provide students with the skills and knowledge needed to design sustainable and environmentally friendly buildings, while the Computer Science and Design program can provide students with the skills and knowledge needed to develop innovative and user-friendly software. Additionally, the specialisation tracks in Design and Artificial Intelligence, Engineering Product Development, and Engineering Systems and Design can provide students with specialised knowledge and skills that can help them stand out in their future careers.\n"
     ]
    },
    {
     "name": "stderr",
     "output_type": "stream",
     "text": [
      "/home/jon/Code/school/t8/mlops-assignment-4/venv/lib/python3.11/site-packages/transformers/pipelines/base.py:1101: UserWarning: You seem to be using the pipelines sequentially on GPU. In order to maximize efficiency please use a dataset\n",
      "  warnings.warn(\n"
     ]
    },
    {
     "name": "stdout",
     "output_type": "stream",
     "text": [
      "question: What resources and support does SUTD provide for students interested in entrepreneurship and innovation?\n",
      " answer:  SUTD offers a range of resources and support for students interested in entrepreneurship and innovation, including curated entrepreneurship programs, incubation support, mentorship from industry experts, and access to a network of over 30 start-up teams currently incubating in SUTD. The Venture, Innovation & Entrepreneurship (VIE) Office provides support for alumni, students, researchers, and mid-career aspiring entrepreneurs to turn their ideas into reality.\n"
     ]
    },
    {
     "name": "stderr",
     "output_type": "stream",
     "text": [
      "/home/jon/Code/school/t8/mlops-assignment-4/venv/lib/python3.11/site-packages/transformers/pipelines/base.py:1101: UserWarning: You seem to be using the pipelines sequentially on GPU. In order to maximize efficiency please use a dataset\n",
      "  warnings.warn(\n"
     ]
    },
    {
     "name": "stdout",
     "output_type": "stream",
     "text": [
      "question: Are there any entrepreneurship or innovation-focused courses or programs offered at SUTD?\n",
      " answer:  Yes, SUTD offers several entrepreneurship and innovation-focused courses and programs, including the Minor in Artificial Intelligence, Minor in Design Innovation, Ventures and Entrepreneurship, and the SUTD Technology Entrepreneurship Programme. Additionally, the Venture, Innovation & Entrepreneurship Office provides support for students, researchers, and alumni to turn their ideas into reality.\n"
     ]
    },
    {
     "name": "stderr",
     "output_type": "stream",
     "text": [
      "/home/jon/Code/school/t8/mlops-assignment-4/venv/lib/python3.11/site-packages/transformers/pipelines/base.py:1101: UserWarning: You seem to be using the pipelines sequentially on GPU. In order to maximize efficiency please use a dataset\n",
      "  warnings.warn(\n"
     ]
    },
    {
     "name": "stdout",
     "output_type": "stream",
     "text": [
      "question: Does SUTD have any partnerships or collaborations with industry or startup incubators?\n",
      " answer:  Yes, SUTD has partnerships and collaborations with industry or startup incubators. The university has established an integrated ecosystem that includes curated entrepreneurship programs, incubation support, and mentorship from industry. The Venture, Innovation & Entrepreneurship Office provides support for alumni, students, researchers, and mid-career aspiring entrepreneurs to turn their ideas into reality. SUTD has also fostered over 1,000 industry partnerships that provide students with research, internship, and employment opportunities.\n"
     ]
    },
    {
     "name": "stderr",
     "output_type": "stream",
     "text": [
      "/home/jon/Code/school/t8/mlops-assignment-4/venv/lib/python3.11/site-packages/transformers/pipelines/base.py:1101: UserWarning: You seem to be using the pipelines sequentially on GPU. In order to maximize efficiency please use a dataset\n",
      "  warnings.warn(\n"
     ]
    },
    {
     "name": "stdout",
     "output_type": "stream",
     "text": [
      "question: Are there opportunities for students to work on real-world projects or case studies related to entrepreneurship and innovation?\n",
      " answer:  Yes, SUTD offers various opportunities for students to work on real-world projects and case studies related to entrepreneurship and innovation. These include collaborative projects with industry partners, incubation support, and funding for start-ups. Additionally, SUTD has a vibrant research and development ecosystem that brings together education, research, industry, and entrepreneurship, providing students with access to on-campus research and development facilities and talents.\n"
     ]
    },
    {
     "name": "stderr",
     "output_type": "stream",
     "text": [
      "/home/jon/Code/school/t8/mlops-assignment-4/venv/lib/python3.11/site-packages/transformers/pipelines/base.py:1101: UserWarning: You seem to be using the pipelines sequentially on GPU. In order to maximize efficiency please use a dataset\n",
      "  warnings.warn(\n"
     ]
    },
    {
     "name": "stdout",
     "output_type": "stream",
     "text": [
      "question: Can students access mentorship or guidance from experienced entrepreneurs or industry professionals?\n",
      " answer:  Yes, SUTD offers entrepreneurship capstone projects, incubation support, and guidance from mentors to help students turn their ideas into reality. The Venture, Innovation & Entrepreneurship Office provides a platform for students to connect with experienced entrepreneurs and industry professionals who can offer mentorship and guidance.\n"
     ]
    },
    {
     "name": "stderr",
     "output_type": "stream",
     "text": [
      "/home/jon/Code/school/t8/mlops-assignment-4/venv/lib/python3.11/site-packages/transformers/pipelines/base.py:1101: UserWarning: You seem to be using the pipelines sequentially on GPU. In order to maximize efficiency please use a dataset\n",
      "  warnings.warn(\n"
     ]
    },
    {
     "name": "stdout",
     "output_type": "stream",
     "text": [
      "question: Does SUTD host any entrepreneurship or innovation-related events, competitions, or hackathons?\n",
      " answer:  Yes, SUTD hosts various entrepreneurship and innovation-related events, competitions, and hackathons throughout the year. These include the SUTD Start-up Showcase, the SUTD Innovation Hackathon, and the SUTD Entrepreneurship Capstone Project. These events provide a platform for students, researchers, and industry partners to showcase their innovative ideas and collaborate on new projects.\n"
     ]
    },
    {
     "name": "stderr",
     "output_type": "stream",
     "text": [
      "/home/jon/Code/school/t8/mlops-assignment-4/venv/lib/python3.11/site-packages/transformers/pipelines/base.py:1101: UserWarning: You seem to be using the pipelines sequentially on GPU. In order to maximize efficiency please use a dataset\n",
      "  warnings.warn(\n"
     ]
    },
    {
     "name": "stdout",
     "output_type": "stream",
     "text": [
      "question: Are there any student clubs or organizations focused on entrepreneurship and innovation at SUTD?\n",
      " answer:  Yes, SUTD has several student clubs and organizations focused on entrepreneurship and innovation, such as the SUTD Entrepreneurship Club and the SUTD Innovation and Design Club. These clubs provide a platform for students to collaborate, share ideas, and gain hands-on experience in entrepreneurship and innovation. Additionally, the Venture, Innovation & Entrepreneurship (VIE) Office at SUTD offers a range of programmes and resources to support student entrepreneurship and innovation, including entrepreneurship capstone projects, incubation support, and mentorship from industry experts.\n"
     ]
    },
    {
     "name": "stderr",
     "output_type": "stream",
     "text": [
      "/home/jon/Code/school/t8/mlops-assignment-4/venv/lib/python3.11/site-packages/transformers/pipelines/base.py:1101: UserWarning: You seem to be using the pipelines sequentially on GPU. In order to maximize efficiency please use a dataset\n",
      "  warnings.warn(\n"
     ]
    },
    {
     "name": "stdout",
     "output_type": "stream",
     "text": [
      "question: What kind of funding or financial support is available for student-led entrepreneurial ventures or projects?\n",
      " answer:  SUTD offers various forms of financial support for student-led entrepreneurial ventures or projects, including scholarships, financial aid, and funding from external parties. The university's endowment fund and donations from external parties also provide capital for these ventures. Additionally, the university's 100% fundraising efficiency ratio ensures that every dollar raised goes directly towards supporting these initiatives.\n"
     ]
    },
    {
     "name": "stderr",
     "output_type": "stream",
     "text": [
      "/home/jon/Code/school/t8/mlops-assignment-4/venv/lib/python3.11/site-packages/transformers/pipelines/base.py:1101: UserWarning: You seem to be using the pipelines sequentially on GPU. In order to maximize efficiency please use a dataset\n",
      "  warnings.warn(\n"
     ]
    },
    {
     "name": "stdout",
     "output_type": "stream",
     "text": [
      "question: Does SUTD provide any resources or support for intellectual property protection or commercialization of ideas?\n",
      " answer:  Yes, SUTD has an Innovation and Commercialization Office that provides resources and support for intellectual property protection and commercialization of ideas. The office helps faculty, researchers, and students to protect and commercialize their research and innovations through patent filing, licensing, and spin-off company formation. Additionally, SUTD has partnerships with industry partners and government agencies to support the commercialization of research outputs.\n"
     ]
    },
    {
     "name": "stderr",
     "output_type": "stream",
     "text": [
      "/home/jon/Code/school/t8/mlops-assignment-4/venv/lib/python3.11/site-packages/transformers/pipelines/base.py:1101: UserWarning: You seem to be using the pipelines sequentially on GPU. In order to maximize efficiency please use a dataset\n",
      "  warnings.warn(\n"
     ]
    },
    {
     "name": "stdout",
     "output_type": "stream",
     "text": [
      "question: Are there any success stories or notable alumni from SUTD who have started their own successful businesses or innovations?\n",
      " answer:  Yes, there are several success stories and notable alumni from SUTD who have started their own successful businesses or innovations. One example is Wang Wei Liang, who founded a start-up that was one of the winners at Enterprise Singapore's Founder Ignite competition and received close to $50,000 of start-up resources and support under the Startup SG Founder grant. Another example is the many start-ups that have been incubated and grown through SUTD's Venture, Innovation & Entrepreneurship Office, with over 30 teams currently incubating and growing.\n"
     ]
    },
    {
     "name": "stderr",
     "output_type": "stream",
     "text": [
      "/home/jon/Code/school/t8/mlops-assignment-4/venv/lib/python3.11/site-packages/transformers/pipelines/base.py:1101: UserWarning: You seem to be using the pipelines sequentially on GPU. In order to maximize efficiency please use a dataset\n",
      "  warnings.warn(\n"
     ]
    },
    {
     "name": "stdout",
     "output_type": "stream",
     "text": [
      "question: What sustainability initiatives does the university have in place?\n",
      " answer:  The Singapore University of Technology and Design (SUTD) has set up a new design research center, DesignZ, to lead the university's sustainability efforts. The center focuses on research, innovation, services, and education in the area of sustainability and circularity, with the goal of transforming the campus into a green experimental ground for testing new sustainable technologies.\n"
     ]
    },
    {
     "name": "stderr",
     "output_type": "stream",
     "text": [
      "/home/jon/Code/school/t8/mlops-assignment-4/venv/lib/python3.11/site-packages/transformers/pipelines/base.py:1101: UserWarning: You seem to be using the pipelines sequentially on GPU. In order to maximize efficiency please use a dataset\n",
      "  warnings.warn(\n"
     ]
    },
    {
     "name": "stdout",
     "output_type": "stream",
     "text": [
      "question: How does the university promote sustainable practices on campus?\n",
      " answer:  The Singapore University of Technology and Design (SUTD) has launched the SUTD Sustainability and Social Progress (SSP) initiatives to promote sustainable practices on campus. Under this multi-faceted plan, the university aims to transform its campus into a green experimental ground for testing new sustainable technologies, launch new research initiatives on Circular Economy, and provide hands-on sustainability education for students. To achieve these goals, SUTD has set up a new design research center, DesignZ, to lead the university's sustainability efforts. The center will work to establish integrated partnerships with public and private sectors to offer support and leadership in design and focus on sustainability and circularity approaches to solve challenges and bring about transformations of recognizable value to the industry and society at large.\n"
     ]
    },
    {
     "name": "stderr",
     "output_type": "stream",
     "text": [
      "/home/jon/Code/school/t8/mlops-assignment-4/venv/lib/python3.11/site-packages/transformers/pipelines/base.py:1101: UserWarning: You seem to be using the pipelines sequentially on GPU. In order to maximize efficiency please use a dataset\n",
      "  warnings.warn(\n"
     ]
    },
    {
     "name": "stdout",
     "output_type": "stream",
     "text": [
      "question: Are there any student organizations or clubs focused on sustainability?\n",
      " answer:  Yes, there is a student organization called the environmental Fifth Row club, which organized the SUTD Sustainable Design Hack, a sustainability-themed ideation competition to raise awareness of environmental issues and sustainability among Singaporean youths.\n"
     ]
    },
    {
     "name": "stderr",
     "output_type": "stream",
     "text": [
      "/home/jon/Code/school/t8/mlops-assignment-4/venv/lib/python3.11/site-packages/transformers/pipelines/base.py:1101: UserWarning: You seem to be using the pipelines sequentially on GPU. In order to maximize efficiency please use a dataset\n",
      "  warnings.warn(\n"
     ]
    },
    {
     "name": "stdout",
     "output_type": "stream",
     "text": [
      "question: Does the university offer courses or programs related to sustainability?\n",
      " answer:  Yes, SUTD offers several programs and courses related to sustainability, including Architecture and Sustainable Design (ASD), Computer Science and Design (CSD), Design and Artificial Intelligence (DAI), and Engineering Product Development (EPD). These programs incorporate sustainability into their curriculum, focusing on the design and development of innovative and environmentally friendly solutions.\n"
     ]
    },
    {
     "name": "stderr",
     "output_type": "stream",
     "text": [
      "/home/jon/Code/school/t8/mlops-assignment-4/venv/lib/python3.11/site-packages/transformers/pipelines/base.py:1101: UserWarning: You seem to be using the pipelines sequentially on GPU. In order to maximize efficiency please use a dataset\n",
      "  warnings.warn(\n"
     ]
    },
    {
     "name": "stdout",
     "output_type": "stream",
     "text": [
      "question: How does the university manage its energy consumption and waste reduction efforts?\n",
      " answer:  The university has set up a new design research center, DesignZ, to lead its sustainability efforts. The center focuses on circular economy research and innovation, and provides hands-on sustainability education for students. The university has also established integrated partnerships with public and private sectors to support sustainable practices and reduce waste. Additionally, the university uses energy-efficient equipment and technologies to manage its energy consumption.\n"
     ]
    },
    {
     "name": "stderr",
     "output_type": "stream",
     "text": [
      "/home/jon/Code/school/t8/mlops-assignment-4/venv/lib/python3.11/site-packages/transformers/pipelines/base.py:1101: UserWarning: You seem to be using the pipelines sequentially on GPU. In order to maximize efficiency please use a dataset\n",
      "  warnings.warn(\n"
     ]
    },
    {
     "name": "stdout",
     "output_type": "stream",
     "text": [
      "question: Are there any green building initiatives or sustainable infrastructure on campus?\n",
      " answer:  Yes, the Singapore University of Technology and Design (SUTD) has launched a multi-faceted sustainability plan, which includes transforming the campus into a green experimental ground for the test-bedding of new sustainable technologies. This includes the development of low-carbon campuses and green buildings. Additionally, the university has established a DesignZ centre to lead sustainability efforts and provide hands-on sustainability education for students.\n"
     ]
    },
    {
     "name": "stderr",
     "output_type": "stream",
     "text": [
      "/home/jon/Code/school/t8/mlops-assignment-4/venv/lib/python3.11/site-packages/transformers/pipelines/base.py:1101: UserWarning: You seem to be using the pipelines sequentially on GPU. In order to maximize efficiency please use a dataset\n",
      "  warnings.warn(\n"
     ]
    },
    {
     "name": "stdout",
     "output_type": "stream",
     "text": [
      "question: Does the university have any partnerships or collaborations with environmental organizations?\n",
      " answer:  Yes, the Singapore University of Technology and Design (SUTD) has partnerships and collaborations with environmental organizations. For example, the university has established the SUTD-NUS Joint Research Institute for Environmental Sustainability, which aims to address pressing environmental issues through interdisciplinary research and innovation. Additionally, SUTD has partnered with the National Parks Board to develop sustainable solutions for the urban environment.\n"
     ]
    },
    {
     "name": "stderr",
     "output_type": "stream",
     "text": [
      "/home/jon/Code/school/t8/mlops-assignment-4/venv/lib/python3.11/site-packages/transformers/pipelines/base.py:1101: UserWarning: You seem to be using the pipelines sequentially on GPU. In order to maximize efficiency please use a dataset\n",
      "  warnings.warn(\n"
     ]
    },
    {
     "name": "stdout",
     "output_type": "stream",
     "text": [
      "question: How does the university encourage sustainable transportation options for students and staff?\n",
      " answer:  The Singapore University of Technology and Design (SUTD) encourages sustainable transportation options for students and staff through its Cyber-physical Campus initiative, which aims to seamlessly connect ideas, people, business, and technology. As part of this initiative, the university offers alternative learning opportunities locally through remote internships and/or local summer schools, and prioritizes students whose last window of opportunity for global travel was in 2020. Additionally, the university has partnered with like-minded partners to amplify the impact of its Sustainable Solutions Program (SSP), including SingHealth and the North West Community Development Council (CDC).\n"
     ]
    },
    {
     "name": "stderr",
     "output_type": "stream",
     "text": [
      "/home/jon/Code/school/t8/mlops-assignment-4/venv/lib/python3.11/site-packages/transformers/pipelines/base.py:1101: UserWarning: You seem to be using the pipelines sequentially on GPU. In order to maximize efficiency please use a dataset\n",
      "  warnings.warn(\n"
     ]
    },
    {
     "name": "stdout",
     "output_type": "stream",
     "text": [
      "question: Are there any sustainability-related research projects or initiatives at the university?\n",
      " answer:  Yes, the university has launched a new research initiative on Circular Economy to generate sustainable products and software solutions.\n"
     ]
    },
    {
     "name": "stderr",
     "output_type": "stream",
     "text": [
      "/home/jon/Code/school/t8/mlops-assignment-4/venv/lib/python3.11/site-packages/transformers/pipelines/base.py:1101: UserWarning: You seem to be using the pipelines sequentially on GPU. In order to maximize efficiency please use a dataset\n",
      "  warnings.warn(\n"
     ]
    },
    {
     "name": "stdout",
     "output_type": "stream",
     "text": [
      "question: What are the university's long-term goals and plans for becoming more sustainable?\n",
      " answer:  SUTD has announced a multi-faceted sustainability plan that leverages technology and design thinking to build a more sustainable and happier world by design. The plan includes transforming the campus into a green experimental ground for sustainable technologies, launching a new research initiative on circular economy, and providing hands-on sustainability education.\n"
     ]
    },
    {
     "name": "stderr",
     "output_type": "stream",
     "text": [
      "/home/jon/Code/school/t8/mlops-assignment-4/venv/lib/python3.11/site-packages/transformers/pipelines/base.py:1101: UserWarning: You seem to be using the pipelines sequentially on GPU. In order to maximize efficiency please use a dataset\n",
      "  warnings.warn(\n"
     ]
    },
    {
     "name": "stdout",
     "output_type": "stream",
     "text": [
      "question: What types of student clubs and organizations are available at the university?\n",
      " answer:  The university offers a variety of student clubs and organizations, including academic, cultural, and recreational clubs. Some examples include the Robotics Club, the Photography Club, and the Dance Club. These clubs provide students with opportunities to engage in extracurricular activities, develop their skills and interests, and connect with like-minded peers.\n"
     ]
    },
    {
     "name": "stderr",
     "output_type": "stream",
     "text": [
      "/home/jon/Code/school/t8/mlops-assignment-4/venv/lib/python3.11/site-packages/transformers/pipelines/base.py:1101: UserWarning: You seem to be using the pipelines sequentially on GPU. In order to maximize efficiency please use a dataset\n",
      "  warnings.warn(\n"
     ]
    },
    {
     "name": "stdout",
     "output_type": "stream",
     "text": [
      "question: How do I join a student club or organization?\n",
      " answer:  To join a student club or organization at SUTD, you can visit the Student Development section of the website and look for the \"Clubs and Organizations\" page. From there, you can find a list of all the clubs and organizations available, as well as information on how to join. You can also reach out to the Student Development team directly for more information.\n"
     ]
    },
    {
     "name": "stderr",
     "output_type": "stream",
     "text": [
      "/home/jon/Code/school/t8/mlops-assignment-4/venv/lib/python3.11/site-packages/transformers/pipelines/base.py:1101: UserWarning: You seem to be using the pipelines sequentially on GPU. In order to maximize efficiency please use a dataset\n",
      "  warnings.warn(\n"
     ]
    },
    {
     "name": "stdout",
     "output_type": "stream",
     "text": [
      "question: Are there any fees associated with joining a student club or organization?\n",
      " answer:  Based on the information provided in the financial statements, there are no fees associated with joining a student club or organization. All the revenue recognized by the university is from tuition and other fees, donations, and sponsorships. There is no mention of any fees related to student clubs or organizations.\n"
     ]
    },
    {
     "name": "stderr",
     "output_type": "stream",
     "text": [
      "/home/jon/Code/school/t8/mlops-assignment-4/venv/lib/python3.11/site-packages/transformers/pipelines/base.py:1101: UserWarning: You seem to be using the pipelines sequentially on GPU. In order to maximize efficiency please use a dataset\n",
      "  warnings.warn(\n"
     ]
    },
    {
     "name": "stdout",
     "output_type": "stream",
     "text": [
      "question: How much time commitment is typically required for active participation in a student club or organization?\n",
      " answer:  According to a student's testimonial, active participation in a student club or organization typically requires a time commitment of 4 to 6 hours per week. This may vary depending on the specific club or organization and the student's role within it.\n"
     ]
    },
    {
     "name": "stderr",
     "output_type": "stream",
     "text": [
      "/home/jon/Code/school/t8/mlops-assignment-4/venv/lib/python3.11/site-packages/transformers/pipelines/base.py:1101: UserWarning: You seem to be using the pipelines sequentially on GPU. In order to maximize efficiency please use a dataset\n",
      "  warnings.warn(\n"
     ]
    },
    {
     "name": "stdout",
     "output_type": "stream",
     "text": [
      "question: Do student clubs and organizations offer leadership opportunities?\n",
      " answer:  Yes, student clubs and organizations at SUTD provide various leadership opportunities for students to develop their leadership skills and gain experience in leading and managing teams. The university offers a range of clubs and organizations that cater to different interests and passions, and students can get involved in these clubs to gain hands-on experience in leadership and teamwork.\n"
     ]
    },
    {
     "name": "stderr",
     "output_type": "stream",
     "text": [
      "/home/jon/Code/school/t8/mlops-assignment-4/venv/lib/python3.11/site-packages/transformers/pipelines/base.py:1101: UserWarning: You seem to be using the pipelines sequentially on GPU. In order to maximize efficiency please use a dataset\n",
      "  warnings.warn(\n"
     ]
    },
    {
     "name": "stdout",
     "output_type": "stream",
     "text": [
      "question: Can I start a new student club or organization if there isn't one that aligns with my interests?\n",
      " answer:  Yes, you can start a new student club or organization if there isn't one that aligns with your interests. SUTD encourages students to take the initiative in establishing new clubs and organizations that align with their interests and passions. To start a new club or organization, you can reach out to the Student Development Office for more information and guidance.\n"
     ]
    },
    {
     "name": "stderr",
     "output_type": "stream",
     "text": [
      "/home/jon/Code/school/t8/mlops-assignment-4/venv/lib/python3.11/site-packages/transformers/pipelines/base.py:1101: UserWarning: You seem to be using the pipelines sequentially on GPU. In order to maximize efficiency please use a dataset\n",
      "  warnings.warn(\n"
     ]
    },
    {
     "name": "stdout",
     "output_type": "stream",
     "text": [
      "question: Are there any academic or professional benefits to being involved in student clubs and organizations?\n",
      " answer:  Yes, there are several academic and professional benefits to being involved in student clubs and organizations at SUTD. These include opportunities for leadership development, networking, and gaining practical experience in your field of interest. Additionally, participating in club and organization activities can help you develop important skills such as teamwork, communication, and problem-solving, which can be valuable in your future career.\n"
     ]
    },
    {
     "name": "stderr",
     "output_type": "stream",
     "text": [
      "/home/jon/Code/school/t8/mlops-assignment-4/venv/lib/python3.11/site-packages/transformers/pipelines/base.py:1101: UserWarning: You seem to be using the pipelines sequentially on GPU. In order to maximize efficiency please use a dataset\n",
      "  warnings.warn(\n"
     ]
    },
    {
     "name": "stdout",
     "output_type": "stream",
     "text": [
      "question: Do student clubs and organizations organize events or activities on campus?\n",
      " answer:  Yes, student clubs and organizations at SUTD organize various events and activities on campus, including cultural and recreational activities, community service projects, and academic and professional development workshops. These events and activities are often announced on the university's event calendar and are open to all students.\n"
     ]
    },
    {
     "name": "stderr",
     "output_type": "stream",
     "text": [
      "/home/jon/Code/school/t8/mlops-assignment-4/venv/lib/python3.11/site-packages/transformers/pipelines/base.py:1101: UserWarning: You seem to be using the pipelines sequentially on GPU. In order to maximize efficiency please use a dataset\n",
      "  warnings.warn(\n"
     ]
    },
    {
     "name": "stdout",
     "output_type": "stream",
     "text": [
      "question: Are there any student clubs or organizations specifically for my major or area of study?\n",
      " answer:  Yes, SUTD has a variety of student clubs and organizations that align with different majors and areas of study. For example, the Computer Science Club is open to all students interested in computer science, and the Design and Art Club is open to students interested in design and art-related fields. Additionally, SUTD has a number of student-led organizations that focus on specific areas of study, such as the Robotics Club and the Data Science Club. These clubs and organizations provide a great opportunity to connect with like-minded students, gain practical experience, and develop valuable skills outside of the classroom.\n"
     ]
    },
    {
     "name": "stderr",
     "output_type": "stream",
     "text": [
      "/home/jon/Code/school/t8/mlops-assignment-4/venv/lib/python3.11/site-packages/transformers/pipelines/base.py:1101: UserWarning: You seem to be using the pipelines sequentially on GPU. In order to maximize efficiency please use a dataset\n",
      "  warnings.warn(\n"
     ]
    },
    {
     "name": "stdout",
     "output_type": "stream",
     "text": [
      "question: How can being involved in student clubs and organizations help me develop skills and experiences for my future career?\n",
      " answer:  \n",
      "\n",
      "Being involved in student clubs and organizations can provide you with valuable skills and experiences that can benefit your future career. Here are some ways how:\n",
      "\n",
      "1. Leadership and teamwork: Many student clubs and organizations offer leadership positions, allowing you to develop your leadership skills and learn how to work effectively in a team.\n",
      "\n",
      "2. Time management and organization: Participating in extracurricular activities can help you learn how to manage your time and prioritize tasks, which is an essential skill for any career.\n",
      "\n",
      "3. Networking: Student clubs and organizations can provide you with opportunities to connect with other students, faculty members, and industry professionals, potentially leading to valuable networking opportunities.\n",
      "\n",
      "4. Skill development: Depending on the club or organization you choose to join, you may have the opportunity to develop specific skills related to that activity, such as public speaking, event planning, or technical skills.\n",
      "\n",
      "5. Personal growth: Being involved in student clubs and organizations can help you discover your passions and interests, and help you grow both personally and professionally.\n",
      "\n",
      "Overall, being involved in student clubs and organizations can provide you with a well-rounded education and help you develop the skills and experiences that will benefit your future career.\n"
     ]
    },
    {
     "name": "stderr",
     "output_type": "stream",
     "text": [
      "/home/jon/Code/school/t8/mlops-assignment-4/venv/lib/python3.11/site-packages/transformers/pipelines/base.py:1101: UserWarning: You seem to be using the pipelines sequentially on GPU. In order to maximize efficiency please use a dataset\n",
      "  warnings.warn(\n"
     ]
    },
    {
     "name": "stdout",
     "output_type": "stream",
     "text": [
      "question: What types of sports and recreation facilities are available on campus?\n",
      " answer:  SUTD offers a range of sports and recreation facilities on campus, including a state-of-the-art Sports and Recreation Centre with a gymnasium, fitness studio, and multi-purpose courts. There are also outdoor recreational spaces and a jogging trail for students to enjoy.\n"
     ]
    },
    {
     "name": "stderr",
     "output_type": "stream",
     "text": [
      "/home/jon/Code/school/t8/mlops-assignment-4/venv/lib/python3.11/site-packages/transformers/pipelines/base.py:1101: UserWarning: You seem to be using the pipelines sequentially on GPU. In order to maximize efficiency please use a dataset\n",
      "  warnings.warn(\n"
     ]
    },
    {
     "name": "stdout",
     "output_type": "stream",
     "text": [
      "question: Are there any fitness centers or gyms available for students?\n",
      " answer:  Yes, there is a Sports and Recreation Centre available for students. It includes a gym, fitness classes, and sports facilities.\n"
     ]
    },
    {
     "name": "stderr",
     "output_type": "stream",
     "text": [
      "/home/jon/Code/school/t8/mlops-assignment-4/venv/lib/python3.11/site-packages/transformers/pipelines/base.py:1101: UserWarning: You seem to be using the pipelines sequentially on GPU. In order to maximize efficiency please use a dataset\n",
      "  warnings.warn(\n"
     ]
    },
    {
     "name": "stdout",
     "output_type": "stream",
     "text": [
      "question: How do I access the sports facilities as a student?\n",
      " answer:  As a student at SUTD, you can access the sports facilities by visiting the Sports and Recreation Centre located on campus. You can also check out the various sports clubs and teams that you can join to stay active and engaged. Additionally, you can purchase a sports membership from the SUTD Store to gain access to the facilities and equipment.\n"
     ]
    },
    {
     "name": "stderr",
     "output_type": "stream",
     "text": [
      "/home/jon/Code/school/t8/mlops-assignment-4/venv/lib/python3.11/site-packages/transformers/pipelines/base.py:1101: UserWarning: You seem to be using the pipelines sequentially on GPU. In order to maximize efficiency please use a dataset\n",
      "  warnings.warn(\n"
     ]
    },
    {
     "name": "stdout",
     "output_type": "stream",
     "text": [
      "question: Are there any outdoor recreation areas or fields for sports like soccer or frisbee?\n",
      " answer:  Yes, there are outdoor recreation areas for sports like soccer or frisbee. The campus has a Sports and Recreation Centre that offers a variety of sports facilities, including outdoor fields and courts. Additionally, there are also open spaces and green areas on campus where students can engage in outdoor activities and sports.\n"
     ]
    },
    {
     "name": "stderr",
     "output_type": "stream",
     "text": [
      "/home/jon/Code/school/t8/mlops-assignment-4/venv/lib/python3.11/site-packages/transformers/pipelines/base.py:1101: UserWarning: You seem to be using the pipelines sequentially on GPU. In order to maximize efficiency please use a dataset\n",
      "  warnings.warn(\n"
     ]
    },
    {
     "name": "stdout",
     "output_type": "stream",
     "text": [
      "question: Can students join sports clubs or teams at the university?\n",
      " answer:  Yes, SUTD offers various sports clubs and teams for students to join, including the SUTD Dragon Boat Team, SUTD Football Team, and SUTD Basketball Team. These teams provide opportunities for students to engage in physical activity, develop teamwork and communication skills, and represent the university in local and international competitions.\n"
     ]
    },
    {
     "name": "stderr",
     "output_type": "stream",
     "text": [
      "/home/jon/Code/school/t8/mlops-assignment-4/venv/lib/python3.11/site-packages/transformers/pipelines/base.py:1101: UserWarning: You seem to be using the pipelines sequentially on GPU. In order to maximize efficiency please use a dataset\n",
      "  warnings.warn(\n"
     ]
    },
    {
     "name": "stdout",
     "output_type": "stream",
     "text": [
      "question: Are there any swimming pools or aquatic facilities on campus?\n",
      " answer:  Yes, there is an aquatic facility on campus. The SUTD Sports and Recreation Centre features a swimming pool and offers various aquatic programs and activities for students.\n"
     ]
    },
    {
     "name": "stderr",
     "output_type": "stream",
     "text": [
      "/home/jon/Code/school/t8/mlops-assignment-4/venv/lib/python3.11/site-packages/transformers/pipelines/base.py:1101: UserWarning: You seem to be using the pipelines sequentially on GPU. In order to maximize efficiency please use a dataset\n",
      "  warnings.warn(\n"
     ]
    },
    {
     "name": "stdout",
     "output_type": "stream",
     "text": [
      "question: How do I sign up for recreational classes or activities offered by the university?\n",
      " answer:  You can find information on recreational classes and activities offered by SUTD by visiting the Sports and Recreation Centre page on the university's website. From there, you can view the current offerings, sign up for classes or activities, and learn more about the centre's facilities and resources. Additionally, you can contact the Sports and Recreation Centre directly for more information or to inquire about sign-up procedures.\n"
     ]
    },
    {
     "name": "stderr",
     "output_type": "stream",
     "text": [
      "/home/jon/Code/school/t8/mlops-assignment-4/venv/lib/python3.11/site-packages/transformers/pipelines/base.py:1101: UserWarning: You seem to be using the pipelines sequentially on GPU. In order to maximize efficiency please use a dataset\n",
      "  warnings.warn(\n"
     ]
    },
    {
     "name": "stdout",
     "output_type": "stream",
     "text": [
      "question: Are there any discounts or special rates for students to use the sports facilities?\n",
      " answer:  Based on the information provided, there is no mention of any discounts or special rates for students to use the sports facilities. However, the financial statements do mention that scholarship expenses are accounted for as a discount against tuition fees.\n"
     ]
    },
    {
     "name": "stderr",
     "output_type": "stream",
     "text": [
      "/home/jon/Code/school/t8/mlops-assignment-4/venv/lib/python3.11/site-packages/transformers/pipelines/base.py:1101: UserWarning: You seem to be using the pipelines sequentially on GPU. In order to maximize efficiency please use a dataset\n",
      "  warnings.warn(\n"
     ]
    },
    {
     "name": "stdout",
     "output_type": "stream",
     "text": [
      "question: What are the hours of operation for the sports and recreation facilities?\n",
      " answer:  The sports and recreation facilities are open from 8:30 am to 10:30 pm, Monday to Friday, and from 9:00 am to 6:00 pm on weekends. Please note that the hours of operation may be subject to change during holidays and special events.\n"
     ]
    },
    {
     "name": "stderr",
     "output_type": "stream",
     "text": [
      "/home/jon/Code/school/t8/mlops-assignment-4/venv/lib/python3.11/site-packages/transformers/pipelines/base.py:1101: UserWarning: You seem to be using the pipelines sequentially on GPU. In order to maximize efficiency please use a dataset\n",
      "  warnings.warn(\n"
     ]
    },
    {
     "name": "stdout",
     "output_type": "stream",
     "text": [
      "question: Are there any plans to expand or improve the sports and recreation facilities in the future?\n",
      " answer:  Yes, SUTD has plans to expand and improve its sports and recreation facilities in the future. The university has earmarked a significant portion of its campus development budget for the upgrading and expansion of its sports and recreation infrastructure. While specific plans and timelines have not been announced, the university has expressed its commitment to enhancing the overall student experience by providing state-of-the-art recreational facilities.\n"
     ]
    },
    {
     "name": "stderr",
     "output_type": "stream",
     "text": [
      "/home/jon/Code/school/t8/mlops-assignment-4/venv/lib/python3.11/site-packages/transformers/pipelines/base.py:1101: UserWarning: You seem to be using the pipelines sequentially on GPU. In order to maximize efficiency please use a dataset\n",
      "  warnings.warn(\n"
     ]
    },
    {
     "name": "stdout",
     "output_type": "stream",
     "text": [
      "question: What is the alumni network at SUTD University?\n",
      " answer:  The SUTD University has an alumni network of 1243 adult learners trained by the SUTD Academy, with 407 administrative staff, 406 researchers, and 54 students gaining regional exposure to ASEAN and China via virtual joint programs.\n"
     ]
    },
    {
     "name": "stderr",
     "output_type": "stream",
     "text": [
      "/home/jon/Code/school/t8/mlops-assignment-4/venv/lib/python3.11/site-packages/transformers/pipelines/base.py:1101: UserWarning: You seem to be using the pipelines sequentially on GPU. In order to maximize efficiency please use a dataset\n",
      "  warnings.warn(\n"
     ]
    },
    {
     "name": "stdout",
     "output_type": "stream",
     "text": [
      "question: How can I connect with alumni for mentorship and career guidance?\n",
      " answer:  You can connect with SUTD alumni through the GEMS Career Portal, which provides access to a network of over 1,000 alumni who are eager to share their experiences and provide guidance. You can also attend career workshops and events, which often feature alumni speakers who can offer valuable insights and advice. Additionally, you can reach out to the Career Advisory team at SUTD for assistance in connecting with alumni.\n"
     ]
    },
    {
     "name": "stderr",
     "output_type": "stream",
     "text": [
      "/home/jon/Code/school/t8/mlops-assignment-4/venv/lib/python3.11/site-packages/transformers/pipelines/base.py:1101: UserWarning: You seem to be using the pipelines sequentially on GPU. In order to maximize efficiency please use a dataset\n",
      "  warnings.warn(\n"
     ]
    },
    {
     "name": "stdout",
     "output_type": "stream",
     "text": [
      "question: Are there any alumni events or programs specifically designed for networking and mentorship?\n",
      " answer:  SUTD has a program called SUTD Academy that provides support to alumni and the needs of business and industry in design and technology. The program offers networking and mentorship opportunities through various events and activities. Additionally, SUTD has a Career Development team that organizes career-related events and workshops for students and alumni.\n"
     ]
    },
    {
     "name": "stderr",
     "output_type": "stream",
     "text": [
      "/home/jon/Code/school/t8/mlops-assignment-4/venv/lib/python3.11/site-packages/transformers/pipelines/base.py:1101: UserWarning: You seem to be using the pipelines sequentially on GPU. In order to maximize efficiency please use a dataset\n",
      "  warnings.warn(\n"
     ]
    },
    {
     "name": "stdout",
     "output_type": "stream",
     "text": [
      "question: Can alumni provide insights into specific industries or career paths?\n",
      " answer:  Yes, alumni can provide valuable insights into specific industries or career paths. The SUTD Alumni Network offers a platform for alumni to connect with current students and share their experiences and expertise. Additionally, the Career Development Office organizes industry-specific events and workshops, where alumni can provide insights and advice to students.\n"
     ]
    },
    {
     "name": "stderr",
     "output_type": "stream",
     "text": [
      "/home/jon/Code/school/t8/mlops-assignment-4/venv/lib/python3.11/site-packages/transformers/pipelines/base.py:1101: UserWarning: You seem to be using the pipelines sequentially on GPU. In order to maximize efficiency please use a dataset\n",
      "  warnings.warn(\n"
     ]
    },
    {
     "name": "stdout",
     "output_type": "stream",
     "text": [
      "question: How can I leverage the alumni network for internship or job opportunities?\n",
      " answer:  The SUTD alumni network is a valuable resource for students seeking internship or job opportunities. Our alumni are a diverse group of innovators and entrepreneurs who have gone on to make significant contributions in their respective fields. You can leverage the alumni network by attending career workshops and events, joining industry-specific clubs and organizations, and connecting with alumni through the GEMS Career Portal. Additionally, you can reach out to the SUTD Career Development team for assistance in connecting with alumni who can provide guidance and support in your career journey.\n"
     ]
    },
    {
     "name": "stderr",
     "output_type": "stream",
     "text": [
      "/home/jon/Code/school/t8/mlops-assignment-4/venv/lib/python3.11/site-packages/transformers/pipelines/base.py:1101: UserWarning: You seem to be using the pipelines sequentially on GPU. In order to maximize efficiency please use a dataset\n",
      "  warnings.warn(\n"
     ]
    },
    {
     "name": "stdout",
     "output_type": "stream",
     "text": [
      "question: Are there any alumni-led workshops or seminars on professional development?\n",
      " answer:  Yes, there are alumni-led workshops or seminars on professional development available for students at SUTD. These workshops cover a range of topics, from career advice to industry insights, and are designed to help students prepare for their future careers. To find out more and register for these workshops, students can visit the GEMS Career Portal or contact the Career Development team directly.\n"
     ]
    },
    {
     "name": "stderr",
     "output_type": "stream",
     "text": [
      "/home/jon/Code/school/t8/mlops-assignment-4/venv/lib/python3.11/site-packages/transformers/pipelines/base.py:1101: UserWarning: You seem to be using the pipelines sequentially on GPU. In order to maximize efficiency please use a dataset\n",
      "  warnings.warn(\n"
     ]
    },
    {
     "name": "stdout",
     "output_type": "stream",
     "text": [
      "question: Can alumni share their experiences and advice on balancing academics and extracurricular activities?\n",
      " answer:  Yes, alumni can share their experiences and advice on balancing academics and extracurricular activities through the SUTD Alumni Network. The network provides a platform for alumni to connect with each other and with current students, sharing their experiences and insights on how to navigate the challenges of university life. Additionally, the SUTD Career Development Office offers resources and support to help students balance their academic and extracurricular pursuits.\n"
     ]
    },
    {
     "name": "stderr",
     "output_type": "stream",
     "text": [
      "/home/jon/Code/school/t8/mlops-assignment-4/venv/lib/python3.11/site-packages/transformers/pipelines/base.py:1101: UserWarning: You seem to be using the pipelines sequentially on GPU. In order to maximize efficiency please use a dataset\n",
      "  warnings.warn(\n"
     ]
    },
    {
     "name": "stdout",
     "output_type": "stream",
     "text": [
      "question: Are there any alumni mentorship programs for specific majors or areas of study?\n",
      " answer:  There is a Career Advisory program for all students, and the GEMS Career Portal provides career resources and internship opportunities. However, there are no specific alumni mentorship programs for individual majors or areas of study.\n"
     ]
    },
    {
     "name": "stderr",
     "output_type": "stream",
     "text": [
      "/home/jon/Code/school/t8/mlops-assignment-4/venv/lib/python3.11/site-packages/transformers/pipelines/base.py:1101: UserWarning: You seem to be using the pipelines sequentially on GPU. In order to maximize efficiency please use a dataset\n",
      "  warnings.warn(\n"
     ]
    },
    {
     "name": "stdout",
     "output_type": "stream",
     "text": [
      "question: How can I stay connected with the alumni network after graduation?\n",
      " answer:  As a SUTD alumnus, you can stay connected with the alumni network through various channels, including the SUTD Alumni Association, which offers opportunities for networking, mentorship, and professional development. You can also participate in events and activities organized by the university, such as the annual SUTD Gala, and connect with fellow alumni through online platforms and social media groups. Additionally, you can consider joining the SUTD Academy, which offers continuing education and professional development opportunities for alumni and industry partners.\n"
     ]
    },
    {
     "name": "stderr",
     "output_type": "stream",
     "text": [
      "/home/jon/Code/school/t8/mlops-assignment-4/venv/lib/python3.11/site-packages/transformers/pipelines/base.py:1101: UserWarning: You seem to be using the pipelines sequentially on GPU. In order to maximize efficiency please use a dataset\n",
      "  warnings.warn(\n"
     ]
    },
    {
     "name": "stdout",
     "output_type": "stream",
     "text": [
      "question: What resources or support does the university provide to facilitate alumni-student connections?\n",
      " answer:  SUTD provides various resources and support to facilitate alumni-student connections, such as networking events, mentorship programs, and online platforms for communication and collaboration. These opportunities help foster a strong and connected community of SUTD alumni and students.\n"
     ]
    },
    {
     "name": "stderr",
     "output_type": "stream",
     "text": [
      "/home/jon/Code/school/t8/mlops-assignment-4/venv/lib/python3.11/site-packages/transformers/pipelines/base.py:1101: UserWarning: You seem to be using the pipelines sequentially on GPU. In order to maximize efficiency please use a dataset\n",
      "  warnings.warn(\n"
     ]
    },
    {
     "name": "stdout",
     "output_type": "stream",
     "text": [
      "question: What is the definition of interdisciplinary collaboration?\n",
      " answer:  According to the context, interdisciplinary collaboration is defined as the assistance, advice, and sharing of academic and administrative expertise to help shape the University into a world-class educational institution.\n"
     ]
    },
    {
     "name": "stderr",
     "output_type": "stream",
     "text": [
      "/home/jon/Code/school/t8/mlops-assignment-4/venv/lib/python3.11/site-packages/transformers/pipelines/base.py:1101: UserWarning: You seem to be using the pipelines sequentially on GPU. In order to maximize efficiency please use a dataset\n",
      "  warnings.warn(\n"
     ]
    },
    {
     "name": "stdout",
     "output_type": "stream",
     "text": [
      "question: How does SUTD facilitate interdisciplinary collaborations among students and faculty?\n",
      " answer:  SUTD facilitates interdisciplinary collaborations among students and faculty through its integrated multi-disciplinary curriculum and multi-disciplinary research. The university offers undergraduate programmes that begin with a three-term Freshmore curriculum grounded in the fundamentals of science, mathematics, design, and humanities, arts, and social sciences. Additionally, SUTD has programmes such as the SUTD Honours and Research Programme (SHARP) and the Undergraduate Research Opportunities Programme (UROP) that integrate education and research initiatives with over 30 industry partners. Through these initiatives, SUTD aims to educate technically-grounded leaders who are steeped in the fundamentals of science, mathematics, and technology and have broad perspectives informed by the humanities, arts, and social sciences.\n"
     ]
    },
    {
     "name": "stderr",
     "output_type": "stream",
     "text": [
      "/home/jon/Code/school/t8/mlops-assignment-4/venv/lib/python3.11/site-packages/transformers/pipelines/base.py:1101: UserWarning: You seem to be using the pipelines sequentially on GPU. In order to maximize efficiency please use a dataset\n",
      "  warnings.warn(\n"
     ]
    },
    {
     "name": "stdout",
     "output_type": "stream",
     "text": [
      "question: What are some examples of successful interdisciplinary projects or research at SUTD?\n",
      " answer:  SUTD's emphasis on interdisciplinary research and education has led to numerous successful projects and collaborations. For instance, the SUTD-MIT International Design Centre for Singapore (IDC) was established in 2013, bringing together faculty and students from both universities to work on research and design projects that address pressing urban challenges in Singapore. Another example is the SUTD-NUS Centre for Life Sciences and Society, which focuses on the social and ethical implications of biotechnology and healthcare innovations. These collaborations not only produce cutting-edge research but also provide students with a unique interdisciplinary learning experience.\n"
     ]
    },
    {
     "name": "stderr",
     "output_type": "stream",
     "text": [
      "/home/jon/Code/school/t8/mlops-assignment-4/venv/lib/python3.11/site-packages/transformers/pipelines/base.py:1101: UserWarning: You seem to be using the pipelines sequentially on GPU. In order to maximize efficiency please use a dataset\n",
      "  warnings.warn(\n"
     ]
    },
    {
     "name": "stdout",
     "output_type": "stream",
     "text": [
      "question: How do interdisciplinary collaborations benefit students' learning and career prospects?\n",
      " answer:  At SUTD, interdisciplinary collaborations are encouraged through initiatives like the Freshmore Asian Cross-curricular Trips (FACT) program, which offers students the opportunity to learn together, experience different pedagogies, and enrich their cultural and socio-political insights. These collaborations not only provide students with regional exposure but also help them develop the joy of learning, leading to life-long learning and career success.\n"
     ]
    },
    {
     "name": "stderr",
     "output_type": "stream",
     "text": [
      "/home/jon/Code/school/t8/mlops-assignment-4/venv/lib/python3.11/site-packages/transformers/pipelines/base.py:1101: UserWarning: You seem to be using the pipelines sequentially on GPU. In order to maximize efficiency please use a dataset\n",
      "  warnings.warn(\n"
     ]
    },
    {
     "name": "stdout",
     "output_type": "stream",
     "text": [
      "question: What skills are necessary for effective interdisciplinary collaboration?\n",
      " answer:  To effectively collaborate across disciplines, one must possess strong communication skills, empathy, flexibility, and a willingness to learn from others. Additionally, a growth mindset and a commitment to lifelong learning are essential for adapting to new ideas and approaches.\n"
     ]
    },
    {
     "name": "stderr",
     "output_type": "stream",
     "text": [
      "/home/jon/Code/school/t8/mlops-assignment-4/venv/lib/python3.11/site-packages/transformers/pipelines/base.py:1101: UserWarning: You seem to be using the pipelines sequentially on GPU. In order to maximize efficiency please use a dataset\n",
      "  warnings.warn(\n"
     ]
    },
    {
     "name": "stdout",
     "output_type": "stream",
     "text": [
      "question: How are interdisciplinary teams formed and managed at SUTD?\n",
      " answer:  At SUTD, interdisciplinary teams are formed through a collaborative approach that brings together students, researchers, and industry partners to work on real-world projects and research initiatives. These teams are managed through a facilitative leadership style that empowers team members to take ownership of their projects and learn from each other. The university's focus on interdisciplinary education and research fosters a culture of collaboration and creativity, enabling students to develop their full potential and prepare for life-long learning.\n"
     ]
    },
    {
     "name": "stderr",
     "output_type": "stream",
     "text": [
      "/home/jon/Code/school/t8/mlops-assignment-4/venv/lib/python3.11/site-packages/transformers/pipelines/base.py:1101: UserWarning: You seem to be using the pipelines sequentially on GPU. In order to maximize efficiency please use a dataset\n",
      "  warnings.warn(\n"
     ]
    },
    {
     "name": "stdout",
     "output_type": "stream",
     "text": [
      "question: What challenges or barriers might arise in interdisciplinary collaborations, and how are they addressed?\n",
      " answer: \n",
      "\n",
      "In interdisciplinary collaborations, challenges or barriers that might arise include differences in language, methods, and cultural backgrounds among team members. To address these challenges, SUTD has established a Centre for Urban and Regional Studies, which serves as a go-to place for research on Asian cities and urban futures. Additionally, SUTD has a multi-disciplinary approach that integrates technology ideas with social sciences, and vice versa, to come up with strong urban solutions. The university also has a research commercialization program and a wholly owned subsidiary to support SUTD-related startups and spinoffs.\n"
     ]
    },
    {
     "name": "stderr",
     "output_type": "stream",
     "text": [
      "/home/jon/Code/school/t8/mlops-assignment-4/venv/lib/python3.11/site-packages/transformers/pipelines/base.py:1101: UserWarning: You seem to be using the pipelines sequentially on GPU. In order to maximize efficiency please use a dataset\n",
      "  warnings.warn(\n"
     ]
    },
    {
     "name": "stdout",
     "output_type": "stream",
     "text": [
      "question: How does SUTD's curriculum prepare students for interdisciplinary work?\n",
      " answer:  SUTD's curriculum includes a three-term Freshmore curriculum that is grounded in the fundamentals of science, mathematics, design, and humanities, arts, and social sciences. The curriculum also includes specializations in one of five areas for the next five terms, which helps students develop life-long competencies such as the ability and appetite to learn and innovate. Additionally, SUTD emphasizes interdisciplinary learning and doing, fostering a questioning spirit among its students.\n"
     ]
    },
    {
     "name": "stderr",
     "output_type": "stream",
     "text": [
      "/home/jon/Code/school/t8/mlops-assignment-4/venv/lib/python3.11/site-packages/transformers/pipelines/base.py:1101: UserWarning: You seem to be using the pipelines sequentially on GPU. In order to maximize efficiency please use a dataset\n",
      "  warnings.warn(\n"
     ]
    },
    {
     "name": "stdout",
     "output_type": "stream",
     "text": [
      "question: Are there opportunities for interdisciplinary collaborations with external partners or organizations?\n",
      " answer:  SUTD has a global footprint and partners with 61 institutions in 22 countries, offering various global opportunities for students. This includes a 10-times increase in overseas semester exchange opportunities and more than 50 summer programs in 14 countries. These international partnerships enable interdisciplinary collaborations with external partners or organizations.\n"
     ]
    },
    {
     "name": "stderr",
     "output_type": "stream",
     "text": [
      "/home/jon/Code/school/t8/mlops-assignment-4/venv/lib/python3.11/site-packages/transformers/pipelines/base.py:1101: UserWarning: You seem to be using the pipelines sequentially on GPU. In order to maximize efficiency please use a dataset\n",
      "  warnings.warn(\n"
     ]
    },
    {
     "name": "stdout",
     "output_type": "stream",
     "text": [
      "question: What resources or support systems are available for students engaged in interdisciplinary collaborations?\n",
      " answer:  Interdisciplinary collaborations at SUTD are encouraged and supported through various resources and initiatives. The university offers research centers and programs, faculty directories, and institutional review boards to facilitate interdisciplinary research and development. Additionally, SUTD provides student development programs, global exchange and experience opportunities, and entrepreneurship resources to support students in their interdisciplinary endeavors.\n"
     ]
    },
    {
     "name": "stderr",
     "output_type": "stream",
     "text": [
      "/home/jon/Code/school/t8/mlops-assignment-4/venv/lib/python3.11/site-packages/transformers/pipelines/base.py:1101: UserWarning: You seem to be using the pipelines sequentially on GPU. In order to maximize efficiency please use a dataset\n",
      "  warnings.warn(\n"
     ]
    },
    {
     "name": "stdout",
     "output_type": "stream",
     "text": [
      "question: What types of industry partnerships does SUTD have?\n",
      " answer:  SUTD has fostered more than 1,000 industry partnerships that provide students with research, internship, and employment opportunities. These partnerships include collaborations with companies such as A*STAR, MINDEF, MOH, and industry partners.\n"
     ]
    },
    {
     "name": "stderr",
     "output_type": "stream",
     "text": [
      "/home/jon/Code/school/t8/mlops-assignment-4/venv/lib/python3.11/site-packages/transformers/pipelines/base.py:1101: UserWarning: You seem to be using the pipelines sequentially on GPU. In order to maximize efficiency please use a dataset\n",
      "  warnings.warn(\n"
     ]
    },
    {
     "name": "stdout",
     "output_type": "stream",
     "text": [
      "question: How do students get involved in industry projects?\n",
      " answer:  SUTD offers collaborative projects with industry partners, providing students with opportunities to work on real-world projects and gain practical experience. These projects can be found on the GEMS Career Portal. Additionally, SUTD hosts various events and workshops that connect students with industry professionals and provide opportunities for networking and collaboration.\n"
     ]
    },
    {
     "name": "stderr",
     "output_type": "stream",
     "text": [
      "/home/jon/Code/school/t8/mlops-assignment-4/venv/lib/python3.11/site-packages/transformers/pipelines/base.py:1101: UserWarning: You seem to be using the pipelines sequentially on GPU. In order to maximize efficiency please use a dataset\n",
      "  warnings.warn(\n"
     ]
    },
    {
     "name": "stdout",
     "output_type": "stream",
     "text": [
      "question: Are there opportunities for internships or co-op programs with industry partners?\n",
      " answer:  Yes, SUTD offers various internship and co-op programs with industry partners. These opportunities allow students to gain practical experience and apply their knowledge in real-world settings. To learn more about these opportunities, you can visit the GEMS Career Portal or contact the SUTD Industry Liaison Office.\n"
     ]
    },
    {
     "name": "stderr",
     "output_type": "stream",
     "text": [
      "/home/jon/Code/school/t8/mlops-assignment-4/venv/lib/python3.11/site-packages/transformers/pipelines/base.py:1101: UserWarning: You seem to be using the pipelines sequentially on GPU. In order to maximize efficiency please use a dataset\n",
      "  warnings.warn(\n"
     ]
    },
    {
     "name": "stdout",
     "output_type": "stream",
     "text": [
      "question: Can students work on real-world projects with industry partners as part of their coursework?\n",
      " answer:  Yes, students at SUTD have the opportunity to work on real-world projects with industry partners as part of their coursework. This is done through collaborative research and development projects with industry partners, as well as through Capstone projects and programmes such as the SUTD Honours and Research Programme (SHARP) and the Undergraduate Research Opportunities Programme (UROP).\n"
     ]
    },
    {
     "name": "stderr",
     "output_type": "stream",
     "text": [
      "/home/jon/Code/school/t8/mlops-assignment-4/venv/lib/python3.11/site-packages/transformers/pipelines/base.py:1101: UserWarning: You seem to be using the pipelines sequentially on GPU. In order to maximize efficiency please use a dataset\n",
      "  warnings.warn(\n"
     ]
    },
    {
     "name": "stdout",
     "output_type": "stream",
     "text": [
      "question: What kind of support or resources are available for students working on industry projects?\n",
      " answer:  SUTD offers various resources and support for students working on industry projects, such as collaborative projects, internships, and industry partnerships. These opportunities allow students to gain practical experience, develop their skills, and build connections with industry professionals.\n"
     ]
    },
    {
     "name": "stderr",
     "output_type": "stream",
     "text": [
      "/home/jon/Code/school/t8/mlops-assignment-4/venv/lib/python3.11/site-packages/transformers/pipelines/base.py:1101: UserWarning: You seem to be using the pipelines sequentially on GPU. In order to maximize efficiency please use a dataset\n",
      "  warnings.warn(\n"
     ]
    },
    {
     "name": "stdout",
     "output_type": "stream",
     "text": [
      "question: How do industry partnerships and projects benefit students' learning and career prospects?\n",
      " answer:  SUTD collaborates with over 30 industry partners in both education and research initiatives, providing students with valuable hands-on learning experiences and exposure to real-world projects. This integration of industry and academia helps students develop relevant skills and knowledge, preparing them for successful careers. Additionally, these partnerships offer students opportunities to work on Capstone projects and research initiatives, allowing them to apply their learning in practical settings and build their portfolios. This multi-pathway approach to education and research, positions SUTD as the preferred collaborative partner in both education and research, benefiting students' learning and career prospects.\n"
     ]
    },
    {
     "name": "stderr",
     "output_type": "stream",
     "text": [
      "/home/jon/Code/school/t8/mlops-assignment-4/venv/lib/python3.11/site-packages/transformers/pipelines/base.py:1101: UserWarning: You seem to be using the pipelines sequentially on GPU. In order to maximize efficiency please use a dataset\n",
      "  warnings.warn(\n"
     ]
    },
    {
     "name": "stdout",
     "output_type": "stream",
     "text": [
      "question: Are there any restrictions or requirements for participating in industry projects?\n",
      " answer:  Yes, there are specific requirements and restrictions for participating in industry projects. Students must meet specific eligibility criteria and obtain approval from their academic advisors and the industry partner before participating. Additionally, students are expected to adhere to ethical guidelines and maintain confidentiality during the project.\n"
     ]
    },
    {
     "name": "stderr",
     "output_type": "stream",
     "text": [
      "/home/jon/Code/school/t8/mlops-assignment-4/venv/lib/python3.11/site-packages/transformers/pipelines/base.py:1101: UserWarning: You seem to be using the pipelines sequentially on GPU. In order to maximize efficiency please use a dataset\n",
      "  warnings.warn(\n"
     ]
    },
    {
     "name": "stdout",
     "output_type": "stream",
     "text": [
      "question: Can students propose their own ideas for industry projects or partnerships?\n",
      " answer:  Yes, students can propose their own ideas for industry projects or partnerships through SUTD's VIE program, which provides support for entrepreneurial ideas and boldness.\n"
     ]
    },
    {
     "name": "stderr",
     "output_type": "stream",
     "text": [
      "/home/jon/Code/school/t8/mlops-assignment-4/venv/lib/python3.11/site-packages/transformers/pipelines/base.py:1101: UserWarning: You seem to be using the pipelines sequentially on GPU. In order to maximize efficiency please use a dataset\n",
      "  warnings.warn(\n"
     ]
    },
    {
     "name": "stdout",
     "output_type": "stream",
     "text": [
      "question: How are industry partners selected and vetted by the university?\n",
      " answer:  The university has a rigorous vetting process for selecting and partnering with industry partners. They consider factors such as the company's reputation, financial stability, and alignment with the university's research focus areas. Additionally, the university has established a technology commercialization program to facilitate the transfer of research outputs to industry partners.\n"
     ]
    },
    {
     "name": "stderr",
     "output_type": "stream",
     "text": [
      "/home/jon/Code/school/t8/mlops-assignment-4/venv/lib/python3.11/site-packages/transformers/pipelines/base.py:1101: UserWarning: You seem to be using the pipelines sequentially on GPU. In order to maximize efficiency please use a dataset\n",
      "  warnings.warn(\n"
     ]
    },
    {
     "name": "stdout",
     "output_type": "stream",
     "text": [
      "question: Are there any success stories or examples of notable industry partnerships or projects at SUTD?\n",
      " answer:  SUTD has established over 1,000 industry partnerships that provide research, internship, and employment opportunities for its students. Some notable industry partnerships and projects include collaborations with A*STAR, MINDEF, MOE, and MOH, as well as partnerships with start-ups and SMEs. These partnerships have led to the development of innovative solutions and technologies, such as smart city infrastructure and healthcare technologies. Additionally, SUTD has filed over 340 technology disclosures, 200 patent applications, and has been granted 23 patents, with over 60 start-up companies.\n"
     ]
    },
    {
     "name": "stderr",
     "output_type": "stream",
     "text": [
      "/home/jon/Code/school/t8/mlops-assignment-4/venv/lib/python3.11/site-packages/transformers/pipelines/base.py:1101: UserWarning: You seem to be using the pipelines sequentially on GPU. In order to maximize efficiency please use a dataset\n",
      "  warnings.warn(\n"
     ]
    },
    {
     "name": "stdout",
     "output_type": "stream",
     "text": [
      "question: What is a Maker Space and how does it differ from a traditional classroom or lab?\n",
      " answer:  A Maker Space is a collaborative workspace that provides students with access to tools and technology to design, prototype, and build their ideas. Unlike traditional classrooms or labs, Maker Spaces are designed to encourage creativity, experimentation, and hands-on learning, and they often feature flexible, open-plan layouts and a variety of specialized equipment and software. At SUTD, our Maker Space is equipped with advanced hardware and software, such as 3D printers, laser cutters, and virtual reality technology, to support student projects and innovation.\n"
     ]
    },
    {
     "name": "stderr",
     "output_type": "stream",
     "text": [
      "/home/jon/Code/school/t8/mlops-assignment-4/venv/lib/python3.11/site-packages/transformers/pipelines/base.py:1101: UserWarning: You seem to be using the pipelines sequentially on GPU. In order to maximize efficiency please use a dataset\n",
      "  warnings.warn(\n"
     ]
    },
    {
     "name": "stdout",
     "output_type": "stream",
     "text": [
      "question: What types of tools and equipment are available in the Maker Spaces and Design Studios at SUTD?\n",
      " answer:  The Maker Spaces and Design Studios at SUTD are equipped with a wide range of tools and equipment, including 3D printers, laser cutters, CNC machines, and virtual reality (VR) and augmented reality (AR) technology. These resources are available to students to support their design and prototyping projects.\n"
     ]
    },
    {
     "name": "stderr",
     "output_type": "stream",
     "text": [
      "/home/jon/Code/school/t8/mlops-assignment-4/venv/lib/python3.11/site-packages/transformers/pipelines/base.py:1101: UserWarning: You seem to be using the pipelines sequentially on GPU. In order to maximize efficiency please use a dataset\n",
      "  warnings.warn(\n"
     ]
    },
    {
     "name": "stdout",
     "output_type": "stream",
     "text": [
      "question: Can students from any discipline or program use the Maker Spaces and Design Studios?\n",
      " answer:  Yes, students from any discipline or program can use the Maker Spaces and Design Studios. The university encourages cross-disciplinary collaboration and provides resources for all students to explore their creativity and develop their design skills.\n"
     ]
    },
    {
     "name": "stderr",
     "output_type": "stream",
     "text": [
      "/home/jon/Code/school/t8/mlops-assignment-4/venv/lib/python3.11/site-packages/transformers/pipelines/base.py:1101: UserWarning: You seem to be using the pipelines sequentially on GPU. In order to maximize efficiency please use a dataset\n",
      "  warnings.warn(\n"
     ]
    },
    {
     "name": "stdout",
     "output_type": "stream",
     "text": [
      "question: Are there any training or safety courses required before using the facilities?\n",
      " answer:  Yes, there are safety and training courses required before using the facilities. These include orientation sessions, safety briefings, and technical training courses to ensure that users are aware of the proper use and safety protocols for the facilities.\n"
     ]
    },
    {
     "name": "stderr",
     "output_type": "stream",
     "text": [
      "/home/jon/Code/school/t8/mlops-assignment-4/venv/lib/python3.11/site-packages/transformers/pipelines/base.py:1101: UserWarning: You seem to be using the pipelines sequentially on GPU. In order to maximize efficiency please use a dataset\n",
      "  warnings.warn(\n"
     ]
    },
    {
     "name": "stdout",
     "output_type": "stream",
     "text": [
      "question: What kinds of projects or activities can be done in the Maker Spaces and Design Studios?\n",
      " answer:  The Maker Spaces and Design Studios at SUTD offer a variety of projects and activities related to design thinking and programming, including thematic approaches related to current real-world challenges. These spaces provide access to equipment and software for prototyping and fabrication, as well as opportunities for collaboration and interdisciplinary learning.\n"
     ]
    },
    {
     "name": "stderr",
     "output_type": "stream",
     "text": [
      "/home/jon/Code/school/t8/mlops-assignment-4/venv/lib/python3.11/site-packages/transformers/pipelines/base.py:1101: UserWarning: You seem to be using the pipelines sequentially on GPU. In order to maximize efficiency please use a dataset\n",
      "  warnings.warn(\n"
     ]
    },
    {
     "name": "stdout",
     "output_type": "stream",
     "text": [
      "question: Are there any fees or charges associated with using the Maker Spaces and Design Studios?\n",
      " answer:  No, there are no fees or charges associated with using the Maker Spaces and Design Studios. These facilities are available at no additional cost to students, and are designed to support their creativity and innovation.\n"
     ]
    },
    {
     "name": "stderr",
     "output_type": "stream",
     "text": [
      "/home/jon/Code/school/t8/mlops-assignment-4/venv/lib/python3.11/site-packages/transformers/pipelines/base.py:1101: UserWarning: You seem to be using the pipelines sequentially on GPU. In order to maximize efficiency please use a dataset\n",
      "  warnings.warn(\n"
     ]
    },
    {
     "name": "stdout",
     "output_type": "stream",
     "text": [
      "question: Can students work on personal projects or is the space only for academic work?\n",
      " answer:  The Singapore University of Technology and Design (SUTD) encourages students to work on personal projects, and the campus is designed to facilitate this. The university offers various resources, such as the GEMS Career Portal, career workshops, and events, to help students develop their full human potential and engage in life-long learning. Additionally, SUTD has a vibrant research and development and innovation ecosystem that brings together education, research, industry, and entrepreneurship, providing students with opportunities to work on collaborative projects and develop their skills in a real-world setting.\n"
     ]
    },
    {
     "name": "stderr",
     "output_type": "stream",
     "text": [
      "/home/jon/Code/school/t8/mlops-assignment-4/venv/lib/python3.11/site-packages/transformers/pipelines/base.py:1101: UserWarning: You seem to be using the pipelines sequentially on GPU. In order to maximize efficiency please use a dataset\n",
      "  warnings.warn(\n"
     ]
    },
    {
     "name": "stdout",
     "output_type": "stream",
     "text": [
      "question: Are there any opportunities for collaboration or group projects in the Maker Spaces and Design Studios?\n",
      " answer:  Yes, there are opportunities for collaboration and group projects in the Maker Spaces and Design Studios at SUTD. These spaces are designed to foster innovation and creativity, and they offer a range of resources and tools to support students in their projects. In addition, SUTD has a strong focus on interdisciplinary learning and collaboration, so students can expect to work with peers from different disciplines and backgrounds on projects and initiatives.\n"
     ]
    },
    {
     "name": "stderr",
     "output_type": "stream",
     "text": [
      "/home/jon/Code/school/t8/mlops-assignment-4/venv/lib/python3.11/site-packages/transformers/pipelines/base.py:1101: UserWarning: You seem to be using the pipelines sequentially on GPU. In order to maximize efficiency please use a dataset\n",
      "  warnings.warn(\n"
     ]
    },
    {
     "name": "stdout",
     "output_type": "stream",
     "text": [
      "question: What kind of support or guidance is available for students using the facilities?\n",
      " answer:  The SUTD Student Achievement Awards, Students@Part-Time Work Scheme, Wellbeing Services, and Protocol are all resources available to support students using the facilities. Additionally, the FAQ section provides helpful information and guidance for students.\n"
     ]
    },
    {
     "name": "stderr",
     "output_type": "stream",
     "text": [
      "/home/jon/Code/school/t8/mlops-assignment-4/venv/lib/python3.11/site-packages/transformers/pipelines/base.py:1101: UserWarning: You seem to be using the pipelines sequentially on GPU. In order to maximize efficiency please use a dataset\n",
      "  warnings.warn(\n"
     ]
    },
    {
     "name": "stdout",
     "output_type": "stream",
     "text": [
      "question: Are there any showcases or exhibitions where students can display their work from the Maker Spaces and Design Studios?\n",
      " answer:  Yes, there are several showcases and exhibitions where students can display their work from the Maker Spaces and Design Studios. The Capstone Design Showcase is one such opportunity where students can showcase their final-year projects to industry partners and faculty members. Additionally, there are also virtual showcases and exhibitions available for students to display their work online.\n"
     ]
    },
    {
     "name": "stderr",
     "output_type": "stream",
     "text": [
      "/home/jon/Code/school/t8/mlops-assignment-4/venv/lib/python3.11/site-packages/transformers/pipelines/base.py:1101: UserWarning: You seem to be using the pipelines sequentially on GPU. In order to maximize efficiency please use a dataset\n",
      "  warnings.warn(\n"
     ]
    },
    {
     "name": "stdout",
     "output_type": "stream",
     "text": [
      "question: What mental health and wellness resources are available on campus?\n",
      " answer:  The Singapore University of Technology and Design (SUTD) offers various mental health and wellness resources on campus, including counseling services, wellness workshops, and stress management resources. These resources are provided by the university's Wellbeing Services, which aim to support students' mental health and well-being throughout their academic journey.\n"
     ]
    },
    {
     "name": "stderr",
     "output_type": "stream",
     "text": [
      "/home/jon/Code/school/t8/mlops-assignment-4/venv/lib/python3.11/site-packages/transformers/pipelines/base.py:1101: UserWarning: You seem to be using the pipelines sequentially on GPU. In order to maximize efficiency please use a dataset\n",
      "  warnings.warn(\n"
     ]
    },
    {
     "name": "stdout",
     "output_type": "stream",
     "text": [
      "question: How can I access counseling services at the university?\n",
      " answer:  Wellbeing Services is available to help you with counseling services. You can find them at Life\\nWellbeing Services, and they offer various resources, including FAQs, Protocol, and Resources. Additionally, you can reach out to them through their Contact Us page or by visiting their physical location on campus.\n"
     ]
    },
    {
     "name": "stderr",
     "output_type": "stream",
     "text": [
      "/home/jon/Code/school/t8/mlops-assignment-4/venv/lib/python3.11/site-packages/transformers/pipelines/base.py:1101: UserWarning: You seem to be using the pipelines sequentially on GPU. In order to maximize efficiency please use a dataset\n",
      "  warnings.warn(\n"
     ]
    },
    {
     "name": "stdout",
     "output_type": "stream",
     "text": [
      "question: Are there any support groups or peer mentoring programs for students struggling with mental health issues?\n",
      " answer:  Yes, SUTD has a Wellbeing Services program that offers support groups and peer mentoring programs for students struggling with mental health issues. These programs are designed to provide a safe and confidential space for students to share their experiences and receive support from their peers and trained mental health professionals. Additionally, SUTD has a team of counselors and therapists available to provide one-on-one support and guidance.\n"
     ]
    },
    {
     "name": "stderr",
     "output_type": "stream",
     "text": [
      "/home/jon/Code/school/t8/mlops-assignment-4/venv/lib/python3.11/site-packages/transformers/pipelines/base.py:1101: UserWarning: You seem to be using the pipelines sequentially on GPU. In order to maximize efficiency please use a dataset\n",
      "  warnings.warn(\n"
     ]
    },
    {
     "name": "stdout",
     "output_type": "stream",
     "text": [
      "question: Does the university offer workshops or seminars on topics like stress management, mindfulness, or self-care?\n",
      " answer:  Yes, SUTD offers workshops and seminars on topics like stress management, mindfulness, and self-care through its Life Wellbeing Services. These workshops and seminars are designed to promote student wellbeing and help students manage the demands of academic life. Some examples of workshops and seminars offered include mindfulness meditation, yoga, and stress management techniques. Additionally, SUTD also provides resources such as counseling services and mental health support to help students maintain their wellbeing.\n"
     ]
    },
    {
     "name": "stderr",
     "output_type": "stream",
     "text": [
      "/home/jon/Code/school/t8/mlops-assignment-4/venv/lib/python3.11/site-packages/transformers/pipelines/base.py:1101: UserWarning: You seem to be using the pipelines sequentially on GPU. In order to maximize efficiency please use a dataset\n",
      "  warnings.warn(\n"
     ]
    },
    {
     "name": "stdout",
     "output_type": "stream",
     "text": [
      "question: Are there any online resources or mobile apps provided by the university for mental health and wellness?\n",
      " answer:  Yes, the university offers online resources and mobile apps for mental health and wellness. These include counseling services, stress management techniques, and mindfulness exercises. Students can access these resources through the university's website or by downloading the SUTD Wellness app on their mobile devices.\n"
     ]
    },
    {
     "name": "stderr",
     "output_type": "stream",
     "text": [
      "/home/jon/Code/school/t8/mlops-assignment-4/venv/lib/python3.11/site-packages/transformers/pipelines/base.py:1101: UserWarning: You seem to be using the pipelines sequentially on GPU. In order to maximize efficiency please use a dataset\n",
      "  warnings.warn(\n"
     ]
    },
    {
     "name": "stdout",
     "output_type": "stream",
     "text": [
      "question: How does the university promote mental health awareness and destigmatize seeking help?\n",
      " answer:  SUTD has a dedicated Wellbeing Services team that provides mental health support and resources for students. They offer counseling services, workshops, and outreach programs to promote mental health awareness and destigmatize seeking help. Additionally, SUTD has a Merit Awards program that recognizes students who demonstrate excellence in both academic and extracurricular activities, including those related to mental health and wellbeing. Campus Life initiatives and Diversity and Inclusion programs also promote a supportive and inclusive community where students can thrive and seek help without fear of stigma.\n"
     ]
    },
    {
     "name": "stderr",
     "output_type": "stream",
     "text": [
      "/home/jon/Code/school/t8/mlops-assignment-4/venv/lib/python3.11/site-packages/transformers/pipelines/base.py:1101: UserWarning: You seem to be using the pipelines sequentially on GPU. In order to maximize efficiency please use a dataset\n",
      "  warnings.warn(\n"
     ]
    },
    {
     "name": "stdout",
     "output_type": "stream",
     "text": [
      "question: What kind of accommodations or support services are available for students with mental health conditions?\n",
      " answer:  SUTD offers resources for students with mental health conditions, including counseling services and academic accommodations. The Wellbeing Services team provides confidential support and can help students access external resources if needed. Additionally, the university has a Protocol for Supporting Students with Mental Health Conditions that outlines the steps to take if a student's mental health condition affects their academic performance.\n"
     ]
    },
    {
     "name": "stderr",
     "output_type": "stream",
     "text": [
      "/home/jon/Code/school/t8/mlops-assignment-4/venv/lib/python3.11/site-packages/transformers/pipelines/base.py:1101: UserWarning: You seem to be using the pipelines sequentially on GPU. In order to maximize efficiency please use a dataset\n",
      "  warnings.warn(\n"
     ]
    },
    {
     "name": "stdout",
     "output_type": "stream",
     "text": [
      "question: Are there any fitness or recreational facilities on campus that can contribute to overall wellness?\n",
      " answer:  Yes, the university has a Sports and Recreation Centre that offers a variety of fitness and recreational activities, including a gym, swimming pool, and outdoor sports facilities. Additionally, there are various wellness programs and services available to support students' physical and mental health.\n"
     ]
    },
    {
     "name": "stderr",
     "output_type": "stream",
     "text": [
      "/home/jon/Code/school/t8/mlops-assignment-4/venv/lib/python3.11/site-packages/transformers/pipelines/base.py:1101: UserWarning: You seem to be using the pipelines sequentially on GPU. In order to maximize efficiency please use a dataset\n",
      "  warnings.warn(\n"
     ]
    },
    {
     "name": "stdout",
     "output_type": "stream",
     "text": [
      "question: Does the university have a crisis intervention team or emergency mental health services?\n",
      " answer:  Yes, the university has a crisis intervention team and emergency mental health services. In the midst of the COVID-19 pandemic, the university has continued to refresh its undergraduate curriculum to keep up with the times, including strengthening skills in design thinking and programming. Additionally, a thematic approach was included for the design projects that freshmen must complete, such as identifying design opportunities related to a disaster like the COVID-19 pandemic and finding suitable solutions. The university has also signed an MOU with Temasek Polytechnic to launch a new pathway program.\n"
     ]
    },
    {
     "name": "stderr",
     "output_type": "stream",
     "text": [
      "/home/jon/Code/school/t8/mlops-assignment-4/venv/lib/python3.11/site-packages/transformers/pipelines/base.py:1101: UserWarning: You seem to be using the pipelines sequentially on GPU. In order to maximize efficiency please use a dataset\n",
      "  warnings.warn(\n"
     ]
    },
    {
     "name": "stdout",
     "output_type": "stream",
     "text": [
      "question: Are there any student organizations or clubs focused on mental health advocacy or peer support?\n",
      " answer:  Yes, SUTD has a student organization called \"Fifth Row\" that focuses on mental health advocacy and peer support. They offer various resources and activities to promote mental wellness and provide a safe space for students to share their experiences and connect with others. You can find more information about Fifth Row on the SUTD website or by contacting the student development team.\n"
     ]
    },
    {
     "name": "stderr",
     "output_type": "stream",
     "text": [
      "/home/jon/Code/school/t8/mlops-assignment-4/venv/lib/python3.11/site-packages/transformers/pipelines/base.py:1101: UserWarning: You seem to be using the pipelines sequentially on GPU. In order to maximize efficiency please use a dataset\n",
      "  warnings.warn(\n"
     ]
    },
    {
     "name": "stdout",
     "output_type": "stream",
     "text": [
      "question: What is Community Engagement and Service Learning?\n",
      " answer:  Community Engagement and Service Learning is an integral part of the curriculum at SUTD, where students engage in real-world projects and community service to develop their problem-solving skills and apply their knowledge to bring value to society. Through these projects, students work with industry partners and community organizations to address challenges and bring about transformations of recognizable value to the industry and society at large.\n"
     ]
    },
    {
     "name": "stderr",
     "output_type": "stream",
     "text": [
      "/home/jon/Code/school/t8/mlops-assignment-4/venv/lib/python3.11/site-packages/transformers/pipelines/base.py:1101: UserWarning: You seem to be using the pipelines sequentially on GPU. In order to maximize efficiency please use a dataset\n",
      "  warnings.warn(\n"
     ]
    },
    {
     "name": "stdout",
     "output_type": "stream",
     "text": [
      "question: How does SUTD incorporate Community Engagement and Service Learning into its curriculum?\n",
      " answer:  SUTD Academy offers training courses and programmes that promote a multi-disciplinary approach, design thinking, an entrepreneurial spirit, and active learning. The institution also supports and participates in the SGUnited Skills (SGUS) Programme, a national initiative by SkillsFuture Singapore, to support locals in these difficult times to train and facilitate placement to new job roles of demand. Additionally, SUTD will be focusing on creating a vibrant research and development and innovation ecosystem in the greater Changi Business Park region that brings together education, research, industry, and entrepreneurship.\n"
     ]
    },
    {
     "name": "stderr",
     "output_type": "stream",
     "text": [
      "/home/jon/Code/school/t8/mlops-assignment-4/venv/lib/python3.11/site-packages/transformers/pipelines/base.py:1101: UserWarning: You seem to be using the pipelines sequentially on GPU. In order to maximize efficiency please use a dataset\n",
      "  warnings.warn(\n"
     ]
    },
    {
     "name": "stdout",
     "output_type": "stream",
     "text": [
      "question: What are some examples of Community Engagement and Service Learning projects that SUTD students have undertaken?\n",
      " answer:  SUTD students have undertaken various Community Engagement and Service Learning projects, such as developing assistive technology for the elderly, creating interactive exhibits for children with special needs, and implementing sustainable practices in local communities. These projects not only provide students with hands-on learning experiences but also contribute to the betterment of society.\n"
     ]
    },
    {
     "name": "stderr",
     "output_type": "stream",
     "text": [
      "/home/jon/Code/school/t8/mlops-assignment-4/venv/lib/python3.11/site-packages/transformers/pipelines/base.py:1101: UserWarning: You seem to be using the pipelines sequentially on GPU. In order to maximize efficiency please use a dataset\n",
      "  warnings.warn(\n"
     ]
    },
    {
     "name": "stdout",
     "output_type": "stream",
     "text": [
      "question: How does Community Engagement and Service Learning benefit students' personal and professional development?\n",
      " answer:  Community Engagement and Service Learning at SUTD provide students with opportunities to apply their knowledge and skills to real-world challenges, develop empathy and intercultural understanding, and build their leadership and teamwork skills. This helps students develop their full human potential, fostering life-long learning and preparing them for their future careers.\n"
     ]
    },
    {
     "name": "stderr",
     "output_type": "stream",
     "text": [
      "/home/jon/Code/school/t8/mlops-assignment-4/venv/lib/python3.11/site-packages/transformers/pipelines/base.py:1101: UserWarning: You seem to be using the pipelines sequentially on GPU. In order to maximize efficiency please use a dataset\n",
      "  warnings.warn(\n"
     ]
    },
    {
     "name": "stdout",
     "output_type": "stream",
     "text": [
      "question: Are there opportunities for international Community Engagement and Service Learning experiences?\n",
      " answer:  Yes, SUTD offers opportunities for international Community Engagement and Service Learning experiences through its Global Exchange Programme (GEXP) and summer programmes in 12 countries. These programmes allow students to engage in immersion experiences, network with students from different cultural backgrounds, and gain exposure to diverse socio-political contexts.\n"
     ]
    },
    {
     "name": "stderr",
     "output_type": "stream",
     "text": [
      "/home/jon/Code/school/t8/mlops-assignment-4/venv/lib/python3.11/site-packages/transformers/pipelines/base.py:1101: UserWarning: You seem to be using the pipelines sequentially on GPU. In order to maximize efficiency please use a dataset\n",
      "  warnings.warn(\n"
     ]
    },
    {
     "name": "stdout",
     "output_type": "stream",
     "text": [
      "question: How are Community Engagement and Service Learning projects evaluated and graded?\n",
      " answer:  Community Engagement and Service Learning projects are evaluated and graded based on the quality of the project's impact, the student's reflection on their learning, and the feedback from the community partners. The evaluation is done by a panel of faculty members and community partners, and the grades are awarded based on the project's success in achieving its intended outcomes.\n"
     ]
    },
    {
     "name": "stderr",
     "output_type": "stream",
     "text": [
      "/home/jon/Code/school/t8/mlops-assignment-4/venv/lib/python3.11/site-packages/transformers/pipelines/base.py:1101: UserWarning: You seem to be using the pipelines sequentially on GPU. In order to maximize efficiency please use a dataset\n",
      "  warnings.warn(\n"
     ]
    },
    {
     "name": "stdout",
     "output_type": "stream",
     "text": [
      "question: Can students propose their own Community Engagement and Service Learning project ideas?\n",
      " answer:  Yes! SUTD encourages students to propose their own project ideas for Community Engagement and Service Learning. The University provides resources and support for students to develop and implement their project ideas, fostering a culture of innovation and social responsibility.\n"
     ]
    },
    {
     "name": "stderr",
     "output_type": "stream",
     "text": [
      "/home/jon/Code/school/t8/mlops-assignment-4/venv/lib/python3.11/site-packages/transformers/pipelines/base.py:1101: UserWarning: You seem to be using the pipelines sequentially on GPU. In order to maximize efficiency please use a dataset\n",
      "  warnings.warn(\n"
     ]
    },
    {
     "name": "stdout",
     "output_type": "stream",
     "text": [
      "question: What resources and support are available for students participating in Community Engagement and Service Learning?\n",
      " answer:  Community Engagement and Service Learning (CESL) is an integral part of SUTD's curriculum. Students can access resources and support through the CESL Office, which provides information on community partnerships, volunteer opportunities, and service projects. The office also offers workshops and training sessions to help students develop their skills and knowledge in community engagement and service learning. Additionally, SUTD's Wellbeing Services offers counseling and mental health support to students participating in CESL.\n"
     ]
    },
    {
     "name": "stderr",
     "output_type": "stream",
     "text": [
      "/home/jon/Code/school/t8/mlops-assignment-4/venv/lib/python3.11/site-packages/transformers/pipelines/base.py:1101: UserWarning: You seem to be using the pipelines sequentially on GPU. In order to maximize efficiency please use a dataset\n",
      "  warnings.warn(\n"
     ]
    },
    {
     "name": "stdout",
     "output_type": "stream",
     "text": [
      "question: How does Community Engagement and Service Learning align with SUTD's mission and values?\n",
      " answer:  Community Engagement and Service Learning align with SUTD's mission and values by promoting the advancement and dissemination of knowledge, promoting research and scholarships, and conferring and awarding degrees, as well as fostering a human-centric approach to design that is informed, intentional, intelligent, and imaginative. Additionally, these activities support the university's vision of a better world by design, and contribute to quantifiable and experienceable design outcomes that improve lives, grow economies, and sustain our world.\n"
     ]
    },
    {
     "name": "stderr",
     "output_type": "stream",
     "text": [
      "/home/jon/Code/school/t8/mlops-assignment-4/venv/lib/python3.11/site-packages/transformers/pipelines/base.py:1101: UserWarning: You seem to be using the pipelines sequentially on GPU. In order to maximize efficiency please use a dataset\n",
      "  warnings.warn(\n"
     ]
    },
    {
     "name": "stdout",
     "output_type": "stream",
     "text": [
      "question: Are there any partnerships or collaborations with community organizations for Community Engagement and Service Learning?\n",
      " answer:  SUTD has collaborated with North West Community Development Council (CDC) and SingHealth to study the design of low carbon campuses and an integrated health campus, respectively. These partnerships aim to amplify the impact of SUTD's Sustainable Singapore Programme (SSP).\n"
     ]
    },
    {
     "name": "stderr",
     "output_type": "stream",
     "text": [
      "/home/jon/Code/school/t8/mlops-assignment-4/venv/lib/python3.11/site-packages/transformers/pipelines/base.py:1101: UserWarning: You seem to be using the pipelines sequentially on GPU. In order to maximize efficiency please use a dataset\n",
      "  warnings.warn(\n"
     ]
    },
    {
     "name": "stdout",
     "output_type": "stream",
     "text": [
      "question: What security measures are in place on campus to ensure student safety?\n",
      " answer:  The University has an effective accountability framework for examining and reviewing all systems and methods of control, as overseen by the Audit and Risk Committee, to ensure the safety of all students on campus.\n"
     ]
    },
    {
     "name": "stderr",
     "output_type": "stream",
     "text": [
      "/home/jon/Code/school/t8/mlops-assignment-4/venv/lib/python3.11/site-packages/transformers/pipelines/base.py:1101: UserWarning: You seem to be using the pipelines sequentially on GPU. In order to maximize efficiency please use a dataset\n",
      "  warnings.warn(\n"
     ]
    },
    {
     "name": "stdout",
     "output_type": "stream",
     "text": [
      "question: Is there a campus security patrol or emergency response team?\n",
      " answer:  Yes, SUTD has a campus security patrol and emergency response team to ensure the safety and well-being of students, faculty, and staff. The team is available 24/7 and can be contacted through the SUTD Store or the Contact Us page on the university's website.\n"
     ]
    },
    {
     "name": "stderr",
     "output_type": "stream",
     "text": [
      "/home/jon/Code/school/t8/mlops-assignment-4/venv/lib/python3.11/site-packages/transformers/pipelines/base.py:1101: UserWarning: You seem to be using the pipelines sequentially on GPU. In order to maximize efficiency please use a dataset\n",
      "  warnings.warn(\n"
     ]
    },
    {
     "name": "stdout",
     "output_type": "stream",
     "text": [
      "question: How are campus buildings and facilities secured after hours?\n",
      " answer:  The Singapore University of Technology and Design (SUTD) secures its campus buildings and facilities after hours through various means, including the use of access control systems, CCTV cameras, and security personnel. The specific security measures in place may vary depending on the location and the time of day.\n"
     ]
    },
    {
     "name": "stderr",
     "output_type": "stream",
     "text": [
      "/home/jon/Code/school/t8/mlops-assignment-4/venv/lib/python3.11/site-packages/transformers/pipelines/base.py:1101: UserWarning: You seem to be using the pipelines sequentially on GPU. In order to maximize efficiency please use a dataset\n",
      "  warnings.warn(\n"
     ]
    },
    {
     "name": "stdout",
     "output_type": "stream",
     "text": [
      "question: Are there security cameras or other surveillance systems installed on campus?\n",
      " answer:  SUTD has a Cyber-physical campus that combines physical and cyber interactions. The university is working on a major initiative to transform its campus and redesign its learning environment. However, there is no mention of security cameras or other surveillance systems installed on campus.\n"
     ]
    },
    {
     "name": "stderr",
     "output_type": "stream",
     "text": [
      "/home/jon/Code/school/t8/mlops-assignment-4/venv/lib/python3.11/site-packages/transformers/pipelines/base.py:1101: UserWarning: You seem to be using the pipelines sequentially on GPU. In order to maximize efficiency please use a dataset\n",
      "  warnings.warn(\n"
     ]
    },
    {
     "name": "stdout",
     "output_type": "stream",
     "text": [
      "question: What procedures are in place for reporting incidents or suspicious activities?\n",
      " answer:  SUTD has a whistleblower policy that allows employees to report any incidents or suspicious activities anonymously. The policy is available on the university's intranet and is reviewed annually by the Audit Committee. Additionally, SUTD has a dedicated hotline for reporting such incidents, which is managed by an independent third-party provider. The hotline is available 24/7 and is monitored by a team of experienced professionals who will investigate all reports received.\n"
     ]
    },
    {
     "name": "stderr",
     "output_type": "stream",
     "text": [
      "/home/jon/Code/school/t8/mlops-assignment-4/venv/lib/python3.11/site-packages/transformers/pipelines/base.py:1101: UserWarning: You seem to be using the pipelines sequentially on GPU. In order to maximize efficiency please use a dataset\n",
      "  warnings.warn(\n"
     ]
    },
    {
     "name": "stdout",
     "output_type": "stream",
     "text": [
      "question: Are there any safety education programs or resources available for students?\n",
      " answer:  Yes, SUTD has a comprehensive safety education program that includes workshops, training sessions, and online resources. The program covers topics such as emergency response procedures, fire safety, and personal safety. Additionally, SUTD has a dedicated team of safety professionals who are available to provide support and guidance to students.\n"
     ]
    },
    {
     "name": "stderr",
     "output_type": "stream",
     "text": [
      "/home/jon/Code/school/t8/mlops-assignment-4/venv/lib/python3.11/site-packages/transformers/pipelines/base.py:1101: UserWarning: You seem to be using the pipelines sequentially on GPU. In order to maximize efficiency please use a dataset\n",
      "  warnings.warn(\n"
     ]
    },
    {
     "name": "stdout",
     "output_type": "stream",
     "text": [
      "question: How is access to campus controlled or monitored?\n",
      " answer:  SUTD has a robust security system in place to control and monitor access to the campus. This includes the use of smart cards, biometric scanning, and CCTV cameras to monitor all entrances and exits. Additionally, the university has a strict visitor policy and all visitors must register with security personnel before entering the campus.\n"
     ]
    },
    {
     "name": "stderr",
     "output_type": "stream",
     "text": [
      "/home/jon/Code/school/t8/mlops-assignment-4/venv/lib/python3.11/site-packages/transformers/pipelines/base.py:1101: UserWarning: You seem to be using the pipelines sequentially on GPU. In order to maximize efficiency please use a dataset\n",
      "  warnings.warn(\n"
     ]
    },
    {
     "name": "stdout",
     "output_type": "stream",
     "text": [
      "question: What measures are taken to ensure the safety of students living on campus?\n",
      " answer:  \n",
      "The University has a Residential Life program that provides a safe and supportive living environment for students. The program includes a range of activities and events designed to promote student well-being and community engagement. Additionally, the University has a 24/7 security team that monitors the campus and provides assistance to students as needed.\n"
     ]
    },
    {
     "name": "stderr",
     "output_type": "stream",
     "text": [
      "/home/jon/Code/school/t8/mlops-assignment-4/venv/lib/python3.11/site-packages/transformers/pipelines/base.py:1101: UserWarning: You seem to be using the pipelines sequentially on GPU. In order to maximize efficiency please use a dataset\n",
      "  warnings.warn(\n"
     ]
    },
    {
     "name": "stdout",
     "output_type": "stream",
     "text": [
      "question: Are there any safety apps or emergency notification systems in place?\n",
      " answer:  Yes, SUTD has a safety app called SafeSUTD that allows students to quickly contact security and emergency services in case of an emergency. Additionally, the university has an emergency notification system that can send alerts to students, faculty, and staff in the event of a crisis.\n"
     ]
    },
    {
     "name": "stderr",
     "output_type": "stream",
     "text": [
      "/home/jon/Code/school/t8/mlops-assignment-4/venv/lib/python3.11/site-packages/transformers/pipelines/base.py:1101: UserWarning: You seem to be using the pipelines sequentially on GPU. In order to maximize efficiency please use a dataset\n",
      "  warnings.warn(\n"
     ]
    },
    {
     "name": "stdout",
     "output_type": "stream",
     "text": [
      "question: What is the university's policy on weapons or other prohibited items on campus?\n",
      " answer:  Based on the context provided, the Singapore University of Technology and Design (SUTD) does not have any policies or restrictions on weapons or other prohibited items on campus, as the university is limited by guarantee with no share capital and is funded mainly by grants received from the Ministry of Education.\n"
     ]
    }
   ],
   "source": [
    "# Now create answers to questions using the RAG pipeline\n",
    "\n",
    "# QUESTION: For every question, generate an answer using the RAG system\n",
    "# Store all answers in a list of strings 'answers_all'\n",
    "# Extra points: check that there is diversity in the generated questions, i.e. they are not all the same or too similar.\n",
    "# You can achieve this by checking that questions are not too similar to each other\n",
    "\n",
    "answers_all = []\n",
    "\n",
    "#--- ADD YOUR SOLUTION HERE (10 points)---\n",
    "for question in questions_all:\n",
    "  answer = rag_chain.invoke(question)\n",
    "  print(f\"question: {question}\\n answer: {answer}\")\n",
    "  answers_all.append(answer)\n",
    "\n",
    "#---------------------------------"
   ]
  },
  {
   "cell_type": "code",
   "execution_count": 26,
   "id": "439adc5a-0297-4740-b2fb-180491816810",
   "metadata": {},
   "outputs": [
    {
     "name": "stdout",
     "output_type": "stream",
     "text": [
      "File answers.txt exists. skip\n"
     ]
    }
   ],
   "source": [
    "# save a copy of the answers to disk\n",
    "\n",
    "if not os.path.exists(\"./part1-outputs/answers.txt\"):\n",
    "    print(\"Write all answers to answers.txt\")\n",
    "    with open(\"./part1-outputs/answers.txt\", \"w\") as fout:\n",
    "        fout.write(\"\\n\\n\\n\\n\\n\\n\".join(answers_all))\n",
    "else:\n",
    "      print(\"File answers.txt exists. skip\")\n",
    "      with open(\"./part1-outputs/answers.txt\", \"r\") as fin:\n",
    "          answers_all = fin.read().split(\"\\n\\n\\n\\n\\n\\n\")"
   ]
  },
  {
   "cell_type": "code",
   "execution_count": 20,
   "id": "465c3e8d",
   "metadata": {},
   "outputs": [
    {
     "data": {
      "text/plain": [
       "200"
      ]
     },
     "execution_count": 20,
     "metadata": {},
     "output_type": "execute_result"
    }
   ],
   "source": [
    "len(questions_all)"
   ]
  },
  {
   "cell_type": "code",
   "execution_count": 27,
   "id": "8ee669ac",
   "metadata": {},
   "outputs": [
    {
     "data": {
      "text/plain": [
       "200"
      ]
     },
     "execution_count": 27,
     "metadata": {},
     "output_type": "execute_result"
    }
   ],
   "source": [
    "len(answers_all)"
   ]
  },
  {
   "cell_type": "code",
   "execution_count": null,
   "id": "ddf2af18-619b-46ef-969e-7e3a61d9a743",
   "metadata": {},
   "outputs": [],
   "source": [
    "# create huggingface dataset to make it easier to work with the data\n",
    "\n",
    "# QUESTION: create a huggingface dataset object with the keys 'question' and 'answer' and the questions and answers you have generated, respectively\n",
    "# shuffle the dataset. use a fixed seed.\n",
    "\n",
    "#--- ADD YOUR SOLUTION HERE (5 points)---\n",
    "from datasets import load_dataset, Dataset\n",
    "data = {'question': questions_all, 'answer': answers_all}\n",
    "sutd_qa_dataset = Dataset.from_dict(data)\n",
    "#---------------------------------\n"
   ]
  },
  {
   "cell_type": "code",
   "execution_count": null,
   "id": "7dde2384-5629-4a22-a3a0-f4c4e8a373dc",
   "metadata": {},
   "outputs": [
    {
     "data": {
      "text/plain": [
       "Dataset({\n",
       "    features: ['question', 'answer'],\n",
       "    num_rows: 200\n",
       "})"
      ]
     },
     "execution_count": 32,
     "metadata": {},
     "output_type": "execute_result"
    }
   ],
   "source": [
    "# inspect schema and size of dataset\n",
    "sutd_qa_dataset"
   ]
  },
  {
   "cell_type": "code",
   "execution_count": null,
   "id": "b5741823-4129-487e-8c93-3c8f891abe46",
   "metadata": {},
   "outputs": [
    {
     "data": {
      "text/plain": [
       "{'question': 'What are the core academic programs offered at SUTD?',\n",
       " 'answer': ' SUTD offers a range of core academic programs, including undergraduate and graduate programs in fields such as engineering, architecture, and innovation by design. These programs are designed to provide students with a well-rounded education that combines technical skills with creative problem-solving and critical thinking. Some of the specific programs offered include the Bachelor of Engineering (Architectural and Engineering Systems), the Bachelor of Science in Computer Science and Engineering, and the Master of Science in Security by Design.'}"
      ]
     },
     "execution_count": 33,
     "metadata": {},
     "output_type": "execute_result"
    }
   ],
   "source": [
    "# inspect first instance\n",
    "sutd_qa_dataset[0]"
   ]
  },
  {
   "cell_type": "code",
   "execution_count": null,
   "id": "e5ad1864-123b-428f-ad9d-09a215541721",
   "metadata": {},
   "outputs": [],
   "source": [
    "# save dataset to disk\n",
    "with open('sutd_qa_dataset.pkl', 'wb') as f:\n",
    "    pickle.dump(sutd_qa_dataset, f)"
   ]
  },
  {
   "cell_type": "code",
   "execution_count": null,
   "id": "f150acba-379d-474b-8025-fd961118e73f",
   "metadata": {},
   "outputs": [
    {
     "name": "stdout",
     "output_type": "stream",
     "text": [
      "Token has not been saved to git credential helper. Pass `add_to_git_credential=True` if you want to set the git credential as well.\n"
     ]
    },
    {
     "ename": "ValueError",
     "evalue": "Invalid token passed!",
     "output_type": "error",
     "traceback": [
      "\u001b[0;31m---------------------------------------------------------------------------\u001b[0m",
      "\u001b[0;31mValueError\u001b[0m                                Traceback (most recent call last)",
      "Cell \u001b[0;32mIn[35], line 7\u001b[0m\n\u001b[1;32m      3\u001b[0m \u001b[38;5;66;03m# log in to huggingface, you need to put your huggingface access token\u001b[39;00m\n\u001b[1;32m      4\u001b[0m \u001b[38;5;66;03m# https://huggingface.co/docs/hub/en/security-tokens\u001b[39;00m\n\u001b[1;32m      6\u001b[0m hf_access_token \u001b[38;5;241m=\u001b[39m \u001b[38;5;124m\"\u001b[39m\u001b[38;5;124m<YOUR HF WRITE ACCESS TOKEN>\u001b[39m\u001b[38;5;124m\"\u001b[39m\n\u001b[0;32m----> 7\u001b[0m \u001b[43mlogin\u001b[49m\u001b[43m(\u001b[49m\u001b[43mtoken\u001b[49m\u001b[38;5;241;43m=\u001b[39;49m\u001b[43mhf_access_token\u001b[49m\u001b[43m)\u001b[49m\n",
      "File \u001b[0;32m~/Code/school/t8/mlops-assignment-4/venv/lib/python3.11/site-packages/huggingface_hub/_login.py:110\u001b[0m, in \u001b[0;36mlogin\u001b[0;34m(token, add_to_git_credential, new_session, write_permission)\u001b[0m\n\u001b[1;32m    104\u001b[0m     \u001b[38;5;28;01mif\u001b[39;00m \u001b[38;5;129;01mnot\u001b[39;00m add_to_git_credential:\n\u001b[1;32m    105\u001b[0m         \u001b[38;5;28mprint\u001b[39m(\n\u001b[1;32m    106\u001b[0m             \u001b[38;5;124m\"\u001b[39m\u001b[38;5;124mToken has not been saved to git credential helper. Pass\u001b[39m\u001b[38;5;124m\"\u001b[39m\n\u001b[1;32m    107\u001b[0m             \u001b[38;5;124m\"\u001b[39m\u001b[38;5;124m `add_to_git_credential=True` if you want to set the git\u001b[39m\u001b[38;5;124m\"\u001b[39m\n\u001b[1;32m    108\u001b[0m             \u001b[38;5;124m\"\u001b[39m\u001b[38;5;124m credential as well.\u001b[39m\u001b[38;5;124m\"\u001b[39m\n\u001b[1;32m    109\u001b[0m         )\n\u001b[0;32m--> 110\u001b[0m     \u001b[43m_login\u001b[49m\u001b[43m(\u001b[49m\u001b[43mtoken\u001b[49m\u001b[43m,\u001b[49m\u001b[43m \u001b[49m\u001b[43madd_to_git_credential\u001b[49m\u001b[38;5;241;43m=\u001b[39;49m\u001b[43madd_to_git_credential\u001b[49m\u001b[43m,\u001b[49m\u001b[43m \u001b[49m\u001b[43mwrite_permission\u001b[49m\u001b[38;5;241;43m=\u001b[39;49m\u001b[43mwrite_permission\u001b[49m\u001b[43m)\u001b[49m\n\u001b[1;32m    111\u001b[0m \u001b[38;5;28;01melif\u001b[39;00m is_notebook():\n\u001b[1;32m    112\u001b[0m     notebook_login(new_session\u001b[38;5;241m=\u001b[39mnew_session, write_permission\u001b[38;5;241m=\u001b[39mwrite_permission)\n",
      "File \u001b[0;32m~/Code/school/t8/mlops-assignment-4/venv/lib/python3.11/site-packages/huggingface_hub/_login.py:306\u001b[0m, in \u001b[0;36m_login\u001b[0;34m(token, add_to_git_credential, write_permission)\u001b[0m\n\u001b[1;32m    304\u001b[0m permission \u001b[38;5;241m=\u001b[39m get_token_permission(token)\n\u001b[1;32m    305\u001b[0m \u001b[38;5;28;01mif\u001b[39;00m permission \u001b[38;5;129;01mis\u001b[39;00m \u001b[38;5;28;01mNone\u001b[39;00m:\n\u001b[0;32m--> 306\u001b[0m     \u001b[38;5;28;01mraise\u001b[39;00m \u001b[38;5;167;01mValueError\u001b[39;00m(\u001b[38;5;124m\"\u001b[39m\u001b[38;5;124mInvalid token passed!\u001b[39m\u001b[38;5;124m\"\u001b[39m)\n\u001b[1;32m    307\u001b[0m \u001b[38;5;28;01melif\u001b[39;00m write_permission \u001b[38;5;129;01mand\u001b[39;00m permission \u001b[38;5;241m!=\u001b[39m \u001b[38;5;124m\"\u001b[39m\u001b[38;5;124mwrite\u001b[39m\u001b[38;5;124m\"\u001b[39m:\n\u001b[1;32m    308\u001b[0m     \u001b[38;5;28;01mraise\u001b[39;00m \u001b[38;5;167;01mValueError\u001b[39;00m(\n\u001b[1;32m    309\u001b[0m         \u001b[38;5;124m\"\u001b[39m\u001b[38;5;124mToken is valid but is \u001b[39m\u001b[38;5;124m'\u001b[39m\u001b[38;5;124mread-only\u001b[39m\u001b[38;5;124m'\u001b[39m\u001b[38;5;124m and a \u001b[39m\u001b[38;5;124m'\u001b[39m\u001b[38;5;124mwrite\u001b[39m\u001b[38;5;124m'\u001b[39m\u001b[38;5;124m token is required.\u001b[39m\u001b[38;5;130;01m\\n\u001b[39;00m\u001b[38;5;124mPlease provide a new token with\u001b[39m\u001b[38;5;124m\"\u001b[39m\n\u001b[1;32m    310\u001b[0m         \u001b[38;5;124m\"\u001b[39m\u001b[38;5;124m correct permission.\u001b[39m\u001b[38;5;124m\"\u001b[39m\n\u001b[1;32m    311\u001b[0m     )\n",
      "\u001b[0;31mValueError\u001b[0m: Invalid token passed!"
     ]
    }
   ],
   "source": [
    "from huggingface_hub import login\n",
    "\n",
    "# log in to huggingface, you need to put your huggingface access token\n",
    "# https://huggingface.co/docs/hub/en/security-tokens\n",
    "\n",
    "hf_access_token = \"<YOUR HF WRITE ACCESS TOKEN>\"\n",
    "login(token=hf_access_token)"
   ]
  },
  {
   "cell_type": "code",
   "execution_count": null,
   "id": "82e3932e-4a76-4693-bc41-daf0d1197f2e",
   "metadata": {},
   "outputs": [
    {
     "name": "stderr",
     "output_type": "stream",
     "text": [
      "Creating parquet from Arrow format: 100%|██████████| 1/1 [00:00<00:00, 287.01ba/s]\n",
      "Uploading the dataset shards: 100%|██████████| 1/1 [00:01<00:00,  1.68s/it]\n",
      "/Users/jon/code/school/t8/mlops/assignments/4/venv/lib/python3.11/site-packages/huggingface_hub/utils/_deprecation.py:131: FutureWarning: 'list_files_info' (from 'huggingface_hub.hf_api') is deprecated and will be removed from version '0.23'. Use `list_repo_tree` and `get_paths_info` instead.\n",
      "  warnings.warn(warning_message, FutureWarning)\n"
     ]
    }
   ],
   "source": [
    "# push dataset to huggingface\n",
    "sutd_qa_dataset.push_to_hub(\"sutd_qa_dataset\")\n",
    "\n"
   ]
  },
  {
   "cell_type": "markdown",
   "id": "3ed3393b-fbbe-47a6-8ec8-3e729550e1b6",
   "metadata": {},
   "source": [
    "### This concludes the first part of the assignment. Continue with the next part"
   ]
  }
 ],
 "metadata": {
  "kernelspec": {
   "display_name": "Python 3 (ipykernel)",
   "language": "python",
   "name": "python3"
  },
  "language_info": {
   "codemirror_mode": {
    "name": "ipython",
    "version": 3
   },
   "file_extension": ".py",
   "mimetype": "text/x-python",
   "name": "python",
   "nbconvert_exporter": "python",
   "pygments_lexer": "ipython3",
   "version": "3.11.5"
  }
 },
 "nbformat": 4,
 "nbformat_minor": 5
}
